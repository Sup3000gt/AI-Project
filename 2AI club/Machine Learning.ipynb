{
 "cells": [
  {
   "cell_type": "markdown",
   "id": "66fc1f49",
   "metadata": {},
   "source": [
    "When do we use machine learning\n",
    "Recognizing patterns:\n",
    "- facial identities \n",
    "- handwritten or spoken words\n",
    "- medical images\n",
    "\n",
    "Generating patterns:\n",
    "\n",
    "Recognizing anomalies:\n",
    "\n",
    "Prediction:\n",
    "- future stock prices or currency exchange rates\n",
    "\n",
    "DL inside ML, ML inside AI\n",
    "\n",
    "Machine Learning - any process by which a system improves performace from experience.\n",
    "\n",
    "Machine Learning - Field of study that gives computer the ability to learn without being explicity programmed.\n",
    "\n",
    "\n",
    "Traditiona: feed Data and program --- output\n",
    "\n",
    "ML : feed data and output ---- program\n",
    "\n",
    "ML --Study of algorithms that improve their improves\n",
    "\n",
    "ML -- looking for a suitable function is the core of machine learning\n",
    "\n",
    "Supervised learning\n",
    "- given training data + desired outputs(label)\n",
    "\n",
    "Unsupervised learning\n",
    "- given training data (without desired outpus)\n",
    "\n",
    "reinforcement learning\n",
    "- rewards from sequence of actions\n",
    "\n",
    "ML algorithim\n",
    "- Linear Regression\n",
    "- logistic Regression \n",
    "- Supported Vector Machine (SVM)\n",
    "- Decision Tree\n",
    "- Random Forest\n",
    "\n"
   ]
  },
  {
   "cell_type": "code",
   "execution_count": 2,
   "id": "bc69dfbd",
   "metadata": {},
   "outputs": [],
   "source": [
    "from sklearn import svm"
   ]
  },
  {
   "cell_type": "code",
   "execution_count": 3,
   "id": "c9c404c4",
   "metadata": {},
   "outputs": [],
   "source": [
    "x = [[0,1],[1,2],[2,1],[2,3],[1,3],[2,3]]"
   ]
  },
  {
   "cell_type": "code",
   "execution_count": 4,
   "id": "d2a1e669",
   "metadata": {},
   "outputs": [],
   "source": [
    "y = ['a','a','b','b','a','b']"
   ]
  },
  {
   "cell_type": "code",
   "execution_count": 5,
   "id": "df992019",
   "metadata": {},
   "outputs": [],
   "source": [
    "classfi = svm.SVC()"
   ]
  },
  {
   "cell_type": "code",
   "execution_count": 7,
   "id": "91789825",
   "metadata": {},
   "outputs": [
    {
     "data": {
      "text/plain": [
       "SVC()"
      ]
     },
     "execution_count": 7,
     "metadata": {},
     "output_type": "execute_result"
    }
   ],
   "source": [
    "classfi.fit(x,y)"
   ]
  },
  {
   "cell_type": "code",
   "execution_count": 9,
   "id": "68761851",
   "metadata": {},
   "outputs": [],
   "source": [
    "result = classfi.predict([[3,1]])"
   ]
  },
  {
   "cell_type": "code",
   "execution_count": 10,
   "id": "81da766c",
   "metadata": {},
   "outputs": [
    {
     "name": "stdout",
     "output_type": "stream",
     "text": [
      "['b']\n"
     ]
    }
   ],
   "source": [
    "print(result)"
   ]
  },
  {
   "cell_type": "markdown",
   "id": "6a666cf4",
   "metadata": {},
   "source": [
    "deep neural network-- deep means many hidden layers\n",
    "Good function - Loss as small as possible\n",
    "\n",
    "\n",
    "\n",
    "\n",
    "\n",
    "\n",
    "\n",
    "\n",
    "\n",
    "\n",
    "\n",
    "\n",
    "\n",
    "\n",
    "\n",
    "\n",
    "\n",
    "\n",
    "\n",
    "\n",
    "\n",
    "\n",
    "\n"
   ]
  },
  {
   "cell_type": "code",
   "execution_count": null,
   "id": "65e14741",
   "metadata": {},
   "outputs": [],
   "source": []
  },
  {
   "cell_type": "code",
   "execution_count": null,
   "id": "a3c7ba62",
   "metadata": {},
   "outputs": [],
   "source": []
  },
  {
   "cell_type": "code",
   "execution_count": null,
   "id": "187b2e79",
   "metadata": {},
   "outputs": [],
   "source": []
  }
 ],
 "metadata": {
  "kernelspec": {
   "display_name": "Python 3 (ipykernel)",
   "language": "python",
   "name": "python3"
  },
  "language_info": {
   "codemirror_mode": {
    "name": "ipython",
    "version": 3
   },
   "file_extension": ".py",
   "mimetype": "text/x-python",
   "name": "python",
   "nbconvert_exporter": "python",
   "pygments_lexer": "ipython3",
   "version": "3.9.13"
  }
 },
 "nbformat": 4,
 "nbformat_minor": 5
}
