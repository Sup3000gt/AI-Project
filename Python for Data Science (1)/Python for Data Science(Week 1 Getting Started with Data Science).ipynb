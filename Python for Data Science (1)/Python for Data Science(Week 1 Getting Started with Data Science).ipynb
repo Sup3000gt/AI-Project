{
 "cells": [
  {
   "cell_type": "markdown",
   "id": "85f1e908",
   "metadata": {},
   "source": [
    "### Step1: Acquiring Data"
   ]
  },
  {
   "cell_type": "markdown",
   "id": "21312d68",
   "metadata": {},
   "source": [
    "- identify datasets\n",
    "- retrieve datasets\n",
    "- Query data"
   ]
  },
  {
   "cell_type": "markdown",
   "id": "10e06564",
   "metadata": {},
   "source": [
    "### Step2: Prepare Data\n",
    "#### Two main goal in the data pre-processing steps"
   ]
  },
  {
   "cell_type": "markdown",
   "id": "de6f914a",
   "metadata": {},
   "source": [
    "#### Clean + Transform\n",
    "clean the data, and transform to the format that is ready for analysis\n",
    "Real world data is messy!\n",
    "- Inconsistent values\n",
    "- Duplicate records\n",
    "- Missing values\n",
    "- Invalid data\n",
    "- Outliers"
   ]
  },
  {
   "cell_type": "markdown",
   "id": "720a9d0a",
   "metadata": {},
   "source": [
    "#### Addressing Data Quality Issues\n",
    "- Remove data with missing values\n",
    "- Merge duplicates\n",
    "- Generate best estimate for invalid values\n",
    "- Remove outliers"
   ]
  },
  {
   "cell_type": "markdown",
   "id": "9a731934",
   "metadata": {},
   "source": [
    "#### Data Munging\n",
    "- Dimensionality Reduction\n",
    "- Data Manipulation\n",
    "- Transformation\n",
    "- Feature Selection\n",
    "- Scaling"
   ]
  },
  {
   "cell_type": "markdown",
   "id": "fbef47da",
   "metadata": {},
   "source": [
    "### Step 3: Analyze Data\n"
   ]
  },
  {
   "cell_type": "markdown",
   "id": "5edd0ca7",
   "metadata": {},
   "source": [
    "- Build Model\n",
    "- Input Data\n",
    "- Analysis Technique\n",
    "- Model\n",
    "- Model Output"
   ]
  },
  {
   "cell_type": "markdown",
   "id": "c74a26e2",
   "metadata": {},
   "source": [
    "#### Categories of Analysis Techniques"
   ]
  },
  {
   "cell_type": "markdown",
   "id": "a4c73242",
   "metadata": {},
   "source": [
    "- Classification\n",
    "    - Goal: Predict category\n",
    "- Regression\n",
    "    - Goal: Predict numeric value\n",
    "- Clustering\n",
    "    - Goal: Organize similar items into groups\n",
    "- Graph Analytics\n",
    "    - Goal: Use graph structures to find connections between entities\n",
    "- Association Analysis\n",
    "    - Goal: Find rules to capture associations between items"
   ]
  },
  {
   "cell_type": "markdown",
   "id": "05cef5b3",
   "metadata": {},
   "source": [
    "### Step4: Communicate Results\n"
   ]
  },
  {
   "cell_type": "markdown",
   "id": "93a302b0",
   "metadata": {},
   "source": [
    "#### Make analysis in pair of answers with question\n",
    "- determined what are the most important data from the data set\n",
    "- Visualization your data for better understanding \n",
    "    - tableau\n",
    "    - google developers charts\n",
    "    - Timeline(JS)\n",
    "    - python (JupyterNoteBook)"
   ]
  },
  {
   "cell_type": "markdown",
   "id": "7309b90e",
   "metadata": {},
   "source": [
    "### Step5: Apply Results"
   ]
  },
  {
   "cell_type": "markdown",
   "id": "252bf818",
   "metadata": {},
   "source": [
    "#### Implementation\n",
    "- Process\n",
    "- Stakeholders\n",
    "- Automation"
   ]
  },
  {
   "cell_type": "markdown",
   "id": "b64cdf0e",
   "metadata": {},
   "source": [
    "#### Evaluation\n",
    "- favoable result\n",
    "- revisit\n",
    "- further opportunities\n"
   ]
  },
  {
   "cell_type": "code",
   "execution_count": null,
   "id": "e5caf1e7",
   "metadata": {},
   "outputs": [],
   "source": []
  },
  {
   "cell_type": "code",
   "execution_count": null,
   "id": "066615d1",
   "metadata": {},
   "outputs": [],
   "source": []
  },
  {
   "cell_type": "code",
   "execution_count": null,
   "id": "10ccba5b",
   "metadata": {},
   "outputs": [],
   "source": []
  },
  {
   "cell_type": "code",
   "execution_count": null,
   "id": "4399bfe9",
   "metadata": {},
   "outputs": [],
   "source": []
  },
  {
   "cell_type": "code",
   "execution_count": null,
   "id": "e1418dab",
   "metadata": {},
   "outputs": [],
   "source": []
  }
 ],
 "metadata": {
  "kernelspec": {
   "display_name": "Python 3 (ipykernel)",
   "language": "python",
   "name": "python3"
  },
  "language_info": {
   "codemirror_mode": {
    "name": "ipython",
    "version": 3
   },
   "file_extension": ".py",
   "mimetype": "text/x-python",
   "name": "python",
   "nbconvert_exporter": "python",
   "pygments_lexer": "ipython3",
   "version": "3.9.13"
  }
 },
 "nbformat": 4,
 "nbformat_minor": 5
}
