{
 "cells": [
  {
   "cell_type": "markdown",
   "id": "1ffe933a",
   "metadata": {},
   "source": [
    "### intelligent_agents\n",
    "- agent is an entity that perceives the environment through sensor and take actions through actuators\n",
    "- 在人工智能中，代理（agent）是指一个能够在环境中感知和行动的实体，通常用于描述一个能够独立决策、执行任务或解决问题的计算机程序或机器人系统。代理通常由以下三个主要组成部分组成：\n",
    "    - 感知器：感知器是代理与环境交互的接口，负责接收来自环境的输入并将其转换为计算机可处理的形式.\n",
    "    - 决策器：决策器是代理的智能核心，负责根据当前的输入和内部的状态，制定下一步的行动方案或决策.\n",
    "    - 执行器：执行器是代理与环境交互的输出接口，负责将决策器制定的行动方案转换为能够影响环境的物理动作或计算机指令."
   ]
  },
  {
   "cell_type": "markdown",
   "id": "8b3a4df9",
   "metadata": {},
   "source": [
    "### Rational agent\n",
    "- 一个在给定环境中最大化预期效用的代理。换句话说，一个理性代理会根据其感知到的环境信息和已知的知识，选择能够使其达到预期目标或获得最大效益的行动。\n",
    "    - an agent doing the right thing\n",
    "    - agent will maximize the expected value\n"
   ]
  },
  {
   "cell_type": "markdown",
   "id": "955ff5ad",
   "metadata": {},
   "source": [
    "### Three types of learning\n",
    "- supervised learning\n",
    "    - giving input and output, computer learning to mapping them\n",
    "- unsupervised learning\n",
    "    - giving input, agent learns pattern without output\n",
    "- reinforcement learning\n",
    "    - active with environment, learns from a series of reinforcements\n",
    "    - rewards or punishments"
   ]
  },
  {
   "cell_type": "markdown",
   "id": "84254056",
   "metadata": {},
   "source": [
    "### What is Artificial Intelligence?\n",
    "- the ability of a computer to perform tasks commonly associated with intelligent beings"
   ]
  },
  {
   "cell_type": "markdown",
   "id": "7defed31",
   "metadata": {},
   "source": [
    "### Classical Programming vs. Machine Learning\n",
    "- Traditional \n",
    "    - programmer giving the rule and input, computer give output\n",
    "- Machine Learning\n",
    "    - giving input and output, computer figure out the rule or program\n"
   ]
  },
  {
   "cell_type": "markdown",
   "id": "cd5fe6ee",
   "metadata": {},
   "source": [
    "### Neuron\n",
    "-  is a basic computation unit received input from others and performs weighted sum of these input and apply activation function to produce the output"
   ]
  },
  {
   "cell_type": "markdown",
   "id": "bd2d2516",
   "metadata": {},
   "source": [
    "### Learning Rules from Data\n",
    "- A machine learning model transforms its input data into a meaningful output\n",
    "- to learn useful representations of the input data representations that get us closer to the expected output"
   ]
  },
  {
   "cell_type": "markdown",
   "id": "3b89a022",
   "metadata": {},
   "source": [
    "### Three things need for machine learning\n",
    "- input data\n",
    "- expect output\n",
    "- a way to measure the model or algorithm performance\n",
    "    - The measurement is used as a feedback signal to adjust the way the algorithm works. This adjustment step is what we call learning.\n"
   ]
  },
  {
   "cell_type": "markdown",
   "id": "4b5f3a4f",
   "metadata": {},
   "source": [
    "### What is Machine Learning?\n",
    "- Learning, in the context of ML, describes an automatic search process for data transformations\n",
    "- A machine learning model transforms its input data into a meaningful output, a process which is \"learned\" from exposure to known examples of inputs and outputs."
   ]
  },
  {
   "cell_type": "markdown",
   "id": "0b201aea",
   "metadata": {},
   "source": [
    "### What does Deep mean in DL?\n",
    "- Deep learning is a specific subfield of machine learning\n",
    "- successive layers of representations—how many layers contribute to a model of the data is called the \"depth\" of the model\n",
    "- The layered representations are learned via models called Neural Networks/Artificial Neural Networks"
   ]
  },
  {
   "cell_type": "markdown",
   "id": "49f7fcaf",
   "metadata": {},
   "source": [
    "#### ML\n",
    "- mapping input with output\n",
    "\n",
    "#### DL\n",
    "- deep/long sequence of simple data transformations (called \"layers\")"
   ]
  },
  {
   "cell_type": "markdown",
   "id": "33eb6fd5",
   "metadata": {},
   "source": [
    "### The 4 Key Components\n",
    "- input data and correspond target/output\n",
    "- Layers (input layer,hidden layer, output layer)\n",
    "    - A neural network is a stack of layers, which are parameterized by weights\n",
    "    - A layer is a data-processing module that takes as input some data and that outputs transformed data\n",
    "- the loss function, which defines the feedback signal used for learning\n",
    "    - measures the quality of the network’s output\n",
    "- The optimizer, which determines how learning proceeds\n",
    "    - determines how the network will be updated based on the loss function\n"
   ]
  },
  {
   "cell_type": "code",
   "execution_count": 1,
   "id": "3cb1cf10",
   "metadata": {},
   "outputs": [
    {
     "ename": "SyntaxError",
     "evalue": "illegal target for annotation (2047930571.py, line 1)",
     "output_type": "error",
     "traceback": [
      "\u001b[1;36m  File \u001b[1;32m\"C:\\Users\\alan\\AppData\\Local\\Temp\\ipykernel_36336\\2047930571.py\"\u001b[1;36m, line \u001b[1;32m1\u001b[0m\n\u001b[1;33m    dropna(): DataFrame.dropna(axis=0, how='any', thresh=None, subset=None, inplace=False)\u001b[0m\n\u001b[1;37m    ^\u001b[0m\n\u001b[1;31mSyntaxError\u001b[0m\u001b[1;31m:\u001b[0m illegal target for annotation\n"
     ]
    }
   ],
   "source": [
    "dropna(): DataFrame.dropna(axis=0, how='any', thresh=None, subset=None, inplace=False)\n",
    "fillna(): DataFrame.fillna(value=None, method=None, axis=None, inplace=False, limit=None, downcast=None)\n",
    "replace(): DataFrame.replace(to_replace=None, value=None, inplace=False, limit=None, regex=False, method='pad')\n",
    "duplicated(): DataFrame.duplicated(subset=None, keep='first')\n",
    "drop_duplicates(): DataFrame.drop_duplicates(subset=None, keep='first', inplace=False, ignore_index=False)\n",
    "str.strip(): Series.str.strip(to_strip=None)\n",
    "str.lower(): Series.str.lower()\n",
    "str.upper(): Series.str.upper()\n",
    "rename(): DataFrame.rename(mapper=None, index=None, columns=None, axis=None, copy=True, inplace=False, level=None, errors='raise')\n",
    "astype(): DataFrame.astype(dtype, copy=True, errors='raise')"
   ]
  },
  {
   "cell_type": "code",
   "execution_count": null,
   "id": "6d0d582c",
   "metadata": {},
   "outputs": [],
   "source": []
  }
 ],
 "metadata": {
  "kernelspec": {
   "display_name": "Python 3 (ipykernel)",
   "language": "python",
   "name": "python3"
  },
  "language_info": {
   "codemirror_mode": {
    "name": "ipython",
    "version": 3
   },
   "file_extension": ".py",
   "mimetype": "text/x-python",
   "name": "python",
   "nbconvert_exporter": "python",
   "pygments_lexer": "ipython3",
   "version": "3.9.13"
  }
 },
 "nbformat": 4,
 "nbformat_minor": 5
}
