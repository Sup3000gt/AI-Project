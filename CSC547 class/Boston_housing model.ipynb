{
 "cells": [
  {
   "cell_type": "markdown",
   "id": "12105023",
   "metadata": {},
   "source": [
    "### Regression\n",
    "- what temperature will be tomorrow?"
   ]
  },
  {
   "cell_type": "markdown",
   "id": "b1bef838",
   "metadata": {},
   "source": [
    "### Classification\n",
    "\n",
    "- tomorrow will be hot or cold?"
   ]
  },
  {
   "cell_type": "code",
   "execution_count": 130,
   "id": "b4bb1d73",
   "metadata": {},
   "outputs": [],
   "source": [
    "from keras.datasets import boston_housing\n",
    "from sklearn.preprocessing import StandardScaler\n",
    "import pandas as pd"
   ]
  },
  {
   "cell_type": "code",
   "execution_count": 131,
   "id": "59a924e3",
   "metadata": {},
   "outputs": [],
   "source": [
    "(train_data,train_targets),(test_data,test_targets) = boston_housing.load_data()"
   ]
  },
  {
   "cell_type": "code",
   "execution_count": 132,
   "id": "08eec41c",
   "metadata": {},
   "outputs": [
    {
     "data": {
      "text/html": [
       "<div>\n",
       "<style scoped>\n",
       "    .dataframe tbody tr th:only-of-type {\n",
       "        vertical-align: middle;\n",
       "    }\n",
       "\n",
       "    .dataframe tbody tr th {\n",
       "        vertical-align: top;\n",
       "    }\n",
       "\n",
       "    .dataframe thead th {\n",
       "        text-align: right;\n",
       "    }\n",
       "</style>\n",
       "<table border=\"1\" class=\"dataframe\">\n",
       "  <thead>\n",
       "    <tr style=\"text-align: right;\">\n",
       "      <th></th>\n",
       "      <th>0</th>\n",
       "      <th>1</th>\n",
       "      <th>2</th>\n",
       "      <th>3</th>\n",
       "      <th>4</th>\n",
       "      <th>5</th>\n",
       "      <th>6</th>\n",
       "      <th>7</th>\n",
       "      <th>8</th>\n",
       "      <th>9</th>\n",
       "      <th>10</th>\n",
       "      <th>11</th>\n",
       "      <th>12</th>\n",
       "    </tr>\n",
       "  </thead>\n",
       "  <tbody>\n",
       "    <tr>\n",
       "      <th>0</th>\n",
       "      <td>1.23247</td>\n",
       "      <td>0.0</td>\n",
       "      <td>8.14</td>\n",
       "      <td>0.0</td>\n",
       "      <td>0.5380</td>\n",
       "      <td>6.142</td>\n",
       "      <td>91.7</td>\n",
       "      <td>3.9769</td>\n",
       "      <td>4.0</td>\n",
       "      <td>307.0</td>\n",
       "      <td>21.0</td>\n",
       "      <td>396.90</td>\n",
       "      <td>18.72</td>\n",
       "    </tr>\n",
       "    <tr>\n",
       "      <th>1</th>\n",
       "      <td>0.02177</td>\n",
       "      <td>82.5</td>\n",
       "      <td>2.03</td>\n",
       "      <td>0.0</td>\n",
       "      <td>0.4150</td>\n",
       "      <td>7.610</td>\n",
       "      <td>15.7</td>\n",
       "      <td>6.2700</td>\n",
       "      <td>2.0</td>\n",
       "      <td>348.0</td>\n",
       "      <td>14.7</td>\n",
       "      <td>395.38</td>\n",
       "      <td>3.11</td>\n",
       "    </tr>\n",
       "    <tr>\n",
       "      <th>2</th>\n",
       "      <td>4.89822</td>\n",
       "      <td>0.0</td>\n",
       "      <td>18.10</td>\n",
       "      <td>0.0</td>\n",
       "      <td>0.6310</td>\n",
       "      <td>4.970</td>\n",
       "      <td>100.0</td>\n",
       "      <td>1.3325</td>\n",
       "      <td>24.0</td>\n",
       "      <td>666.0</td>\n",
       "      <td>20.2</td>\n",
       "      <td>375.52</td>\n",
       "      <td>3.26</td>\n",
       "    </tr>\n",
       "    <tr>\n",
       "      <th>3</th>\n",
       "      <td>0.03961</td>\n",
       "      <td>0.0</td>\n",
       "      <td>5.19</td>\n",
       "      <td>0.0</td>\n",
       "      <td>0.5150</td>\n",
       "      <td>6.037</td>\n",
       "      <td>34.5</td>\n",
       "      <td>5.9853</td>\n",
       "      <td>5.0</td>\n",
       "      <td>224.0</td>\n",
       "      <td>20.2</td>\n",
       "      <td>396.90</td>\n",
       "      <td>8.01</td>\n",
       "    </tr>\n",
       "    <tr>\n",
       "      <th>4</th>\n",
       "      <td>3.69311</td>\n",
       "      <td>0.0</td>\n",
       "      <td>18.10</td>\n",
       "      <td>0.0</td>\n",
       "      <td>0.7130</td>\n",
       "      <td>6.376</td>\n",
       "      <td>88.4</td>\n",
       "      <td>2.5671</td>\n",
       "      <td>24.0</td>\n",
       "      <td>666.0</td>\n",
       "      <td>20.2</td>\n",
       "      <td>391.43</td>\n",
       "      <td>14.65</td>\n",
       "    </tr>\n",
       "    <tr>\n",
       "      <th>...</th>\n",
       "      <td>...</td>\n",
       "      <td>...</td>\n",
       "      <td>...</td>\n",
       "      <td>...</td>\n",
       "      <td>...</td>\n",
       "      <td>...</td>\n",
       "      <td>...</td>\n",
       "      <td>...</td>\n",
       "      <td>...</td>\n",
       "      <td>...</td>\n",
       "      <td>...</td>\n",
       "      <td>...</td>\n",
       "      <td>...</td>\n",
       "    </tr>\n",
       "    <tr>\n",
       "      <th>399</th>\n",
       "      <td>0.21977</td>\n",
       "      <td>0.0</td>\n",
       "      <td>6.91</td>\n",
       "      <td>0.0</td>\n",
       "      <td>0.4480</td>\n",
       "      <td>5.602</td>\n",
       "      <td>62.0</td>\n",
       "      <td>6.0877</td>\n",
       "      <td>3.0</td>\n",
       "      <td>233.0</td>\n",
       "      <td>17.9</td>\n",
       "      <td>396.90</td>\n",
       "      <td>16.20</td>\n",
       "    </tr>\n",
       "    <tr>\n",
       "      <th>400</th>\n",
       "      <td>0.16211</td>\n",
       "      <td>20.0</td>\n",
       "      <td>6.96</td>\n",
       "      <td>0.0</td>\n",
       "      <td>0.4640</td>\n",
       "      <td>6.240</td>\n",
       "      <td>16.3</td>\n",
       "      <td>4.4290</td>\n",
       "      <td>3.0</td>\n",
       "      <td>223.0</td>\n",
       "      <td>18.6</td>\n",
       "      <td>396.90</td>\n",
       "      <td>6.59</td>\n",
       "    </tr>\n",
       "    <tr>\n",
       "      <th>401</th>\n",
       "      <td>0.03466</td>\n",
       "      <td>35.0</td>\n",
       "      <td>6.06</td>\n",
       "      <td>0.0</td>\n",
       "      <td>0.4379</td>\n",
       "      <td>6.031</td>\n",
       "      <td>23.3</td>\n",
       "      <td>6.6407</td>\n",
       "      <td>1.0</td>\n",
       "      <td>304.0</td>\n",
       "      <td>16.9</td>\n",
       "      <td>362.25</td>\n",
       "      <td>7.83</td>\n",
       "    </tr>\n",
       "    <tr>\n",
       "      <th>402</th>\n",
       "      <td>2.14918</td>\n",
       "      <td>0.0</td>\n",
       "      <td>19.58</td>\n",
       "      <td>0.0</td>\n",
       "      <td>0.8710</td>\n",
       "      <td>5.709</td>\n",
       "      <td>98.5</td>\n",
       "      <td>1.6232</td>\n",
       "      <td>5.0</td>\n",
       "      <td>403.0</td>\n",
       "      <td>14.7</td>\n",
       "      <td>261.95</td>\n",
       "      <td>15.79</td>\n",
       "    </tr>\n",
       "    <tr>\n",
       "      <th>403</th>\n",
       "      <td>0.01439</td>\n",
       "      <td>60.0</td>\n",
       "      <td>2.93</td>\n",
       "      <td>0.0</td>\n",
       "      <td>0.4010</td>\n",
       "      <td>6.604</td>\n",
       "      <td>18.8</td>\n",
       "      <td>6.2196</td>\n",
       "      <td>1.0</td>\n",
       "      <td>265.0</td>\n",
       "      <td>15.6</td>\n",
       "      <td>376.70</td>\n",
       "      <td>4.38</td>\n",
       "    </tr>\n",
       "  </tbody>\n",
       "</table>\n",
       "<p>404 rows × 13 columns</p>\n",
       "</div>"
      ],
      "text/plain": [
       "          0     1      2    3       4      5      6       7     8      9   \\\n",
       "0    1.23247   0.0   8.14  0.0  0.5380  6.142   91.7  3.9769   4.0  307.0   \n",
       "1    0.02177  82.5   2.03  0.0  0.4150  7.610   15.7  6.2700   2.0  348.0   \n",
       "2    4.89822   0.0  18.10  0.0  0.6310  4.970  100.0  1.3325  24.0  666.0   \n",
       "3    0.03961   0.0   5.19  0.0  0.5150  6.037   34.5  5.9853   5.0  224.0   \n",
       "4    3.69311   0.0  18.10  0.0  0.7130  6.376   88.4  2.5671  24.0  666.0   \n",
       "..       ...   ...    ...  ...     ...    ...    ...     ...   ...    ...   \n",
       "399  0.21977   0.0   6.91  0.0  0.4480  5.602   62.0  6.0877   3.0  233.0   \n",
       "400  0.16211  20.0   6.96  0.0  0.4640  6.240   16.3  4.4290   3.0  223.0   \n",
       "401  0.03466  35.0   6.06  0.0  0.4379  6.031   23.3  6.6407   1.0  304.0   \n",
       "402  2.14918   0.0  19.58  0.0  0.8710  5.709   98.5  1.6232   5.0  403.0   \n",
       "403  0.01439  60.0   2.93  0.0  0.4010  6.604   18.8  6.2196   1.0  265.0   \n",
       "\n",
       "       10      11     12  \n",
       "0    21.0  396.90  18.72  \n",
       "1    14.7  395.38   3.11  \n",
       "2    20.2  375.52   3.26  \n",
       "3    20.2  396.90   8.01  \n",
       "4    20.2  391.43  14.65  \n",
       "..    ...     ...    ...  \n",
       "399  17.9  396.90  16.20  \n",
       "400  18.6  396.90   6.59  \n",
       "401  16.9  362.25   7.83  \n",
       "402  14.7  261.95  15.79  \n",
       "403  15.6  376.70   4.38  \n",
       "\n",
       "[404 rows x 13 columns]"
      ]
     },
     "execution_count": 132,
     "metadata": {},
     "output_type": "execute_result"
    }
   ],
   "source": [
    "a = pd.DataFrame(train_data)\n",
    "a"
   ]
  },
  {
   "cell_type": "code",
   "execution_count": 133,
   "id": "c72ff42c",
   "metadata": {},
   "outputs": [
    {
     "data": {
      "text/plain": [
       "array([[1.23247e+00, 0.00000e+00, 8.14000e+00, ..., 2.10000e+01,\n",
       "        3.96900e+02, 1.87200e+01],\n",
       "       [2.17700e-02, 8.25000e+01, 2.03000e+00, ..., 1.47000e+01,\n",
       "        3.95380e+02, 3.11000e+00],\n",
       "       [4.89822e+00, 0.00000e+00, 1.81000e+01, ..., 2.02000e+01,\n",
       "        3.75520e+02, 3.26000e+00],\n",
       "       ...,\n",
       "       [3.46600e-02, 3.50000e+01, 6.06000e+00, ..., 1.69000e+01,\n",
       "        3.62250e+02, 7.83000e+00],\n",
       "       [2.14918e+00, 0.00000e+00, 1.95800e+01, ..., 1.47000e+01,\n",
       "        2.61950e+02, 1.57900e+01],\n",
       "       [1.43900e-02, 6.00000e+01, 2.93000e+00, ..., 1.56000e+01,\n",
       "        3.76700e+02, 4.38000e+00]])"
      ]
     },
     "execution_count": 133,
     "metadata": {},
     "output_type": "execute_result"
    }
   ],
   "source": [
    "train_data"
   ]
  },
  {
   "cell_type": "code",
   "execution_count": 134,
   "id": "c7202cf8",
   "metadata": {},
   "outputs": [
    {
     "name": "stdout",
     "output_type": "stream",
     "text": [
      "(404, 13)\n",
      "(102, 13)\n"
     ]
    }
   ],
   "source": [
    "print(train_data.shape)\n",
    "print(test_data.shape)"
   ]
  },
  {
   "cell_type": "code",
   "execution_count": 135,
   "id": "352a534b",
   "metadata": {},
   "outputs": [],
   "source": [
    "# Define the scaler\n",
    "\n",
    "scaler = StandardScaler().fit(train_data)"
   ]
  },
  {
   "cell_type": "code",
   "execution_count": 136,
   "id": "f6bf0e63",
   "metadata": {},
   "outputs": [],
   "source": [
    "# scale the train set\n",
    "train_data = scaler.transform(train_data)\n",
    "# scale the test set\n",
    "test_data = scaler.transform(test_data)"
   ]
  },
  {
   "cell_type": "code",
   "execution_count": 137,
   "id": "35617b43",
   "metadata": {},
   "outputs": [
    {
     "data": {
      "text/plain": [
       "array([[-0.27224633, -0.48361547, -0.43576161, ...,  1.14850044,\n",
       "         0.44807713,  0.8252202 ],\n",
       "       [-0.40342651,  2.99178419, -1.33391162, ..., -1.71818909,\n",
       "         0.43190599, -1.32920239],\n",
       "       [ 0.1249402 , -0.48361547,  1.0283258 , ...,  0.78447637,\n",
       "         0.22061726, -1.30850006],\n",
       "       ...,\n",
       "       [-0.40202987,  0.99079651, -0.7415148 , ..., -0.71712291,\n",
       "         0.07943894, -0.67776904],\n",
       "       [-0.17292018, -0.48361547,  1.24588095, ..., -1.71818909,\n",
       "        -0.98764362,  0.42083466],\n",
       "       [-0.40422614,  2.04394792, -1.20161456, ..., -1.30866202,\n",
       "         0.23317118, -1.15392266]])"
      ]
     },
     "execution_count": 137,
     "metadata": {},
     "output_type": "execute_result"
    }
   ],
   "source": [
    "train_data"
   ]
  },
  {
   "cell_type": "code",
   "execution_count": 138,
   "id": "ebef491c",
   "metadata": {},
   "outputs": [],
   "source": [
    "# performed by using the mean and standard deviation\n",
    "mean = train_data.mean(axis=0)\n",
    "std = train_data.std(axis=0)\n",
    "X_train = (train_data - mean)/std\n",
    "X_test = (test_data - mean)/std"
   ]
  },
  {
   "cell_type": "code",
   "execution_count": 139,
   "id": "8eb98741",
   "metadata": {},
   "outputs": [
    {
     "data": {
      "text/plain": [
       "array([-1.01541438e-16,  1.09923072e-17,  1.74337992e-15, -1.26686340e-16,\n",
       "       -5.25377321e-15,  6.41414864e-15,  2.98441140e-16,  4.94653823e-16,\n",
       "        1.12671149e-17, -1.98136337e-16,  2.36686358e-14,  5.95679996e-15,\n",
       "        6.13920356e-16])"
      ]
     },
     "execution_count": 139,
     "metadata": {},
     "output_type": "execute_result"
    }
   ],
   "source": [
    "mean"
   ]
  },
  {
   "cell_type": "code",
   "execution_count": 140,
   "id": "7b9cb31a",
   "metadata": {},
   "outputs": [
    {
     "data": {
      "text/plain": [
       "array([[ 1.55369355, -0.48361547,  1.0283258 , ...,  0.78447637,\n",
       "        -3.48459553,  2.25092074],\n",
       "       [-0.39242675, -0.48361547, -0.16087773, ..., -0.30759583,\n",
       "         0.42733126,  0.47880119],\n",
       "       [-0.39982927, -0.48361547, -0.86940196, ...,  0.78447637,\n",
       "         0.44807713, -0.41415936],\n",
       "       ...,\n",
       "       [-0.20709507, -0.48361547,  1.24588095, ..., -1.71818909,\n",
       "         0.37051949, -1.49344089],\n",
       "       [-0.36698601, -0.48361547, -0.72093526, ..., -0.48960787,\n",
       "         0.39275481, -0.41829982],\n",
       "       [-0.0889679 , -0.48361547,  1.24588095, ..., -1.71818909,\n",
       "        -1.21946544, -0.40449827]])"
      ]
     },
     "execution_count": 140,
     "metadata": {},
     "output_type": "execute_result"
    }
   ],
   "source": [
    "X_test"
   ]
  },
  {
   "cell_type": "code",
   "execution_count": 141,
   "id": "e99091e9",
   "metadata": {},
   "outputs": [],
   "source": [
    "from keras.models import Sequential\n",
    "from keras.layers import Dense"
   ]
  },
  {
   "cell_type": "markdown",
   "id": "90d54065",
   "metadata": {},
   "source": [
    "### Create Model"
   ]
  },
  {
   "cell_type": "code",
   "execution_count": 142,
   "id": "5623ece4",
   "metadata": {},
   "outputs": [],
   "source": [
    "model = Sequential()\n",
    "model.add(Dense(64, activation=\"relu\"))\n",
    "model.add(Dense(64, activation=\"relu\"))\n",
    "model.add(Dense(32, activation=\"relu\"))\n",
    "model.add(Dense(16, activation=\"relu\"))\n",
    "model.add(Dense(1)) # The model ends with a single unit and no activation. \n",
    "# it will be a linear layer because last layer is purely linear in model"
   ]
  },
  {
   "cell_type": "markdown",
   "id": "1a6097d9",
   "metadata": {},
   "source": [
    "### Compile Model"
   ]
  },
  {
   "cell_type": "code",
   "execution_count": 143,
   "id": "250c38dd",
   "metadata": {},
   "outputs": [],
   "source": [
    "model.compile(optimizer='adam', loss = 'mse', metrics=['mae']) #MAE = mean absolute error"
   ]
  },
  {
   "cell_type": "markdown",
   "id": "f355d36e",
   "metadata": {},
   "source": [
    "### Train Model"
   ]
  },
  {
   "cell_type": "code",
   "execution_count": 144,
   "id": "f0063352",
   "metadata": {},
   "outputs": [
    {
     "name": "stdout",
     "output_type": "stream",
     "text": [
      "Epoch 1/50\n",
      "13/13 [==============================] - 1s 11ms/step - loss: 577.6322 - mae: 22.2180 - val_loss: 591.9889 - val_mae: 22.5806\n",
      "Epoch 2/50\n",
      "13/13 [==============================] - 0s 3ms/step - loss: 544.3059 - mae: 21.4880 - val_loss: 539.2038 - val_mae: 21.4239\n",
      "Epoch 3/50\n",
      "13/13 [==============================] - 0s 2ms/step - loss: 470.5851 - mae: 19.7781 - val_loss: 419.3154 - val_mae: 18.5596\n",
      "Epoch 4/50\n",
      "13/13 [==============================] - 0s 2ms/step - loss: 307.1579 - mae: 15.3540 - val_loss: 192.5736 - val_mae: 11.7192\n",
      "Epoch 5/50\n",
      "13/13 [==============================] - 0s 3ms/step - loss: 117.7496 - mae: 8.4179 - val_loss: 101.6007 - val_mae: 8.1648\n",
      "Epoch 6/50\n",
      "13/13 [==============================] - 0s 2ms/step - loss: 80.7698 - mae: 7.0606 - val_loss: 61.9521 - val_mae: 6.3159\n",
      "Epoch 7/50\n",
      "13/13 [==============================] - 0s 3ms/step - loss: 46.6596 - mae: 5.2822 - val_loss: 43.4802 - val_mae: 5.2538\n",
      "Epoch 8/50\n",
      "13/13 [==============================] - 0s 2ms/step - loss: 31.6379 - mae: 4.2261 - val_loss: 34.8870 - val_mae: 4.6140\n",
      "Epoch 9/50\n",
      "13/13 [==============================] - 0s 2ms/step - loss: 24.9970 - mae: 3.6435 - val_loss: 29.9347 - val_mae: 4.1731\n",
      "Epoch 10/50\n",
      "13/13 [==============================] - 0s 2ms/step - loss: 21.9689 - mae: 3.4154 - val_loss: 28.5772 - val_mae: 4.0324\n",
      "Epoch 11/50\n",
      "13/13 [==============================] - 0s 2ms/step - loss: 19.9319 - mae: 3.2045 - val_loss: 26.5336 - val_mae: 3.8262\n",
      "Epoch 12/50\n",
      "13/13 [==============================] - 0s 2ms/step - loss: 18.4928 - mae: 3.0615 - val_loss: 25.3329 - val_mae: 3.7168\n",
      "Epoch 13/50\n",
      "13/13 [==============================] - 0s 2ms/step - loss: 17.3782 - mae: 2.9834 - val_loss: 26.4034 - val_mae: 3.7360\n",
      "Epoch 14/50\n",
      "13/13 [==============================] - 0s 3ms/step - loss: 16.2753 - mae: 2.8933 - val_loss: 26.4266 - val_mae: 3.7071\n",
      "Epoch 15/50\n",
      "13/13 [==============================] - 0s 3ms/step - loss: 15.2979 - mae: 2.7981 - val_loss: 25.1015 - val_mae: 3.5851\n",
      "Epoch 16/50\n",
      "13/13 [==============================] - 0s 2ms/step - loss: 14.5996 - mae: 2.7213 - val_loss: 25.2427 - val_mae: 3.5588\n",
      "Epoch 17/50\n",
      "13/13 [==============================] - 0s 2ms/step - loss: 13.8858 - mae: 2.6564 - val_loss: 25.2616 - val_mae: 3.5044\n",
      "Epoch 18/50\n",
      "13/13 [==============================] - 0s 2ms/step - loss: 13.2674 - mae: 2.6044 - val_loss: 24.5187 - val_mae: 3.4376\n",
      "Epoch 19/50\n",
      "13/13 [==============================] - 0s 2ms/step - loss: 12.9866 - mae: 2.6012 - val_loss: 24.5930 - val_mae: 3.3920\n",
      "Epoch 20/50\n",
      "13/13 [==============================] - 0s 2ms/step - loss: 12.3662 - mae: 2.5187 - val_loss: 23.8233 - val_mae: 3.3261\n",
      "Epoch 21/50\n",
      "13/13 [==============================] - 0s 3ms/step - loss: 11.8185 - mae: 2.4528 - val_loss: 24.4252 - val_mae: 3.3379\n",
      "Epoch 22/50\n",
      "13/13 [==============================] - 0s 2ms/step - loss: 11.5940 - mae: 2.4478 - val_loss: 24.2336 - val_mae: 3.3126\n",
      "Epoch 23/50\n",
      "13/13 [==============================] - 0s 2ms/step - loss: 11.3291 - mae: 2.4070 - val_loss: 23.3121 - val_mae: 3.2577\n",
      "Epoch 24/50\n",
      "13/13 [==============================] - 0s 3ms/step - loss: 11.0133 - mae: 2.3765 - val_loss: 24.1693 - val_mae: 3.2924\n",
      "Epoch 25/50\n",
      "13/13 [==============================] - 0s 2ms/step - loss: 10.8503 - mae: 2.3828 - val_loss: 24.4260 - val_mae: 3.2847\n",
      "Epoch 26/50\n",
      "13/13 [==============================] - 0s 2ms/step - loss: 10.4651 - mae: 2.3238 - val_loss: 23.2890 - val_mae: 3.2025\n",
      "Epoch 27/50\n",
      "13/13 [==============================] - 0s 2ms/step - loss: 10.3609 - mae: 2.3010 - val_loss: 23.0937 - val_mae: 3.1998\n",
      "Epoch 28/50\n",
      "13/13 [==============================] - 0s 2ms/step - loss: 10.1331 - mae: 2.2785 - val_loss: 22.9547 - val_mae: 3.1676\n",
      "Epoch 29/50\n",
      "13/13 [==============================] - 0s 3ms/step - loss: 10.1128 - mae: 2.2882 - val_loss: 23.4816 - val_mae: 3.1867\n",
      "Epoch 30/50\n",
      "13/13 [==============================] - 0s 3ms/step - loss: 9.9703 - mae: 2.2734 - val_loss: 24.3018 - val_mae: 3.2099\n",
      "Epoch 31/50\n",
      "13/13 [==============================] - 0s 2ms/step - loss: 9.7876 - mae: 2.2498 - val_loss: 23.0011 - val_mae: 3.1598\n",
      "Epoch 32/50\n",
      "13/13 [==============================] - 0s 2ms/step - loss: 9.7296 - mae: 2.2395 - val_loss: 23.5617 - val_mae: 3.1629\n",
      "Epoch 33/50\n",
      "13/13 [==============================] - 0s 2ms/step - loss: 9.4606 - mae: 2.2042 - val_loss: 22.6751 - val_mae: 3.1183\n",
      "Epoch 34/50\n",
      "13/13 [==============================] - 0s 2ms/step - loss: 9.3270 - mae: 2.1896 - val_loss: 22.9103 - val_mae: 3.1261\n",
      "Epoch 35/50\n",
      "13/13 [==============================] - 0s 2ms/step - loss: 9.2103 - mae: 2.1696 - val_loss: 22.2817 - val_mae: 3.0766\n",
      "Epoch 36/50\n",
      "13/13 [==============================] - 0s 3ms/step - loss: 9.1760 - mae: 2.1715 - val_loss: 23.1327 - val_mae: 3.1145\n",
      "Epoch 37/50\n",
      "13/13 [==============================] - 0s 2ms/step - loss: 8.9331 - mae: 2.1617 - val_loss: 22.3256 - val_mae: 3.1146\n",
      "Epoch 38/50\n",
      "13/13 [==============================] - 0s 2ms/step - loss: 8.9021 - mae: 2.1439 - val_loss: 21.7367 - val_mae: 3.0196\n",
      "Epoch 39/50\n",
      "13/13 [==============================] - 0s 2ms/step - loss: 8.8116 - mae: 2.1253 - val_loss: 22.6395 - val_mae: 3.1276\n",
      "Epoch 40/50\n",
      "13/13 [==============================] - 0s 2ms/step - loss: 8.7333 - mae: 2.1172 - val_loss: 21.8753 - val_mae: 3.0066\n",
      "Epoch 41/50\n",
      "13/13 [==============================] - 0s 2ms/step - loss: 8.6227 - mae: 2.0733 - val_loss: 21.1494 - val_mae: 2.9836\n",
      "Epoch 42/50\n",
      "13/13 [==============================] - 0s 3ms/step - loss: 8.5900 - mae: 2.1007 - val_loss: 21.8183 - val_mae: 3.0025\n",
      "Epoch 43/50\n",
      "13/13 [==============================] - 0s 2ms/step - loss: 8.5851 - mae: 2.0837 - val_loss: 21.5943 - val_mae: 2.9588\n",
      "Epoch 44/50\n",
      "13/13 [==============================] - 0s 2ms/step - loss: 8.2705 - mae: 2.0595 - val_loss: 21.8791 - val_mae: 3.0792\n",
      "Epoch 45/50\n",
      "13/13 [==============================] - 0s 2ms/step - loss: 8.3891 - mae: 2.0860 - val_loss: 21.4340 - val_mae: 2.9424\n",
      "Epoch 46/50\n",
      "13/13 [==============================] - 0s 2ms/step - loss: 8.1249 - mae: 2.0425 - val_loss: 22.0390 - val_mae: 2.9579\n",
      "Epoch 47/50\n",
      "13/13 [==============================] - 0s 2ms/step - loss: 8.1751 - mae: 2.0640 - val_loss: 22.0281 - val_mae: 3.1093\n",
      "Epoch 48/50\n",
      "13/13 [==============================] - 0s 3ms/step - loss: 8.3236 - mae: 2.0640 - val_loss: 20.5056 - val_mae: 2.8516\n",
      "Epoch 49/50\n",
      "13/13 [==============================] - 0s 3ms/step - loss: 8.0781 - mae: 2.0369 - val_loss: 21.5086 - val_mae: 2.9282\n",
      "Epoch 50/50\n",
      "13/13 [==============================] - 0s 3ms/step - loss: 8.0065 - mae: 2.0530 - val_loss: 20.1847 - val_mae: 2.9859\n"
     ]
    }
   ],
   "source": [
    "final_result = model.fit(train_data, train_targets, epochs= 50, batch_size = 32, validation_data = (test_data,test_targets))"
   ]
  },
  {
   "cell_type": "code",
   "execution_count": 145,
   "id": "bc2dbfd9",
   "metadata": {},
   "outputs": [
    {
     "name": "stdout",
     "output_type": "stream",
     "text": [
      "4/4 [==============================] - 0s 2ms/step - loss: 20.1847 - mae: 2.9859\n"
     ]
    }
   ],
   "source": [
    "mse_nn,mae_nn = model.evaluate(test_data,test_targets)"
   ]
  },
  {
   "cell_type": "markdown",
   "id": "644a96b1",
   "metadata": {},
   "source": [
    "Visualize Accuracy and Loss"
   ]
  },
  {
   "cell_type": "code",
   "execution_count": 146,
   "id": "f5afca1f",
   "metadata": {},
   "outputs": [],
   "source": [
    "import matplotlib.pyplot as plt"
   ]
  },
  {
   "cell_type": "code",
   "execution_count": 147,
   "id": "89ce9858",
   "metadata": {},
   "outputs": [
    {
     "data": {
      "image/png": "[encoded data removed]",
      "text/plain": [
       "<Figure size 640x480 with 1 Axes>"
      ]
     },
     "metadata": {},
     "output_type": "display_data"
    }
   ],
   "source": [
    "# Plot the training and validation accuracy over epochs\n",
    "plt.plot(final_result.history['mae']) #plt.plot() is a function used to create a line plot of two or more arrays of data\n",
    "plt.plot(final_result.history['val_mae'])\n",
    "plt.title('Model Accuracy')\n",
    "plt.ylabel('MAE')\n",
    "plt.xlabel('Epoch')\n",
    "plt.legend(['Train', 'Validation'], loc='upper left')\n",
    "plt.show()"
   ]
  },
  {
   "cell_type": "code",
   "execution_count": 148,
   "id": "ed2c0325",
   "metadata": {},
   "outputs": [
    {
     "data": {
      "image/png": "[encoded data removed]",
      "text/plain": [
       "<Figure size 640x480 with 1 Axes>"
      ]
     },
     "metadata": {},
     "output_type": "display_data"
    }
   ],
   "source": [
    "# Plot the training and validation loss over epochs\n",
    "plt.plot(final_result.history['loss'])\n",
    "plt.plot(final_result.history['val_loss'])\n",
    "plt.title('Model Loss')\n",
    "plt.ylabel('val_mae')\n",
    "plt.xlabel('Epoch')\n",
    "plt.legend(['Train', 'Validation'], loc='upper left')\n",
    "plt.show()"
   ]
  },
  {
   "cell_type": "code",
   "execution_count": null,
   "id": "e1dce9e6",
   "metadata": {},
   "outputs": [],
   "source": []
  },
  {
   "cell_type": "code",
   "execution_count": null,
   "id": "c8b15a33",
   "metadata": {},
   "outputs": [],
   "source": []
  }
 ],
 "metadata": {
  "kernelspec": {
   "display_name": "Python 3 (ipykernel)",
   "language": "python",
   "name": "python3"
  },
  "language_info": {
   "codemirror_mode": {
    "name": "ipython",
    "version": 3
   },
   "file_extension": ".py",
   "mimetype": "text/x-python",
   "name": "python",
   "nbconvert_exporter": "python",
   "pygments_lexer": "ipython3",
   "version": "3.9.13"
  }
 },
 "nbformat": 4,
 "nbformat_minor": 5
}
