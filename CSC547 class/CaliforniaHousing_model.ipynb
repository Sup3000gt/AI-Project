{
 "cells": [
  {
   "cell_type": "code",
   "execution_count": 120,
   "id": "94fc6398",
   "metadata": {},
   "outputs": [],
   "source": [
    "import numpy as np\n",
    "from tensorflow import keras\n",
    "from keras.layers import Input, Dense, concatenate\n",
    "from sklearn.datasets import fetch_california_housing\n",
    "# from sklearn.model_selection import KFold\n",
    "from sklearn.model_selection import train_test_split"
   ]
  },
  {
   "cell_type": "code",
   "execution_count": 121,
   "id": "c988f5be",
   "metadata": {},
   "outputs": [],
   "source": [
    "#load data\n",
    "housing_data = fetch_california_housing()\n",
    "X = housing_data.data\n",
    "Y = housing_data.target"
   ]
  },
  {
   "cell_type": "code",
   "execution_count": 122,
   "id": "9a3eea35",
   "metadata": {},
   "outputs": [
    {
     "data": {
      "text/plain": [
       "{'data': array([[   8.3252    ,   41.        ,    6.98412698, ...,    2.55555556,\n",
       "           37.88      , -122.23      ],\n",
       "        [   8.3014    ,   21.        ,    6.23813708, ...,    2.10984183,\n",
       "           37.86      , -122.22      ],\n",
       "        [   7.2574    ,   52.        ,    8.28813559, ...,    2.80225989,\n",
       "           37.85      , -122.24      ],\n",
       "        ...,\n",
       "        [   1.7       ,   17.        ,    5.20554273, ...,    2.3256351 ,\n",
       "           39.43      , -121.22      ],\n",
       "        [   1.8672    ,   18.        ,    5.32951289, ...,    2.12320917,\n",
       "           39.43      , -121.32      ],\n",
       "        [   2.3886    ,   16.        ,    5.25471698, ...,    2.61698113,\n",
       "           39.37      , -121.24      ]]),\n",
       " 'target': array([4.526, 3.585, 3.521, ..., 0.923, 0.847, 0.894]),\n",
       " 'frame': None,\n",
       " 'target_names': ['MedHouseVal'],\n",
       " 'feature_names': ['MedInc',\n",
       "  'HouseAge',\n",
       "  'AveRooms',\n",
       "  'AveBedrms',\n",
       "  'Population',\n",
       "  'AveOccup',\n",
       "  'Latitude',\n",
       "  'Longitude'],\n",
       " 'DESCR': '.. _california_housing_dataset:\\n\\nCalifornia Housing dataset\\n--------------------------\\n\\n**Data Set Characteristics:**\\n\\n    :Number of Instances: 20640\\n\\n    :Number of Attributes: 8 numeric, predictive attributes and the target\\n\\n    :Attribute Information:\\n        - MedInc        median income in block group\\n        - HouseAge      median house age in block group\\n        - AveRooms      average number of rooms per household\\n        - AveBedrms     average number of bedrooms per household\\n        - Population    block group population\\n        - AveOccup      average number of household members\\n        - Latitude      block group latitude\\n        - Longitude     block group longitude\\n\\n    :Missing Attribute Values: None\\n\\nThis dataset was obtained from the StatLib repository.\\nhttps://www.dcc.fc.up.pt/~ltorgo/Regression/cal_housing.html\\n\\nThe target variable is the median house value for California districts,\\nexpressed in hundreds of thousands of dollars ($100,000).\\n\\nThis dataset was derived from the 1990 U.S. census, using one row per census\\nblock group. A block group is the smallest geographical unit for which the U.S.\\nCensus Bureau publishes sample data (a block group typically has a population\\nof 600 to 3,000 people).\\n\\nAn household is a group of people residing within a home. Since the average\\nnumber of rooms and bedrooms in this dataset are provided per household, these\\ncolumns may take surpinsingly large values for block groups with few households\\nand many empty houses, such as vacation resorts.\\n\\nIt can be downloaded/loaded using the\\n:func:`sklearn.datasets.fetch_california_housing` function.\\n\\n.. topic:: References\\n\\n    - Pace, R. Kelley and Ronald Barry, Sparse Spatial Autoregressions,\\n      Statistics and Probability Letters, 33 (1997) 291-297\\n'}"
      ]
     },
     "execution_count": 122,
     "metadata": {},
     "output_type": "execute_result"
    }
   ],
   "source": [
    "housing_data"
   ]
  },
  {
   "cell_type": "code",
   "execution_count": 123,
   "id": "da214542",
   "metadata": {},
   "outputs": [
    {
     "name": "stdout",
     "output_type": "stream",
     "text": [
      "(20640, 8)\n",
      "(20640,)\n"
     ]
    }
   ],
   "source": [
    "print(X.shape)\n",
    "print(Y.shape)"
   ]
  },
  {
   "cell_type": "code",
   "execution_count": 124,
   "id": "ed82b51f",
   "metadata": {},
   "outputs": [],
   "source": [
    "# split into train, validation, and testing set\n",
    "X_train_full, X_test, Y_train_full, Y_test = train_test_split(X,Y, random_state = 42)\n",
    "X_train, X_valid, Y_train, Y_valid = train_test_split(X_train_full, Y_train_full, random_state = 42)"
   ]
  },
  {
   "cell_type": "code",
   "execution_count": 125,
   "id": "6312b729",
   "metadata": {},
   "outputs": [],
   "source": [
    "# define the input layers\n",
    "input_A = Input(shape=(6,))\n",
    "input_B = Input(shape=(2,))\n",
    "\n",
    "# define the hidden layers\n",
    "hidden_A = Dense(30, activation = 'relu')(input_A) # dense layer take A as input\n",
    "hidden_B = Dense(30, activation = 'relu')(input_B)\n",
    "\n",
    "# concatenate the output from the hidden layers\n",
    "concat = concatenate([hidden_A,hidden_B])"
   ]
  },
  {
   "cell_type": "code",
   "execution_count": 126,
   "id": "34d6687f",
   "metadata": {},
   "outputs": [],
   "source": [
    "# define the output layer\n",
    "output = Dense(1)(concat) # dense layer is connected to the output of the previous layer"
   ]
  },
  {
   "cell_type": "code",
   "execution_count": 127,
   "id": "9bfac77d",
   "metadata": {},
   "outputs": [],
   "source": [
    "# define the model\n",
    "model = keras.Model(inputs=[input_A,input_B], outputs=[output])"
   ]
  },
  {
   "cell_type": "code",
   "execution_count": 128,
   "id": "3185a277",
   "metadata": {},
   "outputs": [],
   "source": [
    "# compile the model\n",
    "model.compile(optimizer='adam', loss = 'mse', metrics=['mae']) #MAE = mean absolute error"
   ]
  },
  {
   "cell_type": "code",
   "execution_count": 129,
   "id": "864b2c71",
   "metadata": {},
   "outputs": [
    {
     "name": "stdout",
     "output_type": "stream",
     "text": [
      "Epoch 1/10\n",
      "363/363 [==============================] - 1s 1ms/step - loss: 1971.4034 - mae: 19.7438 - val_loss: 37.9619 - val_mae: 1.9735\n",
      "Epoch 2/10\n",
      "363/363 [==============================] - 0s 1ms/step - loss: 3.6252 - mae: 1.4250 - val_loss: 30.8936 - val_mae: 1.2034\n",
      "Epoch 3/10\n",
      "363/363 [==============================] - 0s 1ms/step - loss: 1.8722 - mae: 0.9841 - val_loss: 25.9425 - val_mae: 0.9889\n",
      "Epoch 4/10\n",
      "363/363 [==============================] - 0s 1ms/step - loss: 1.5447 - mae: 0.8922 - val_loss: 21.0358 - val_mae: 0.9217\n",
      "Epoch 5/10\n",
      "363/363 [==============================] - 0s 1ms/step - loss: 1.2637 - mae: 0.8176 - val_loss: 14.2351 - val_mae: 0.8484\n",
      "Epoch 6/10\n",
      "363/363 [==============================] - 0s 1ms/step - loss: 1.1917 - mae: 0.7970 - val_loss: 10.3924 - val_mae: 0.8126\n",
      "Epoch 7/10\n",
      "363/363 [==============================] - 0s 1ms/step - loss: 1.0676 - mae: 0.7723 - val_loss: 7.5544 - val_mae: 0.9391\n",
      "Epoch 8/10\n",
      "363/363 [==============================] - 0s 1ms/step - loss: 0.9986 - mae: 0.7543 - val_loss: 4.8157 - val_mae: 0.7251\n",
      "Epoch 9/10\n",
      "363/363 [==============================] - 0s 1ms/step - loss: 0.8987 - mae: 0.7197 - val_loss: 3.3134 - val_mae: 0.7518\n",
      "Epoch 10/10\n",
      "363/363 [==============================] - 0s 1ms/step - loss: 0.9093 - mae: 0.7230 - val_loss: 1.9717 - val_mae: 0.6692\n"
     ]
    }
   ],
   "source": [
    "# train the model\n",
    "final_result = model.fit([X_train[:, :6], X_train[:, 6:]],Y_train, \n",
    "                         validation_data = ([X_valid[:, :6], X_valid[:, 6:]],Y_valid), epochs= 10, batch_size = 32)"
   ]
  },
  {
   "cell_type": "code",
   "execution_count": 130,
   "id": "9aeb4878",
   "metadata": {},
   "outputs": [
    {
     "name": "stdout",
     "output_type": "stream",
     "text": [
      "162/162 [==============================] - 0s 770us/step - loss: 0.7449 - mae: 0.6571\n"
     ]
    }
   ],
   "source": [
    "mse, mae = model.evaluate([X_test[:,:6],X_test[:,6:]],Y_test)"
   ]
  },
  {
   "cell_type": "code",
   "execution_count": 131,
   "id": "8344ed91",
   "metadata": {},
   "outputs": [],
   "source": [
    "import matplotlib.pyplot as plt"
   ]
  },
  {
   "cell_type": "code",
   "execution_count": 132,
   "id": "f340bc55",
   "metadata": {},
   "outputs": [
    {
     "data": {
      "image/png": "[encoded data removed]",
      "text/plain": [
       "<Figure size 640x480 with 1 Axes>"
      ]
     },
     "metadata": {},
     "output_type": "display_data"
    }
   ],
   "source": [
    "# Plot the training and validation accuracy over epochs\n",
    "plt.plot(final_result.history['mae']) #plt.plot() is a function used to create a line plot of two or more arrays of data\n",
    "plt.plot(final_result.history['val_mae'])\n",
    "plt.title('Model Accuracy')\n",
    "plt.ylabel('MAE')\n",
    "plt.xlabel('Epoch')\n",
    "plt.legend(['Train', 'Validation'], loc='upper left')\n",
    "plt.show()"
   ]
  },
  {
   "cell_type": "code",
   "execution_count": 133,
   "id": "ede3ec9e",
   "metadata": {},
   "outputs": [
    {
     "data": {
      "image/png": "[encoded data removed]",
      "text/plain": [
       "<Figure size 640x480 with 1 Axes>"
      ]
     },
     "metadata": {},
     "output_type": "display_data"
    }
   ],
   "source": [
    "# Plot the training and validation loss over epochs\n",
    "plt.plot(final_result.history['loss'])\n",
    "plt.plot(final_result.history['val_loss'])\n",
    "plt.title('Model Loss')\n",
    "plt.ylabel('val_mae')\n",
    "plt.xlabel('Epoch')\n",
    "plt.legend(['Train', 'Validation'], loc='upper left')\n",
    "plt.show()"
   ]
  },
  {
   "cell_type": "code",
   "execution_count": null,
   "id": "0f18ca0b",
   "metadata": {},
   "outputs": [],
   "source": []
  },
  {
   "cell_type": "code",
   "execution_count": null,
   "id": "c3fbfcaf",
   "metadata": {},
   "outputs": [],
   "source": []
  },
  {
   "cell_type": "code",
   "execution_count": null,
   "id": "47650856",
   "metadata": {},
   "outputs": [],
   "source": []
  },
  {
   "cell_type": "code",
   "execution_count": null,
   "id": "27af58d0",
   "metadata": {},
   "outputs": [],
   "source": []
  },
  {
   "cell_type": "code",
   "execution_count": null,
   "id": "f1762ed7",
   "metadata": {},
   "outputs": [],
   "source": []
  },
  {
   "cell_type": "code",
   "execution_count": null,
   "id": "8e2243e2",
   "metadata": {},
   "outputs": [],
   "source": []
  },
  {
   "cell_type": "code",
   "execution_count": null,
   "id": "6e4c30a4",
   "metadata": {},
   "outputs": [],
   "source": []
  },
  {
   "cell_type": "code",
   "execution_count": null,
   "id": "0f322432",
   "metadata": {},
   "outputs": [],
   "source": []
  }
 ],
 "metadata": {
  "kernelspec": {
   "display_name": "Python 3 (ipykernel)",
   "language": "python",
   "name": "python3"
  },
  "language_info": {
   "codemirror_mode": {
    "name": "ipython",
    "version": 3
   },
   "file_extension": ".py",
   "mimetype": "text/x-python",
   "name": "python",
   "nbconvert_exporter": "python",
   "pygments_lexer": "ipython3",
   "version": "3.9.13"
  }
 },
 "nbformat": 4,
 "nbformat_minor": 5
}
