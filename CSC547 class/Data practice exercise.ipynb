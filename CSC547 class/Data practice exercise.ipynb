{
 "cells": [
  {
   "cell_type": "code",
   "execution_count": 21,
   "id": "6fb06c4f",
   "metadata": {},
   "outputs": [],
   "source": [
    "# Step 1. Import the necessary libraries\n",
    "import pandas as pd"
   ]
  },
  {
   "cell_type": "code",
   "execution_count": 22,
   "id": "e9ecd5af",
   "metadata": {},
   "outputs": [],
   "source": [
    "# Step 2. Import the dataset and assign it to a variable called users.\n",
    "users = pd.read_excel(\"C:\\\\Users\\\\xinga\\\\OneDrive\\\\文档\\\\GitHub\\\\AI-Project\\\\occupation.xlsx\")"
   ]
  },
  {
   "cell_type": "code",
   "execution_count": 34,
   "id": "c6dc22e3",
   "metadata": {},
   "outputs": [
    {
     "data": {
      "text/html": [
       "<div>\n",
       "<style scoped>\n",
       "    .dataframe tbody tr th:only-of-type {\n",
       "        vertical-align: middle;\n",
       "    }\n",
       "\n",
       "    .dataframe tbody tr th {\n",
       "        vertical-align: top;\n",
       "    }\n",
       "\n",
       "    .dataframe thead th {\n",
       "        text-align: right;\n",
       "    }\n",
       "</style>\n",
       "<table border=\"1\" class=\"dataframe\">\n",
       "  <thead>\n",
       "    <tr style=\"text-align: right;\">\n",
       "      <th></th>\n",
       "      <th>user_id</th>\n",
       "      <th>age</th>\n",
       "    </tr>\n",
       "    <tr>\n",
       "      <th>occupation</th>\n",
       "      <th></th>\n",
       "      <th></th>\n",
       "    </tr>\n",
       "  </thead>\n",
       "  <tbody>\n",
       "    <tr>\n",
       "      <th>administrator</th>\n",
       "      <td>430.949367</td>\n",
       "      <td>38.746835</td>\n",
       "    </tr>\n",
       "    <tr>\n",
       "      <th>artist</th>\n",
       "      <td>451.892857</td>\n",
       "      <td>31.392857</td>\n",
       "    </tr>\n",
       "    <tr>\n",
       "      <th>doctor</th>\n",
       "      <td>533.714286</td>\n",
       "      <td>43.571429</td>\n",
       "    </tr>\n",
       "    <tr>\n",
       "      <th>educator</th>\n",
       "      <td>466.905263</td>\n",
       "      <td>42.010526</td>\n",
       "    </tr>\n",
       "    <tr>\n",
       "      <th>engineer</th>\n",
       "      <td>456.328358</td>\n",
       "      <td>36.388060</td>\n",
       "    </tr>\n",
       "    <tr>\n",
       "      <th>entertainment</th>\n",
       "      <td>398.000000</td>\n",
       "      <td>29.222222</td>\n",
       "    </tr>\n",
       "    <tr>\n",
       "      <th>executive</th>\n",
       "      <td>422.312500</td>\n",
       "      <td>38.718750</td>\n",
       "    </tr>\n",
       "    <tr>\n",
       "      <th>healthcare</th>\n",
       "      <td>501.437500</td>\n",
       "      <td>41.562500</td>\n",
       "    </tr>\n",
       "    <tr>\n",
       "      <th>homemaker</th>\n",
       "      <td>443.000000</td>\n",
       "      <td>32.571429</td>\n",
       "    </tr>\n",
       "    <tr>\n",
       "      <th>lawyer</th>\n",
       "      <td>359.083333</td>\n",
       "      <td>36.750000</td>\n",
       "    </tr>\n",
       "    <tr>\n",
       "      <th>librarian</th>\n",
       "      <td>486.588235</td>\n",
       "      <td>40.000000</td>\n",
       "    </tr>\n",
       "    <tr>\n",
       "      <th>marketing</th>\n",
       "      <td>437.807692</td>\n",
       "      <td>37.615385</td>\n",
       "    </tr>\n",
       "    <tr>\n",
       "      <th>none</th>\n",
       "      <td>368.666667</td>\n",
       "      <td>26.555556</td>\n",
       "    </tr>\n",
       "    <tr>\n",
       "      <th>other</th>\n",
       "      <td>542.733333</td>\n",
       "      <td>34.523810</td>\n",
       "    </tr>\n",
       "    <tr>\n",
       "      <th>programmer</th>\n",
       "      <td>435.530303</td>\n",
       "      <td>33.121212</td>\n",
       "    </tr>\n",
       "    <tr>\n",
       "      <th>retired</th>\n",
       "      <td>515.714286</td>\n",
       "      <td>63.071429</td>\n",
       "    </tr>\n",
       "    <tr>\n",
       "      <th>salesman</th>\n",
       "      <td>494.916667</td>\n",
       "      <td>35.666667</td>\n",
       "    </tr>\n",
       "    <tr>\n",
       "      <th>scientist</th>\n",
       "      <td>465.129032</td>\n",
       "      <td>35.548387</td>\n",
       "    </tr>\n",
       "    <tr>\n",
       "      <th>student</th>\n",
       "      <td>484.954082</td>\n",
       "      <td>22.081633</td>\n",
       "    </tr>\n",
       "    <tr>\n",
       "      <th>technician</th>\n",
       "      <td>497.629630</td>\n",
       "      <td>33.148148</td>\n",
       "    </tr>\n",
       "    <tr>\n",
       "      <th>writer</th>\n",
       "      <td>495.711111</td>\n",
       "      <td>36.311111</td>\n",
       "    </tr>\n",
       "  </tbody>\n",
       "</table>\n",
       "</div>"
      ],
      "text/plain": [
       "                  user_id        age\n",
       "occupation                          \n",
       "administrator  430.949367  38.746835\n",
       "artist         451.892857  31.392857\n",
       "doctor         533.714286  43.571429\n",
       "educator       466.905263  42.010526\n",
       "engineer       456.328358  36.388060\n",
       "entertainment  398.000000  29.222222\n",
       "executive      422.312500  38.718750\n",
       "healthcare     501.437500  41.562500\n",
       "homemaker      443.000000  32.571429\n",
       "lawyer         359.083333  36.750000\n",
       "librarian      486.588235  40.000000\n",
       "marketing      437.807692  37.615385\n",
       "none           368.666667  26.555556\n",
       "other          542.733333  34.523810\n",
       "programmer     435.530303  33.121212\n",
       "retired        515.714286  63.071429\n",
       "salesman       494.916667  35.666667\n",
       "scientist      465.129032  35.548387\n",
       "student        484.954082  22.081633\n",
       "technician     497.629630  33.148148\n",
       "writer         495.711111  36.311111"
      ]
     },
     "execution_count": 34,
     "metadata": {},
     "output_type": "execute_result"
    }
   ],
   "source": [
    "# Step 3. Discover what is the mean age per occupation\n",
    "users.groupby('occupation').mean()"
   ]
  },
  {
   "cell_type": "code",
   "execution_count": 91,
   "id": "544dd531",
   "metadata": {},
   "outputs": [],
   "source": [
    "# Step 4. Discover the Male ratio per occupation and sort it from the most to the least\n",
    "myData = users[users.gender == 'M']\n",
    "maleData = myData.groupby('occupation')['gender'].count()\n",
    "totalData = users.groupby('occupation')['gender'].count()\n",
    "ratio = maleData/totalData\n",
    "# we will get ratio by divide.\n",
    "# then we use sort function\n",
    "sortedData = ratio.sort_values(ascending=False)"
   ]
  },
  {
   "cell_type": "code",
   "execution_count": 92,
   "id": "2a15731c",
   "metadata": {},
   "outputs": [
    {
     "data": {
      "text/plain": [
       "occupation\n",
       "doctor           1.000000\n",
       "engineer         0.970149\n",
       "technician       0.962963\n",
       "retired          0.928571\n",
       "programmer       0.909091\n",
       "executive        0.906250\n",
       "scientist        0.903226\n",
       "entertainment    0.888889\n",
       "lawyer           0.833333\n",
       "salesman         0.750000\n",
       "educator         0.726316\n",
       "student          0.693878\n",
       "other            0.657143\n",
       "marketing        0.615385\n",
       "writer           0.577778\n",
       "none             0.555556\n",
       "administrator    0.544304\n",
       "artist           0.535714\n",
       "librarian        0.431373\n",
       "healthcare       0.312500\n",
       "homemaker        0.142857\n",
       "Name: gender, dtype: float64"
      ]
     },
     "execution_count": 92,
     "metadata": {},
     "output_type": "execute_result"
    }
   ],
   "source": [
    "# print out sortedData\n",
    "sortedData"
   ]
  },
  {
   "cell_type": "code",
   "execution_count": 86,
   "id": "b5a68292",
   "metadata": {},
   "outputs": [],
   "source": [
    "#Step 5. For each occupation, calculate the minimum and maximum ages\n"
   ]
  },
  {
   "cell_type": "code",
   "execution_count": 93,
   "id": "5237aac8",
   "metadata": {},
   "outputs": [
    {
     "ename": "SyntaxError",
     "evalue": "invalid syntax (2118162543.py, line 1)",
     "output_type": "error",
     "traceback": [
      "\u001b[1;36m  File \u001b[1;32m\"C:\\Users\\xinga\\AppData\\Local\\Temp\\ipykernel_5316\\2118162543.py\"\u001b[1;36m, line \u001b[1;32m1\u001b[0m\n\u001b[1;33m    2ruodfjugd\u001b[0m\n\u001b[1;37m     ^\u001b[0m\n\u001b[1;31mSyntaxError\u001b[0m\u001b[1;31m:\u001b[0m invalid syntax\n"
     ]
    }
   ],
   "source": [
    "2ruodfjugd"
   ]
  },
  {
   "cell_type": "code",
   "execution_count": null,
   "id": "5a915a6f",
   "metadata": {},
   "outputs": [],
   "source": []
  }
 ],
 "metadata": {
  "kernelspec": {
   "display_name": "Python 3 (ipykernel)",
   "language": "python",
   "name": "python3"
  },
  "language_info": {
   "codemirror_mode": {
    "name": "ipython",
    "version": 3
   },
   "file_extension": ".py",
   "mimetype": "text/x-python",
   "name": "python",
   "nbconvert_exporter": "python",
   "pygments_lexer": "ipython3",
   "version": "3.9.13"
  }
 },
 "nbformat": 4,
 "nbformat_minor": 5
}
