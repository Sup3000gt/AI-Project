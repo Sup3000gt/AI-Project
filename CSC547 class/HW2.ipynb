{
 "cells": [
  {
   "cell_type": "markdown",
   "id": "315b26a2",
   "metadata": {},
   "source": [
    "#### Import necessary library"
   ]
  },
  {
   "cell_type": "code",
   "execution_count": 1,
   "id": "5f0975e1",
   "metadata": {},
   "outputs": [],
   "source": [
    "import os\n",
    "import numpy as np\n",
    "import pandas as pd\n",
    "import tensorflow as tf\n",
    "from sklearn.model_selection import train_test_split\n",
    "from tensorflow.keras.preprocessing.text import Tokenizer\n",
    "from tensorflow.keras.preprocessing.sequence import pad_sequences\n",
    "from keras.layers import Dense\n",
    "from keras.models import Sequential\n",
    "from tensorflow.keras.layers import Dense, Embedding, LSTM\n",
    "from tensorflow.keras.layers import Dropout\n",
    "from sklearn.feature_extraction.text import CountVectorizer, TfidfVectorizer\n",
    "import matplotlib.pyplot as plt\n",
    "from keras.layers import Lambda"
   ]
  },
  {
   "cell_type": "markdown",
   "id": "669b4424",
   "metadata": {},
   "source": [
    "### Load Data"
   ]
  },
  {
   "cell_type": "code",
   "execution_count": 2,
   "id": "7be91f54",
   "metadata": {},
   "outputs": [],
   "source": [
    "data_dir = \"C:\\\\Users\\\\alan\\\\AI Project\\\\dataset\\\\aclImdb\" "
   ]
  },
  {
   "cell_type": "code",
   "execution_count": 3,
   "id": "bdcc6dca",
   "metadata": {},
   "outputs": [],
   "source": [
    "def load_data(path):\n",
    "  data = []\n",
    "\n",
    "  files = [f for f in os.listdir(path)]\n",
    "  for file in files:\n",
    "    with open(path+file, \"r\", encoding='utf8') as f:\n",
    "      data.append(f.read())\n",
    "      \n",
    "  return data"
   ]
  },
  {
   "cell_type": "markdown",
   "id": "feae5709",
   "metadata": {},
   "source": [
    "Merge all Data into one DataFrame"
   ]
  },
  {
   "cell_type": "code",
   "execution_count": 4,
   "id": "1154dd0e",
   "metadata": {},
   "outputs": [
    {
     "name": "stdout",
     "output_type": "stream",
     "text": [
      "Total reviews in df:  (50000, 2)\n"
     ]
    },
    {
     "data": {
      "text/html": [
       "<div>\n",
       "<style scoped>\n",
       "    .dataframe tbody tr th:only-of-type {\n",
       "        vertical-align: middle;\n",
       "    }\n",
       "\n",
       "    .dataframe tbody tr th {\n",
       "        vertical-align: top;\n",
       "    }\n",
       "\n",
       "    .dataframe thead th {\n",
       "        text-align: right;\n",
       "    }\n",
       "</style>\n",
       "<table border=\"1\" class=\"dataframe\">\n",
       "  <thead>\n",
       "    <tr style=\"text-align: right;\">\n",
       "      <th></th>\n",
       "      <th>review</th>\n",
       "      <th>label</th>\n",
       "    </tr>\n",
       "  </thead>\n",
       "  <tbody>\n",
       "    <tr>\n",
       "      <th>0</th>\n",
       "      <td>Bromwell High is a cartoon comedy. It ran at t...</td>\n",
       "      <td>1</td>\n",
       "    </tr>\n",
       "    <tr>\n",
       "      <th>1</th>\n",
       "      <td>Homelessness (or Houselessness as George Carli...</td>\n",
       "      <td>1</td>\n",
       "    </tr>\n",
       "    <tr>\n",
       "      <th>2</th>\n",
       "      <td>Brilliant over-acting by Lesley Ann Warren. Be...</td>\n",
       "      <td>1</td>\n",
       "    </tr>\n",
       "    <tr>\n",
       "      <th>3</th>\n",
       "      <td>This is easily the most underrated film inn th...</td>\n",
       "      <td>1</td>\n",
       "    </tr>\n",
       "    <tr>\n",
       "      <th>4</th>\n",
       "      <td>This is not the typical Mel Brooks film. It wa...</td>\n",
       "      <td>1</td>\n",
       "    </tr>\n",
       "  </tbody>\n",
       "</table>\n",
       "</div>"
      ],
      "text/plain": [
       "                                              review  label\n",
       "0  Bromwell High is a cartoon comedy. It ran at t...      1\n",
       "1  Homelessness (or Houselessness as George Carli...      1\n",
       "2  Brilliant over-acting by Lesley Ann Warren. Be...      1\n",
       "3  This is easily the most underrated film inn th...      1\n",
       "4  This is not the typical Mel Brooks film. It wa...      1"
      ]
     },
     "execution_count": 4,
     "metadata": {},
     "output_type": "execute_result"
    }
   ],
   "source": [
    "df_train_pos = pd.DataFrame({'review': load_data(data_dir+\"\\\\train\\\\pos\\\\\"), 'label': 1})\n",
    "df_train_neg = pd.DataFrame({'review': load_data(data_dir+\"\\\\train\\\\neg\\\\\"), 'label': 0})\n",
    "\n",
    "df_test_pos = pd.DataFrame({'review': load_data(data_dir+\"\\\\test\\\\pos\\\\\"), 'label': 1})\n",
    "df_test_neg = pd.DataFrame({'review': load_data(data_dir+\"\\\\test\\\\neg\\\\\"), 'label': 0})\n",
    "\n",
    "# Merging all df's for data cleaning and preprocessing step.\n",
    "data = pd.concat([df_train_pos, df_train_neg, df_test_pos, df_test_neg], ignore_index=True)\n",
    "print(\"Total reviews in df: \", data.shape)\n",
    "data.head()"
   ]
  },
  {
   "cell_type": "code",
   "execution_count": 5,
   "id": "4a9bc45a",
   "metadata": {},
   "outputs": [],
   "source": [
    "train_df, test_df = train_test_split(data, test_size=0.2, random_state=42)"
   ]
  },
  {
   "cell_type": "code",
   "execution_count": 6,
   "id": "0e9ac5ff",
   "metadata": {},
   "outputs": [
    {
     "name": "stdout",
     "output_type": "stream",
     "text": [
      "                                                  review  label\n",
      "39087  Ah, here it is! A movie, which is said by peop...      0\n",
      "30893  I saw this movie on PBS the first time. Then I...      1\n",
      "45278  At the beginning of 'Loggerheads', we're intro...      0\n",
      "16398  For the life of me, I cannot get why they woul...      0\n",
      "13653  I always wrote this series off as being a comp...      0\n",
      "...                                                  ...    ...\n",
      "11284  I saw this movie at midnight on On Demand the ...      1\n",
      "44732  Some aspects of this production are good, such...      0\n",
      "38158  I was not old enough to really appreciate the ...      0\n",
      "860    Nice movie with a great soundtrack which spans...      1\n",
      "15795  Even though this was a made-for-TV production,...      0\n",
      "\n",
      "[40000 rows x 2 columns]                                                   review  label\n",
      "33553  When I first saw the ad for this, I was like '...      1\n",
      "9427   \"A Girl's Folly\" is a sort of half-comedy, hal...      1\n",
      "199    I started watching the show from the first sea...      1\n",
      "12447  This is a more interesting than usual porn mov...      1\n",
      "39489  I suppose for 1961 this film was supposed to b...      0\n",
      "...                                                  ...    ...\n",
      "28567  River's Edge is an excellent film and it's a s...      1\n",
      "25079  I kid you not. Yes, \"Who's That Girl\" has the ...      1\n",
      "18707  This is just a butchering of a wonderful story...      0\n",
      "15200  Home Alone 3 is one of my least favourite movi...      0\n",
      "5857   A complex story laid on the background of part...      1\n",
      "\n",
      "[10000 rows x 2 columns]\n"
     ]
    }
   ],
   "source": [
    "print(train_df,test_df)"
   ]
  },
  {
   "cell_type": "code",
   "execution_count": 7,
   "id": "d6fde33a",
   "metadata": {},
   "outputs": [],
   "source": [
    "x_train = train_df['review'].str.lower().values\n",
    "y_train = train_df['label'].values\n",
    "\n",
    "x_test = test_df['review'].str.lower().values\n",
    "y_test = test_df['label'].values"
   ]
  },
  {
   "cell_type": "markdown",
   "id": "670a06b8",
   "metadata": {},
   "source": [
    "#### Bag-of-Words"
   ]
  },
  {
   "cell_type": "code",
   "execution_count": 8,
   "id": "e14ac8ef",
   "metadata": {},
   "outputs": [],
   "source": [
    "# The BoW and TF-IDF techniques automatically tokenize the text \n",
    "# and create feature vectors based on the occurrences of words or word combinations (n-grams) in the text.\n",
    "bow_vectorizer = CountVectorizer(max_features=20000, ngram_range=(1, 1))\n",
    "bow_vectorizer.fit(x_train)\n",
    "\n",
    "x_train_bow = bow_vectorizer.transform(x_train)\n",
    "x_test_bow = bow_vectorizer.transform(x_test)"
   ]
  },
  {
   "cell_type": "markdown",
   "id": "876ab459",
   "metadata": {},
   "source": [
    "#### TF-IDF"
   ]
  },
  {
   "cell_type": "code",
   "execution_count": 9,
   "id": "1e1e9825",
   "metadata": {},
   "outputs": [],
   "source": [
    "tfidf_vectorizer = TfidfVectorizer(max_features=20000, ngram_range=(1, 1))\n",
    "tfidf_vectorizer.fit(x_train)\n",
    "\n",
    "x_train_tfidf = tfidf_vectorizer.transform(x_train)\n",
    "x_test_tfidf = tfidf_vectorizer.transform(x_test)"
   ]
  },
  {
   "cell_type": "markdown",
   "id": "7171fc08",
   "metadata": {},
   "source": [
    "### Build Model:"
   ]
  },
  {
   "cell_type": "code",
   "execution_count": 10,
   "id": "91dad4ff",
   "metadata": {},
   "outputs": [],
   "source": [
    "def build_and_train_model(x_train, y_train, x_test, y_test, input_dim):\n",
    "    model = Sequential()\n",
    "    model.add(Dense(128, input_dim=input_dim, activation='relu'))\n",
    "    model.add(Dropout(0.2))\n",
    "    model.add(Dense(64, activation='relu'))\n",
    "    model.add(Dropout(0.2))\n",
    "    model.add(Dense(1, activation='sigmoid'))\n",
    "\n",
    "    model.compile(loss='binary_crossentropy',\n",
    "                  optimizer='adam',\n",
    "                  metrics=['accuracy'])\n",
    "\n",
    "    history = model.fit(x_train, y_train,\n",
    "                        batch_size=32,\n",
    "                        epochs=5,\n",
    "                        validation_data=(x_test, y_test))\n",
    "    return model, history"
   ]
  },
  {
   "cell_type": "markdown",
   "id": "67d9a3fe",
   "metadata": {},
   "source": [
    "#### model for Bag-of-Words"
   ]
  },
  {
   "cell_type": "code",
   "execution_count": 11,
   "id": "8f6cebd3",
   "metadata": {},
   "outputs": [],
   "source": [
    "# convert BoW feature sets\n",
    "x_train_bow = x_train_bow.toarray()\n",
    "x_test_bow = x_test_bow.toarray()"
   ]
  },
  {
   "cell_type": "code",
   "execution_count": 12,
   "id": "db52348f",
   "metadata": {},
   "outputs": [
    {
     "name": "stdout",
     "output_type": "stream",
     "text": [
      "Epoch 1/5\n",
      "1250/1250 [==============================] - 34s 26ms/step - loss: 0.3141 - accuracy: 0.8707 - val_loss: 0.2550 - val_accuracy: 0.8988\n",
      "Epoch 2/5\n",
      "1250/1250 [==============================] - 35s 28ms/step - loss: 0.1700 - accuracy: 0.9332 - val_loss: 0.2787 - val_accuracy: 0.9006\n",
      "Epoch 3/5\n",
      "1250/1250 [==============================] - 38s 30ms/step - loss: 0.0931 - accuracy: 0.9645 - val_loss: 0.3226 - val_accuracy: 0.8916\n",
      "Epoch 4/5\n",
      "1250/1250 [==============================] - 38s 30ms/step - loss: 0.0484 - accuracy: 0.9838 - val_loss: 0.4820 - val_accuracy: 0.8927\n",
      "Epoch 5/5\n",
      "1250/1250 [==============================] - 36s 29ms/step - loss: 0.0342 - accuracy: 0.9879 - val_loss: 0.5553 - val_accuracy: 0.8916\n"
     ]
    }
   ],
   "source": [
    "input_dim_bow = x_train_bow.shape[1]\n",
    "model_bow, history_bow = build_and_train_model(x_train_bow, y_train, x_test_bow, y_test, input_dim_bow)"
   ]
  },
  {
   "cell_type": "markdown",
   "id": "bc393831",
   "metadata": {},
   "source": [
    "#### model for TF-IDF"
   ]
  },
  {
   "cell_type": "code",
   "execution_count": 13,
   "id": "bfba77a2",
   "metadata": {},
   "outputs": [],
   "source": [
    "# convert TF-IDF feature sets\n",
    "x_train_tfidf = x_train_tfidf.toarray()\n",
    "x_test_tfidf = x_test_tfidf.toarray()"
   ]
  },
  {
   "cell_type": "code",
   "execution_count": 14,
   "id": "8c16aa83",
   "metadata": {},
   "outputs": [
    {
     "name": "stdout",
     "output_type": "stream",
     "text": [
      "Epoch 1/5\n",
      "1250/1250 [==============================] - 31s 25ms/step - loss: 0.2981 - accuracy: 0.8749 - val_loss: 0.2399 - val_accuracy: 0.9027\n",
      "Epoch 2/5\n",
      "1250/1250 [==============================] - 30s 24ms/step - loss: 0.1400 - accuracy: 0.9474 - val_loss: 0.2733 - val_accuracy: 0.8952\n",
      "Epoch 3/5\n",
      "1250/1250 [==============================] - 30s 24ms/step - loss: 0.0664 - accuracy: 0.9755 - val_loss: 0.4056 - val_accuracy: 0.8900\n",
      "Epoch 4/5\n",
      "1250/1250 [==============================] - 30s 24ms/step - loss: 0.0238 - accuracy: 0.9916 - val_loss: 0.5490 - val_accuracy: 0.8904\n",
      "Epoch 5/5\n",
      "1250/1250 [==============================] - 30s 24ms/step - loss: 0.0074 - accuracy: 0.9969 - val_loss: 0.7193 - val_accuracy: 0.8893\n"
     ]
    }
   ],
   "source": [
    "input_dim_tfidf = x_train_tfidf.shape[1]\n",
    "model_tfidf, history_tfidf = build_and_train_model(x_train_tfidf, y_train, x_test_tfidf, y_test, input_dim_tfidf)"
   ]
  },
  {
   "cell_type": "markdown",
   "id": "ba1eed48",
   "metadata": {},
   "source": [
    "#### Evaluate the model: BOW"
   ]
  },
  {
   "cell_type": "code",
   "execution_count": 15,
   "id": "e0afd546",
   "metadata": {},
   "outputs": [
    {
     "name": "stdout",
     "output_type": "stream",
     "text": [
      "313/313 [==============================] - 1s 4ms/step - loss: 0.5553 - accuracy: 0.8916\n",
      "BoW Model - Test score: 0.555258572101593\n",
      "BoW Model - Test accuracy: 0.8916000127792358\n"
     ]
    }
   ],
   "source": [
    "score_bow, acc_bow = model_bow.evaluate(x_test_bow, y_test, batch_size=32)\n",
    "print('BoW Model - Test score:', score_bow)\n",
    "print('BoW Model - Test accuracy:', acc_bow)\n"
   ]
  },
  {
   "cell_type": "markdown",
   "id": "4616ecc7",
   "metadata": {},
   "source": [
    "#### Evaluate the model: TF-IDF"
   ]
  },
  {
   "cell_type": "code",
   "execution_count": 16,
   "id": "19186e40",
   "metadata": {},
   "outputs": [
    {
     "name": "stdout",
     "output_type": "stream",
     "text": [
      "313/313 [==============================] - 1s 3ms/step - loss: 0.7193 - accuracy: 0.8893\n",
      "TF-IDF Model - Test score: 0.7193324565887451\n",
      "TF-IDF Model - Test accuracy: 0.8892999887466431\n"
     ]
    }
   ],
   "source": [
    "score_tfidf, acc_tfidf = model_tfidf.evaluate(x_test_tfidf, y_test, batch_size=32)\n",
    "print('TF-IDF Model - Test score:', score_tfidf)\n",
    "print('TF-IDF Model - Test accuracy:', acc_tfidf)"
   ]
  },
  {
   "cell_type": "code",
   "execution_count": 17,
   "id": "b2492a10",
   "metadata": {},
   "outputs": [
    {
     "name": "stdout",
     "output_type": "stream",
     "text": [
      "BoW Training History:\n",
      "{'loss': [0.3140729069709778, 0.16996140778064728, 0.09306232631206512, 0.04842456430196762, 0.03424112871289253], 'accuracy': [0.8707000017166138, 0.9332249760627747, 0.9644500017166138, 0.9837750196456909, 0.9878749847412109], 'val_loss': [0.25499334931373596, 0.27872610092163086, 0.3226114809513092, 0.48196327686309814, 0.555258572101593], 'val_accuracy': [0.8988000154495239, 0.900600016117096, 0.8916000127792358, 0.8927000164985657, 0.8916000127792358]}\n"
     ]
    }
   ],
   "source": [
    "print(\"BoW Training History:\")\n",
    "print(history_bow.history)"
   ]
  },
  {
   "cell_type": "code",
   "execution_count": 18,
   "id": "fa04bbf7",
   "metadata": {},
   "outputs": [
    {
     "name": "stdout",
     "output_type": "stream",
     "text": [
      "\n",
      "TF-IDF Training History:\n",
      "{'loss': [0.2980929911136627, 0.13996461033821106, 0.0663597509264946, 0.02376333810389042, 0.007375917863100767], 'accuracy': [0.874875009059906, 0.9474499821662903, 0.9755250215530396, 0.9915750026702881, 0.9969249963760376], 'val_loss': [0.2398533970117569, 0.27327674627304077, 0.40556296706199646, 0.5489850044250488, 0.7193324565887451], 'val_accuracy': [0.9027000069618225, 0.8952000141143799, 0.8899999856948853, 0.8903999924659729, 0.8892999887466431]}\n"
     ]
    }
   ],
   "source": [
    "print(\"\\nTF-IDF Training History:\")\n",
    "print(history_tfidf.history)"
   ]
  },
  {
   "cell_type": "markdown",
   "id": "267418c8",
   "metadata": {},
   "source": [
    "#### Accuracy"
   ]
  },
  {
   "cell_type": "code",
   "execution_count": 19,
   "id": "87701735",
   "metadata": {},
   "outputs": [
    {
     "data": {
      "text/plain": [
       "<matplotlib.legend.Legend at 0x1fb816ec160>"
      ]
     },
     "execution_count": 19,
     "metadata": {},
     "output_type": "execute_result"
    },
    {
     "data": {
      "image/png": "[encoded data removed]",
      "text/plain": [
       "<Figure size 640x480 with 1 Axes>"
      ]
     },
     "metadata": {},
     "output_type": "display_data"
    }
   ],
   "source": [
    "# Plot accuracy\n",
    "plt.figure()\n",
    "plt.plot(history_bow.history['accuracy'], label='BoW - Training')\n",
    "plt.plot(history_bow.history['val_accuracy'], label='BoW - Validation')\n",
    "plt.plot(history_tfidf.history['accuracy'], label='TF-IDF - Training')\n",
    "plt.plot(history_tfidf.history['val_accuracy'], label='TF-IDF - Validation')\n",
    "plt.xlabel('Epoch')\n",
    "plt.ylabel('Accuracy')\n",
    "plt.title('Model Accuracy')\n",
    "plt.legend()"
   ]
  },
  {
   "cell_type": "markdown",
   "id": "878fe1f9",
   "metadata": {},
   "source": [
    "#### Loss"
   ]
  },
  {
   "cell_type": "code",
   "execution_count": 20,
   "id": "8f1c9d86",
   "metadata": {},
   "outputs": [
    {
     "data": {
      "text/plain": [
       "<matplotlib.legend.Legend at 0x1fb82dcb850>"
      ]
     },
     "execution_count": 20,
     "metadata": {},
     "output_type": "execute_result"
    },
    {
     "data": {
      "image/png": "[encoded data removed]",
      "text/plain": [
       "<Figure size 640x480 with 1 Axes>"
      ]
     },
     "metadata": {},
     "output_type": "display_data"
    }
   ],
   "source": [
    "plt.figure()\n",
    "plt.plot(history_bow.history['loss'], label='BoW - Training')\n",
    "plt.plot(history_bow.history['val_loss'], label='BoW - Validation')\n",
    "plt.plot(history_tfidf.history['loss'], label='TF-IDF - Training')\n",
    "plt.plot(history_tfidf.history['val_loss'], label='TF-IDF - Validation')\n",
    "plt.xlabel('Epoch')\n",
    "plt.ylabel('Loss')\n",
    "plt.title('Model Loss')\n",
    "plt.legend()"
   ]
  },
  {
   "cell_type": "code",
   "execution_count": null,
   "id": "47696a64",
   "metadata": {},
   "outputs": [],
   "source": []
  }
 ],
 "metadata": {
  "kernelspec": {
   "display_name": "Python 3 (ipykernel)",
   "language": "python",
   "name": "python3"
  },
  "language_info": {
   "codemirror_mode": {
    "name": "ipython",
    "version": 3
   },
   "file_extension": ".py",
   "mimetype": "text/x-python",
   "name": "python",
   "nbconvert_exporter": "python",
   "pygments_lexer": "ipython3",
   "version": "3.9.13"
  }
 },
 "nbformat": 4,
 "nbformat_minor": 5
}
