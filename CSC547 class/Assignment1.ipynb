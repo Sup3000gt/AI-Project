{
 "cells": [
  {
   "cell_type": "markdown",
   "metadata": {
    "id": "aFjSHvegqvP0"
   },
   "source": [
    "Q1. <br>\n",
    "Import the necessary libraries <br>\n",
    "Import the dataset chipotle and Assign it to a variable. <br>\n",
    "How many products cost more than $10.00? <br>\n",
    "What is the price of each item? (print a data frame with only two columns item_name and item_price)<br>\n",
    "Sort by the name of the item<br>\n",
    "What was the quantity of the most expensive item ordered?<br>\n",
    "How many times was a Veggie Salad Bowl ordered?<br>\n",
    "How many times did someone order more than one Canned Soda?<br>\n",
    "\n",
    "\n",
    "\n",
    "\n"
   ]
  },
  {
   "cell_type": "markdown",
   "metadata": {
    "id": "k8xXpSsDrhs-"
   },
   "source": [
    "Q2.<br>\n",
    "Create the 3 DataFrames based on the raw data in the following cell. Assign each dataframe to a variable called data1, data2, data3. <br>\n",
    "Join the two dataframes along rows and assign all_data. <br>\n",
    "Join the two dataframes along columns and assing to all_data_col. <br>\n",
    "Merge all_data and data3 along the subject_id value. <br>\n",
    "Merge only the data that has the same 'subject_id' on both data1 and data2. <br>\n",
    "Merge all values in data1 and data2, with matching records from both sides where available. <br>"
   ]
  },
  {
   "cell_type": "code",
   "execution_count": null,
   "metadata": {
    "id": "HXTRiQ1gsnhb"
   },
   "outputs": [],
   "source": [
    "raw_data_1 = {\n",
    "        'subject_id': ['1', '2', '3', '4', '5'],\n",
    "        'first_name': ['Alex', 'Amy', 'Allen', 'Alice', 'Ayoung'], \n",
    "        'last_name': ['Anderson', 'Ackerman', 'Ali', 'Aoni', 'Atiches']}\n",
    "\n",
    "raw_data_2 = {\n",
    "        'subject_id': ['4', '5', '6', '7', '8'],\n",
    "        'first_name': ['Billy', 'Brian', 'Bran', 'Bryce', 'Betty'], \n",
    "        'last_name': ['Bonder', 'Black', 'Balwner', 'Brice', 'Btisan']}\n",
    "\n",
    "raw_data_3 = {\n",
    "        'subject_id': ['1', '2', '3', '4', '5', '7', '8', '9', '10', '11'],\n",
    "        'test_id': [51, 15, 15, 61, 16, 14, 15, 1, 61, 16]}"
   ]
  },
  {
   "cell_type": "markdown",
   "metadata": {
    "id": "iG9RTUOju4Ip"
   },
   "source": []
  }
 ],
 "metadata": {
  "colab": {
   "authorship_tag": "ABX9TyOFsWtMZoZET1mkFLbRqAIp",
   "provenance": []
  },
  "kernelspec": {
   "display_name": "Python 3 (ipykernel)",
   "language": "python",
   "name": "python3"
  },
  "language_info": {
   "codemirror_mode": {
    "name": "ipython",
    "version": 3
   },
   "file_extension": ".py",
   "mimetype": "text/x-python",
   "name": "python",
   "nbconvert_exporter": "python",
   "pygments_lexer": "ipython3",
   "version": "3.9.13"
  }
 },
 "nbformat": 4,
 "nbformat_minor": 1
}
