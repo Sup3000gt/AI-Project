{
 "cells": [
  {
   "cell_type": "markdown",
   "id": "547ab4c2",
   "metadata": {},
   "source": [
    "1. Import the numpy package under the name `np` and print the numpy version.\n"
   ]
  },
  {
   "cell_type": "code",
   "execution_count": 83,
   "id": "8fb160ed",
   "metadata": {},
   "outputs": [
    {
     "name": "stdout",
     "output_type": "stream",
     "text": [
      "1.21.5\n"
     ]
    }
   ],
   "source": [
    "import numpy as np\n",
    "print(np.__version__)"
   ]
  },
  {
   "cell_type": "markdown",
   "id": "790558f1",
   "metadata": {},
   "source": [
    "2. How to find the memory size of any array."
   ]
  },
  {
   "cell_type": "code",
   "execution_count": 84,
   "id": "11494acc",
   "metadata": {},
   "outputs": [
    {
     "name": "stdout",
     "output_type": "stream",
     "text": [
      "Memory size of one array element in bytes:  4\n"
     ]
    }
   ],
   "source": [
    "x = np.array([100,20,34,100,22,445,555])\n",
    "print(\"Memory size of one array element in bytes: \",\n",
    "      x.itemsize)"
   ]
  },
  {
   "cell_type": "markdown",
   "id": "700d281b",
   "metadata": {},
   "source": [
    "3. Create a vector with values ranging from 15 to 25."
   ]
  },
  {
   "cell_type": "code",
   "execution_count": 85,
   "id": "e36231d1",
   "metadata": {},
   "outputs": [
    {
     "name": "stdout",
     "output_type": "stream",
     "text": [
      "[15 16 17 18 19 20 21 22 23 24 25]\n"
     ]
    }
   ],
   "source": [
    "v = np.arange(15,26)\n",
    "print(v)"
   ]
  },
  {
   "cell_type": "markdown",
   "id": "b34bdfaa",
   "metadata": {},
   "source": [
    "4. Reverse a vector."
   ]
  },
  {
   "cell_type": "code",
   "execution_count": 86,
   "id": "23e57e95",
   "metadata": {},
   "outputs": [
    {
     "name": "stdout",
     "output_type": "stream",
     "text": [
      "[25 24 23 22 21 20 19 18 17 16 15]\n"
     ]
    }
   ],
   "source": [
    "print(v[::-1]) # [::-1] will reverse the list"
   ]
  },
  {
   "cell_type": "markdown",
   "id": "3c22cee0",
   "metadata": {},
   "source": [
    "5. Find indices of non-zero elements from [9,4,0,0,4,5]."
   ]
  },
  {
   "cell_type": "code",
   "execution_count": 87,
   "id": "6b4451f2",
   "metadata": {},
   "outputs": [
    {
     "name": "stdout",
     "output_type": "stream",
     "text": [
      "[0, 1, 4, 5]\n"
     ]
    }
   ],
   "source": [
    "arr = np.array([9,4,0,0,4,5])\n",
    "my_list = [] # make a empty list, iterate array, if number not equal to zero, append to list\n",
    "for i in range(0,len(arr)):\n",
    "    if arr[i] != 0 :\n",
    "        my_list.append(i)\n",
    "print(my_list)"
   ]
  },
  {
   "cell_type": "markdown",
   "id": "ea36b1ef",
   "metadata": {},
   "source": [
    "6. Create a 10x10 array with random values and find the minimum and maximum values."
   ]
  },
  {
   "cell_type": "code",
   "execution_count": 88,
   "id": "5834b9ad",
   "metadata": {},
   "outputs": [
    {
     "name": "stdout",
     "output_type": "stream",
     "text": [
      "[[12 51 97 12 24 90 39 25 13 18]\n",
      " [82 94 17 15 44 38 61 39 45 20]\n",
      " [18 32 21 49 54 63 12 55 31 49]\n",
      " [71 96 82 43 65 95 69 84 80  4]\n",
      " [31 14 48 85 40 61 71 14 42 77]\n",
      " [33 40 70 13 43  1 40 11 36 86]\n",
      " [91 90 75 77 43 35 45 92  2 29]\n",
      " [74 79 79 75 29 51  0  5 87 37]\n",
      " [51 36 50 58 81 54 83 34 63  2]\n",
      " [51 34 97 74  1  1 88 67 77 77]]\n",
      "max is  97\n",
      "min is  0\n"
     ]
    }
   ],
   "source": [
    "array = np.random.randint(100, size=(100)) # this create 100 random number, number range from 0 to 99\n",
    "matrix = array.reshape(10, 10) # .reshape method can reshape a list of 100 number into 10 by 10 matrix\n",
    "print(matrix)\n",
    "max = matrix.max()\n",
    "print('max is ' , max)\n",
    "min = matrix.min()\n",
    "print('min is ' , min)\n"
   ]
  },
  {
   "cell_type": "markdown",
   "id": "fa0c62b4",
   "metadata": {},
   "source": [
    "7. Normalize a 5x5 random matrix."
   ]
  },
  {
   "cell_type": "code",
   "execution_count": 89,
   "id": "e40eb9b1",
   "metadata": {},
   "outputs": [
    {
     "name": "stdout",
     "output_type": "stream",
     "text": [
      "Original Array:\n",
      "[2 3]\n",
      "After normalization:\n",
      "[0. 1.]\n"
     ]
    }
   ],
   "source": [
    "x= np.random.randint((5,5))\n",
    "print(\"Original Array:\")\n",
    "print(x)\n",
    "xmax, xmin = x.max(), x.min()\n",
    "x = (x - xmin)/(xmax - xmin)\n",
    "print(\"After normalization:\")\n",
    "print(x)"
   ]
  },
  {
   "cell_type": "markdown",
   "id": "a36cfbce",
   "metadata": {},
   "source": [
    "8. Multiply a 5x3 matrix by a 3x2 matrix."
   ]
  },
  {
   "cell_type": "code",
   "execution_count": 90,
   "id": "d93f21ae",
   "metadata": {},
   "outputs": [
    {
     "name": "stdout",
     "output_type": "stream",
     "text": [
      "[[7 8 3]\n",
      " [9 6 8]\n",
      " [3 4 7]\n",
      " [2 8 1]\n",
      " [7 2 7]]\n",
      "[[5 1]\n",
      " [2 8]\n",
      " [3 2]]\n",
      "[[60 77]\n",
      " [81 73]\n",
      " [44 49]\n",
      " [29 68]\n",
      " [60 37]]\n"
     ]
    }
   ],
   "source": [
    "array = np.random.randint(10, size=(15))\n",
    "arr1 = array.reshape(5, 3)\n",
    "print(arr1)\n",
    "\n",
    "\n",
    "array = np.random.randint(10, size=(6))\n",
    "arr2 = array.reshape(3, 2)\n",
    "print(arr2)\n",
    "\n",
    "\n",
    "print(np.matmul(arr1,arr2))\n"
   ]
  },
  {
   "cell_type": "markdown",
   "id": "6c9f003c",
   "metadata": {},
   "source": [
    "9. Create random vector of size 10 and replace the maximum value by 0."
   ]
  },
  {
   "cell_type": "code",
   "execution_count": 91,
   "id": "b0a10963",
   "metadata": {},
   "outputs": [
    {
     "name": "stdout",
     "output_type": "stream",
     "text": [
      "Original array:\n",
      "[17 19 25 36  9 28 14 28 46 32]\n",
      "max number is:  46\n",
      "Maximum value replaced by 0:\n",
      "[17 19 25 36  9 28 14 28  0 32]\n"
     ]
    }
   ],
   "source": [
    "array = np.random.randint(50,size = (10)) # generate 10 random number between 0 to 49\n",
    "print(\"Original array:\")\n",
    "print(array)\n",
    "\n",
    "print('max number is: ',array.max()) # .argmax will returns the indices of the maximum values, then set to 0\n",
    "array[array.argmax()] = 0\n",
    "\n",
    "print(\"Maximum value replaced by 0:\")\n",
    "print(array)"
   ]
  },
  {
   "cell_type": "markdown",
   "id": "e2a0b976",
   "metadata": {},
   "source": [
    "10. Create a null vector of size 10 but the fifth value which is 1."
   ]
  },
  {
   "cell_type": "code",
   "execution_count": 92,
   "id": "7605ba5d",
   "metadata": {},
   "outputs": [
    {
     "name": "stdout",
     "output_type": "stream",
     "text": [
      "[0. 0. 0. 0. 1. 0. 0. 0. 0. 0.]\n"
     ]
    }
   ],
   "source": [
    "null_vector = np.zeros(10) # generate empty list with size 10\n",
    "null_vector[4] = 1 # fifth value which has indices of 4, set to 1\n",
    "print(null_vector) # print out list"
   ]
  },
  {
   "cell_type": "code",
   "execution_count": null,
   "id": "748aaa13",
   "metadata": {},
   "outputs": [],
   "source": []
  }
 ],
 "metadata": {
  "kernelspec": {
   "display_name": "Python 3 (ipykernel)",
   "language": "python",
   "name": "python3"
  },
  "language_info": {
   "codemirror_mode": {
    "name": "ipython",
    "version": 3
   },
   "file_extension": ".py",
   "mimetype": "text/x-python",
   "name": "python",
   "nbconvert_exporter": "python",
   "pygments_lexer": "ipython3",
   "version": "3.9.13"
  }
 },
 "nbformat": 4,
 "nbformat_minor": 5
}
