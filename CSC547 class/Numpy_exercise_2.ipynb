{
 "cells": [
  {
   "cell_type": "markdown",
   "id": "547ab4c2",
   "metadata": {},
   "source": [
    "1. Import the numpy package under the name `np` and print the numpy version.\n"
   ]
  },
  {
   "cell_type": "code",
   "execution_count": 116,
   "id": "8fb160ed",
   "metadata": {},
   "outputs": [
    {
     "name": "stdout",
     "output_type": "stream",
     "text": [
      "1.21.5\n"
     ]
    }
   ],
   "source": [
    "from sklearn import preprocessing\n",
    "import numpy as np\n",
    "print(np.__version__)"
   ]
  },
  {
   "cell_type": "markdown",
   "id": "790558f1",
   "metadata": {},
   "source": [
    "2. How to find the memory size of any array."
   ]
  },
  {
   "cell_type": "code",
   "execution_count": 103,
   "id": "11494acc",
   "metadata": {},
   "outputs": [
    {
     "name": "stdout",
     "output_type": "stream",
     "text": [
      "Memory size of one array element in bytes:  4\n"
     ]
    }
   ],
   "source": [
    "x = np.array([100,20,34,100,22,445,555])\n",
    "print(\"Memory size of one array element in bytes: \",\n",
    "      x.itemsize)"
   ]
  },
  {
   "cell_type": "markdown",
   "id": "700d281b",
   "metadata": {},
   "source": [
    "3. Create a vector with values ranging from 15 to 25."
   ]
  },
  {
   "cell_type": "code",
   "execution_count": 104,
   "id": "e36231d1",
   "metadata": {},
   "outputs": [
    {
     "name": "stdout",
     "output_type": "stream",
     "text": [
      "[15 16 17 18 19 20 21 22 23 24 25]\n"
     ]
    }
   ],
   "source": [
    "v = np.arange(15,26)\n",
    "print(v)"
   ]
  },
  {
   "cell_type": "markdown",
   "id": "b34bdfaa",
   "metadata": {},
   "source": [
    "4. Reverse a vector."
   ]
  },
  {
   "cell_type": "code",
   "execution_count": 105,
   "id": "23e57e95",
   "metadata": {},
   "outputs": [
    {
     "name": "stdout",
     "output_type": "stream",
     "text": [
      "[25 24 23 22 21 20 19 18 17 16 15]\n"
     ]
    }
   ],
   "source": [
    "print(v[::-1]) # [::-1] will reverse the list"
   ]
  },
  {
   "cell_type": "markdown",
   "id": "3c22cee0",
   "metadata": {},
   "source": [
    "5. Find indices of non-zero elements from [9,4,0,0,4,5]."
   ]
  },
  {
   "cell_type": "code",
   "execution_count": 106,
   "id": "6b4451f2",
   "metadata": {},
   "outputs": [
    {
     "name": "stdout",
     "output_type": "stream",
     "text": [
      "[0, 1, 4, 5]\n"
     ]
    }
   ],
   "source": [
    "arr = np.array([9,4,0,0,4,5])\n",
    "my_list = [] # make a empty list, iterate array, if number not equal to zero, append to list\n",
    "for i in range(0,len(arr)):\n",
    "    if arr[i] != 0 :\n",
    "        my_list.append(i)\n",
    "print(my_list)"
   ]
  },
  {
   "cell_type": "markdown",
   "id": "ea36b1ef",
   "metadata": {},
   "source": [
    "6. Create a 10x10 array with random values and find the minimum and maximum values."
   ]
  },
  {
   "cell_type": "code",
   "execution_count": 107,
   "id": "5834b9ad",
   "metadata": {},
   "outputs": [
    {
     "name": "stdout",
     "output_type": "stream",
     "text": [
      "[[78 14 34 80  4 72 99 81 67 74]\n",
      " [10 28  4 45 55 80 89 30 47  6]\n",
      " [62 70  1 73 27  2 11 20 12 87]\n",
      " [31  1 15 64 49 27 21 15 71 57]\n",
      " [19  9 73 74 82 74 85 72 79 55]\n",
      " [92 31 43 18 85 38 89 86  9 37]\n",
      " [46 46  5 64 31 84 40 33 38 49]\n",
      " [67 25 10 70 93 83 43 63 42 72]\n",
      " [68 71 97 18 34 72 81 12 51 13]\n",
      " [34 50 39  5 28 21 58 17 45 41]]\n",
      "max is  99\n",
      "min is  1\n"
     ]
    }
   ],
   "source": [
    "array = np.random.randint(100, size=(100)) # this create 100 random number, number range from 0 to 99\n",
    "matrix = array.reshape(10, 10) # .reshape method can reshape a list of 100 number into 10 by 10 matrix\n",
    "print(matrix)\n",
    "max = matrix.max()\n",
    "print('max is ' , max)\n",
    "min = matrix.min()\n",
    "print('min is ' , min)\n"
   ]
  },
  {
   "cell_type": "markdown",
   "id": "6b75d236",
   "metadata": {},
   "source": [
    "7. Normalize a 5x5 random matrix."
   ]
  },
  {
   "cell_type": "markdown",
   "id": "8dceba66",
   "metadata": {},
   "source": [
    "### *Formula for Normalize*  $$x_{new} = \\frac{x - x_{min}}{x_{max}-x_{min}}$$"
   ]
  },
  {
   "cell_type": "code",
   "execution_count": 115,
   "id": "e40eb9b1",
   "metadata": {},
   "outputs": [
    {
     "name": "stdout",
     "output_type": "stream",
     "text": [
      "Original Array:\n",
      "[[ 8  5  8  1  0]\n",
      " [ 2  7  6  8 10]\n",
      " [ 5  8  5  3  9]\n",
      " [ 9  3  3  2  0]\n",
      " [ 0  3  7  1  9]]\n",
      "10 0\n",
      "After normalization:\n",
      "[[0.8 0.5 0.8 0.1 0. ]\n",
      " [0.2 0.7 0.6 0.8 1. ]\n",
      " [0.5 0.8 0.5 0.3 0.9]\n",
      " [0.9 0.3 0.3 0.2 0. ]\n",
      " [0.  0.3 0.7 0.1 0.9]]\n"
     ]
    }
   ],
   "source": [
    "array = np.random.randint(11, size=(25)) #generate 5 by 5 matrix, with random number between 0 to 10\n",
    "x = array.reshape(5, 5)\n",
    "print(\"Original Array:\")\n",
    "print(x)\n",
    "xmax, xmin = x.max(), x.min() # find min and max number out of matrix\n",
    "print(xmax,xmin)\n",
    "x = (x - xmin)/(xmax - xmin) # use formula difference between min and number / difference between max and min\n",
    "print(\"After normalization:\")\n",
    "print(x)"
   ]
  },
  {
   "cell_type": "code",
   "execution_count": 119,
   "id": "3c19993b",
   "metadata": {},
   "outputs": [
    {
     "name": "stdout",
     "output_type": "stream",
     "text": [
      "[[1 1 0 6 3]\n",
      " [1 7 0 4 1]\n",
      " [2 8 1 1 5]\n",
      " [9 5 1 0 5]\n",
      " [5 9 7 5 0]]\n"
     ]
    },
    {
     "ename": "ValueError",
     "evalue": "Found array with dim 3. the normalize function expected <= 2.",
     "output_type": "error",
     "traceback": [
      "\u001b[1;31m---------------------------------------------------------------------------\u001b[0m",
      "\u001b[1;31mValueError\u001b[0m                                Traceback (most recent call last)",
      "\u001b[1;32m~\\AppData\\Local\\Temp\\ipykernel_29492\\42823243.py\u001b[0m in \u001b[0;36m<module>\u001b[1;34m\u001b[0m\n\u001b[0;32m      2\u001b[0m \u001b[0mx\u001b[0m \u001b[1;33m=\u001b[0m \u001b[0marray\u001b[0m\u001b[1;33m.\u001b[0m\u001b[0mreshape\u001b[0m\u001b[1;33m(\u001b[0m\u001b[1;36m5\u001b[0m\u001b[1;33m,\u001b[0m \u001b[1;36m5\u001b[0m\u001b[1;33m)\u001b[0m\u001b[1;33m\u001b[0m\u001b[1;33m\u001b[0m\u001b[0m\n\u001b[0;32m      3\u001b[0m \u001b[0mprint\u001b[0m\u001b[1;33m(\u001b[0m\u001b[0mx\u001b[0m\u001b[1;33m)\u001b[0m\u001b[1;33m\u001b[0m\u001b[1;33m\u001b[0m\u001b[0m\n\u001b[1;32m----> 4\u001b[1;33m \u001b[0mnormalized_arr\u001b[0m \u001b[1;33m=\u001b[0m \u001b[0mpreprocessing\u001b[0m\u001b[1;33m.\u001b[0m\u001b[0mnormalize\u001b[0m\u001b[1;33m(\u001b[0m\u001b[1;33m[\u001b[0m\u001b[0mx\u001b[0m\u001b[1;33m]\u001b[0m\u001b[1;33m)\u001b[0m\u001b[1;33m\u001b[0m\u001b[1;33m\u001b[0m\u001b[0m\n\u001b[0m\u001b[0;32m      5\u001b[0m \u001b[0mprint\u001b[0m\u001b[1;33m(\u001b[0m\u001b[0mnormalized_arr\u001b[0m\u001b[1;33m)\u001b[0m\u001b[1;33m\u001b[0m\u001b[1;33m\u001b[0m\u001b[0m\n",
      "\u001b[1;32mG:\\anaconda3\\lib\\site-packages\\sklearn\\preprocessing\\_data.py\u001b[0m in \u001b[0;36mnormalize\u001b[1;34m(X, norm, axis, copy, return_norm)\u001b[0m\n\u001b[0;32m   1790\u001b[0m         \u001b[1;32mraise\u001b[0m \u001b[0mValueError\u001b[0m\u001b[1;33m(\u001b[0m\u001b[1;34m\"'%d' is not a supported axis\"\u001b[0m \u001b[1;33m%\u001b[0m \u001b[0maxis\u001b[0m\u001b[1;33m)\u001b[0m\u001b[1;33m\u001b[0m\u001b[1;33m\u001b[0m\u001b[0m\n\u001b[0;32m   1791\u001b[0m \u001b[1;33m\u001b[0m\u001b[0m\n\u001b[1;32m-> 1792\u001b[1;33m     X = check_array(\n\u001b[0m\u001b[0;32m   1793\u001b[0m         \u001b[0mX\u001b[0m\u001b[1;33m,\u001b[0m\u001b[1;33m\u001b[0m\u001b[1;33m\u001b[0m\u001b[0m\n\u001b[0;32m   1794\u001b[0m         \u001b[0maccept_sparse\u001b[0m\u001b[1;33m=\u001b[0m\u001b[0msparse_format\u001b[0m\u001b[1;33m,\u001b[0m\u001b[1;33m\u001b[0m\u001b[1;33m\u001b[0m\u001b[0m\n",
      "\u001b[1;32mG:\\anaconda3\\lib\\site-packages\\sklearn\\utils\\validation.py\u001b[0m in \u001b[0;36mcheck_array\u001b[1;34m(array, accept_sparse, accept_large_sparse, dtype, order, copy, force_all_finite, ensure_2d, allow_nd, ensure_min_samples, ensure_min_features, estimator)\u001b[0m\n\u001b[0;32m    792\u001b[0m                 ) from e\n\u001b[0;32m    793\u001b[0m         \u001b[1;32mif\u001b[0m \u001b[1;32mnot\u001b[0m \u001b[0mallow_nd\u001b[0m \u001b[1;32mand\u001b[0m \u001b[0marray\u001b[0m\u001b[1;33m.\u001b[0m\u001b[0mndim\u001b[0m \u001b[1;33m>=\u001b[0m \u001b[1;36m3\u001b[0m\u001b[1;33m:\u001b[0m\u001b[1;33m\u001b[0m\u001b[1;33m\u001b[0m\u001b[0m\n\u001b[1;32m--> 794\u001b[1;33m             raise ValueError(\n\u001b[0m\u001b[0;32m    795\u001b[0m                 \u001b[1;34m\"Found array with dim %d. %s expected <= 2.\"\u001b[0m\u001b[1;33m\u001b[0m\u001b[1;33m\u001b[0m\u001b[0m\n\u001b[0;32m    796\u001b[0m                 \u001b[1;33m%\u001b[0m \u001b[1;33m(\u001b[0m\u001b[0marray\u001b[0m\u001b[1;33m.\u001b[0m\u001b[0mndim\u001b[0m\u001b[1;33m,\u001b[0m \u001b[0mestimator_name\u001b[0m\u001b[1;33m)\u001b[0m\u001b[1;33m\u001b[0m\u001b[1;33m\u001b[0m\u001b[0m\n",
      "\u001b[1;31mValueError\u001b[0m: Found array with dim 3. the normalize function expected <= 2."
     ]
    }
   ],
   "source": [
    "array = np.random.randint(11, size=(25)) #generate 5 by 5 matrix, with random number between 0 to 10\n",
    "x = array.reshape(5, 5)\n",
    "print(x)\n",
    "normalized_arr = preprocessing.normalize([x])\n",
    "print(normalized_arr)"
   ]
  },
  {
   "cell_type": "markdown",
   "id": "8d0f4e8c",
   "metadata": {},
   "source": [
    "8. Multiply a 5x3 matrix by a 3x2 matrix."
   ]
  },
  {
   "cell_type": "code",
   "execution_count": 94,
   "id": "fff053e5",
   "metadata": {},
   "outputs": [
    {
     "name": "stdout",
     "output_type": "stream",
     "text": [
      "[[2 2 4]\n",
      " [6 9 0]\n",
      " [2 7 8]\n",
      " [4 0 2]\n",
      " [2 9 6]]\n",
      "[[6 2]\n",
      " [5 9]\n",
      " [2 2]]\n",
      "[[30 30]\n",
      " [81 93]\n",
      " [63 83]\n",
      " [28 12]\n",
      " [69 97]]\n"
     ]
    }
   ],
   "source": [
    "array = np.random.randint(10, size=(15))\n",
    "arr1 = array.reshape(5, 3)\n",
    "print(arr1)\n",
    "\n",
    "\n",
    "array = np.random.randint(10, size=(6))\n",
    "arr2 = array.reshape(3, 2)\n",
    "print(arr2)\n",
    "\n",
    "\n",
    "print(np.matmul(arr1,arr2))\n"
   ]
  },
  {
   "cell_type": "markdown",
   "id": "cb33b4bf",
   "metadata": {},
   "source": [
    "9. Create random vector of size 10 and replace the maximum value by 0."
   ]
  },
  {
   "cell_type": "code",
   "execution_count": 91,
   "id": "5118be98",
   "metadata": {},
   "outputs": [
    {
     "name": "stdout",
     "output_type": "stream",
     "text": [
      "Original array:\n",
      "[17 19 25 36  9 28 14 28 46 32]\n",
      "max number is:  46\n",
      "Maximum value replaced by 0:\n",
      "[17 19 25 36  9 28 14 28  0 32]\n"
     ]
    }
   ],
   "source": [
    "array = np.random.randint(50,size = (10)) # generate 10 random number between 0 to 49\n",
    "print(\"Original array:\")\n",
    "print(array)\n",
    "\n",
    "print('max number is: ',array.max()) # .argmax will returns the indices of the maximum values, then set to 0\n",
    "array[array.argmax()] = 0\n",
    "\n",
    "print(\"Maximum value replaced by 0:\")\n",
    "print(array)"
   ]
  },
  {
   "cell_type": "markdown",
   "id": "7ffa5729",
   "metadata": {},
   "source": [
    "10. Create a null vector of size 10 but the fifth value which is 1."
   ]
  },
  {
   "cell_type": "code",
   "execution_count": 92,
   "id": "3cb3277d",
   "metadata": {},
   "outputs": [
    {
     "name": "stdout",
     "output_type": "stream",
     "text": [
      "[0. 0. 0. 0. 1. 0. 0. 0. 0. 0.]\n"
     ]
    }
   ],
   "source": [
    "null_vector = np.zeros(10) # generate empty list with size 10\n",
    "null_vector[4] = 1 # fifth value which has indices of 4, set to 1\n",
    "print(null_vector) # print out list"
   ]
  },
  {
   "cell_type": "code",
   "execution_count": null,
   "id": "0fce164c",
   "metadata": {},
   "outputs": [],
   "source": []
  }
 ],
 "metadata": {
  "kernelspec": {
   "display_name": "Python 3 (ipykernel)",
   "language": "python",
   "name": "python3"
  },
  "language_info": {
   "codemirror_mode": {
    "name": "ipython",
    "version": 3
   },
   "file_extension": ".py",
   "mimetype": "text/x-python",
   "name": "python",
   "nbconvert_exporter": "python",
   "pygments_lexer": "ipython3",
   "version": "3.9.13"
  }
 },
 "nbformat": 4,
 "nbformat_minor": 5
}
