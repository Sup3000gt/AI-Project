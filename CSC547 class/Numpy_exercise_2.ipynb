{
 "cells": [
  {
   "cell_type": "markdown",
   "id": "547ab4c2",
   "metadata": {},
   "source": [
    "1. Import the numpy package under the name `np` and print the numpy version.\n"
   ]
  },
  {
   "cell_type": "code",
   "execution_count": 1,
   "id": "8fb160ed",
   "metadata": {},
   "outputs": [
    {
     "name": "stdout",
     "output_type": "stream",
     "text": [
      "1.21.5\n"
     ]
    }
   ],
   "source": [
    "import numpy as np\n",
    "print(np.__version__)"
   ]
  },
  {
   "cell_type": "markdown",
   "id": "790558f1",
   "metadata": {},
   "source": [
    "2. How to find the memory size of any array."
   ]
  },
  {
   "cell_type": "code",
   "execution_count": 2,
   "id": "11494acc",
   "metadata": {},
   "outputs": [
    {
     "name": "stdout",
     "output_type": "stream",
     "text": [
      "Memory size of one array element in bytes:  4\n"
     ]
    }
   ],
   "source": [
    "x = np.array([100,20,34,100,22,445,555])\n",
    "print(\"Memory size of one array element in bytes: \",\n",
    "      x.itemsize)"
   ]
  },
  {
   "cell_type": "markdown",
   "id": "700d281b",
   "metadata": {},
   "source": [
    "3. Create a vector with values ranging from 15 to 25."
   ]
  },
  {
   "cell_type": "code",
   "execution_count": 3,
   "id": "e36231d1",
   "metadata": {},
   "outputs": [
    {
     "name": "stdout",
     "output_type": "stream",
     "text": [
      "[15 16 17 18 19 20 21 22 23 24 25]\n"
     ]
    }
   ],
   "source": [
    "v = np.arange(15,26)\n",
    "print(v)"
   ]
  },
  {
   "cell_type": "markdown",
   "id": "b34bdfaa",
   "metadata": {},
   "source": [
    "4. Reverse a vector."
   ]
  },
  {
   "cell_type": "code",
   "execution_count": 4,
   "id": "23e57e95",
   "metadata": {},
   "outputs": [
    {
     "name": "stdout",
     "output_type": "stream",
     "text": [
      "[25 24 23 22 21 20 19 18 17 16 15]\n"
     ]
    }
   ],
   "source": [
    "print(v[::-1]) # [::-1] will reverse the list"
   ]
  },
  {
   "cell_type": "markdown",
   "id": "3c22cee0",
   "metadata": {},
   "source": [
    "5. Find indices of non-zero elements from [9,4,0,0,4,5]."
   ]
  },
  {
   "cell_type": "code",
   "execution_count": 5,
   "id": "6b4451f2",
   "metadata": {},
   "outputs": [
    {
     "name": "stdout",
     "output_type": "stream",
     "text": [
      "[0, 1, 4, 5]\n"
     ]
    }
   ],
   "source": [
    "arr = np.array([9,4,0,0,4,5])\n",
    "my_list = [] # make a empty list, iterate array, if number not equal to zero, append to list\n",
    "for i in range(0,len(arr)):\n",
    "    if arr[i] != 0 :\n",
    "        my_list.append(i)\n",
    "print(my_list)"
   ]
  },
  {
   "cell_type": "markdown",
   "id": "ea36b1ef",
   "metadata": {},
   "source": [
    "6. Create a 10x10 array with random values and find the minimum and maximum values."
   ]
  },
  {
   "cell_type": "code",
   "execution_count": 6,
   "id": "5834b9ad",
   "metadata": {},
   "outputs": [
    {
     "name": "stdout",
     "output_type": "stream",
     "text": [
      "[[31 39  9 61 31 85 62 70 19 41]\n",
      " [75 43 92 87 36  8 12 95 80 93]\n",
      " [30 88 50 92 42 46 75 96  4 50]\n",
      " [69 98 22 31 18 80 49 83 65 47]\n",
      " [44 64 49 17 78 84  0 95 22 50]\n",
      " [45 97 84 13 82 25 87 26 23 74]\n",
      " [88 37 28 63 34 61 17 82 22 20]\n",
      " [54 53 85 21  3 64 22 11 60 39]\n",
      " [ 5 38  5 57 10  2 85 26 36 55]\n",
      " [21 60 26 47 47 12 22 46 63 33]]\n",
      "max is  98\n",
      "min is  0\n"
     ]
    }
   ],
   "source": [
    "array = np.random.randint(100, size=(100)) # this create 100 random number, number range from 0 to 99\n",
    "matrix = array.reshape(10, 10) # .reshape method can reshape a list of 100 number into 10 by 10 matrix\n",
    "print(matrix)\n",
    "max = matrix.max()\n",
    "print('max is ' , max)\n",
    "min = matrix.min()\n",
    "print('min is ' , min)\n"
   ]
  },
  {
   "cell_type": "markdown",
   "id": "9e35ca87",
   "metadata": {},
   "source": [
    "7. Normalize a 5x5 random matrix."
   ]
  },
  {
   "cell_type": "markdown",
   "id": "3d9bf34e",
   "metadata": {},
   "source": [
    "### *Formula for Normalize*  $$x_{new} = \\frac{x - x_{min}}{x_{max}-x_{min}}$$"
   ]
  },
  {
   "cell_type": "code",
   "execution_count": 7,
   "id": "e40eb9b1",
   "metadata": {},
   "outputs": [
    {
     "name": "stdout",
     "output_type": "stream",
     "text": [
      "Original Array:\n",
      "[[10  4  4  2  0]\n",
      " [ 7  4  1  6  2]\n",
      " [ 9  9 10  3  2]\n",
      " [ 9 10  8  9  9]\n",
      " [ 1  9  2  6 10]]\n",
      "10 0\n",
      "After normalization:\n",
      "[[1.  0.4 0.4 0.2 0. ]\n",
      " [0.7 0.4 0.1 0.6 0.2]\n",
      " [0.9 0.9 1.  0.3 0.2]\n",
      " [0.9 1.  0.8 0.9 0.9]\n",
      " [0.1 0.9 0.2 0.6 1. ]]\n"
     ]
    }
   ],
   "source": [
    "array = np.random.randint(11, size=(25)) #generate 5 by 5 matrix, with random number between 0 to 10\n",
    "x = array.reshape(5, 5)\n",
    "print(\"Original Array:\")\n",
    "print(x)\n",
    "xmax, xmin = x.max(), x.min() # find min and max number out of matrix\n",
    "print(xmax,xmin)\n",
    "x = (x - xmin)/(xmax - xmin) # use formula difference between min and number / difference between max and min\n",
    "print(\"After normalization:\")\n",
    "print(x)"
   ]
  },
  {
   "cell_type": "markdown",
   "id": "c99e1b48",
   "metadata": {},
   "source": [
    "8. Multiply a 5x3 matrix by a 3x2 matrix."
   ]
  },
  {
   "cell_type": "code",
   "execution_count": 8,
   "id": "4f880fcf",
   "metadata": {},
   "outputs": [
    {
     "name": "stdout",
     "output_type": "stream",
     "text": [
      "[[0 7 2]\n",
      " [6 0 7]\n",
      " [9 8 2]\n",
      " [5 3 3]\n",
      " [2 8 1]]\n",
      "[[8 7]\n",
      " [9 9]\n",
      " [6 9]]\n",
      "[[ 75  81]\n",
      " [ 90 105]\n",
      " [156 153]\n",
      " [ 85  89]\n",
      " [ 94  95]]\n"
     ]
    }
   ],
   "source": [
    "array = np.random.randint(10, size=(15))\n",
    "arr1 = array.reshape(5, 3)\n",
    "print(arr1)\n",
    "\n",
    "\n",
    "array = np.random.randint(10, size=(6))\n",
    "arr2 = array.reshape(3, 2)\n",
    "print(arr2)\n",
    "\n",
    "\n",
    "print(np.matmul(arr1,arr2))\n"
   ]
  },
  {
   "cell_type": "markdown",
   "id": "86ad05f0",
   "metadata": {},
   "source": [
    "9. Create random vector of size 10 and replace the maximum value by 0."
   ]
  },
  {
   "cell_type": "code",
   "execution_count": 9,
   "id": "ea1c52f9",
   "metadata": {},
   "outputs": [
    {
     "name": "stdout",
     "output_type": "stream",
     "text": [
      "Original array:\n",
      "[33 27  2 27 47 12 27 25  7 23]\n",
      "max number is:  47\n",
      "Maximum value replaced by 0:\n",
      "[33 27  2 27  0 12 27 25  7 23]\n"
     ]
    }
   ],
   "source": [
    "array = np.random.randint(50,size = (10)) # generate 10 random number between 0 to 49\n",
    "print(\"Original array:\")\n",
    "print(array)\n",
    "\n",
    "print('max number is: ',array.max()) # .argmax will returns the indices of the maximum values, then set to 0\n",
    "array[array.argmax()] = 0\n",
    "\n",
    "print(\"Maximum value replaced by 0:\")\n",
    "print(array)"
   ]
  },
  {
   "cell_type": "markdown",
   "id": "33f122db",
   "metadata": {},
   "source": [
    "10. Create a null vector of size 10 but the fifth value which is 1."
   ]
  },
  {
   "cell_type": "code",
   "execution_count": 10,
   "id": "220e26fa",
   "metadata": {},
   "outputs": [
    {
     "name": "stdout",
     "output_type": "stream",
     "text": [
      "[0. 0. 0. 0. 1. 0. 0. 0. 0. 0.]\n"
     ]
    }
   ],
   "source": [
    "null_vector = np.zeros(10) # generate empty list with size 10\n",
    "null_vector[4] = 1 # fifth value which has indices of 4, set to 1\n",
    "print(null_vector) # print out list"
   ]
  },
  {
   "cell_type": "code",
   "execution_count": null,
   "id": "1bf18648",
   "metadata": {},
   "outputs": [],
   "source": []
  }
 ],
 "metadata": {
  "kernelspec": {
   "display_name": "Python 3 (ipykernel)",
   "language": "python",
   "name": "python3"
  },
  "language_info": {
   "codemirror_mode": {
    "name": "ipython",
    "version": 3
   },
   "file_extension": ".py",
   "mimetype": "text/x-python",
   "name": "python",
   "nbconvert_exporter": "python",
   "pygments_lexer": "ipython3",
   "version": "3.9.13"
  }
 },
 "nbformat": 4,
 "nbformat_minor": 5
}
