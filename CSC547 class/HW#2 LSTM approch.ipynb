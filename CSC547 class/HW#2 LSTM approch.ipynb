{
 "cells": [
  {
   "cell_type": "code",
   "execution_count": 37,
   "id": "93a7aaaf",
   "metadata": {},
   "outputs": [],
   "source": [
    "#### Import necessary library"
   ]
  },
  {
   "cell_type": "code",
   "execution_count": 38,
   "id": "4819232b",
   "metadata": {},
   "outputs": [],
   "source": [
    "import os\n",
    "import numpy as np\n",
    "import pandas as pd\n",
    "import tensorflow as tf\n",
    "from tensorflow.keras.preprocessing.text import Tokenizer\n",
    "from tensorflow.keras.preprocessing.sequence import pad_sequences\n",
    "from tensorflow.keras import layers\n",
    "from keras.layers import Dense\n",
    "from keras.models import Sequential\n",
    "from keras.layers import Embedding, LSTM, Dense, Dropout\n"
   ]
  },
  {
   "cell_type": "code",
   "execution_count": 39,
   "id": "f4abef5c",
   "metadata": {},
   "outputs": [
    {
     "name": "stdout",
     "output_type": "stream",
     "text": [
      "Found 25000 files belonging to 2 classes.\n",
      "Found 25000 files belonging to 2 classes.\n"
     ]
    }
   ],
   "source": [
    "train_dir = 'C:\\\\Users\\\\alan\\\\AI Project\\\\dataset\\\\aclImdb\\\\train'\n",
    "val_dir = 'C:\\\\Users\\\\alan\\\\AI Project\\\\dataset\\\\aclImdb\\\\test'\n",
    "batch_size = 32\n",
    "\n",
    "raw_train_ds = tf.keras.preprocessing.text_dataset_from_directory(\n",
    "    train_dir,\n",
    "    batch_size=batch_size,\n",
    "    class_names=['neg', 'pos'])\n",
    "\n",
    "raw_val_ds = tf.keras.preprocessing.text_dataset_from_directory(\n",
    "    val_dir,\n",
    "    batch_size=batch_size,\n",
    "    class_names=['neg', 'pos'])"
   ]
  },
  {
   "cell_type": "code",
   "execution_count": 40,
   "id": "cae8d410",
   "metadata": {},
   "outputs": [],
   "source": [
    "# Define the text vectorization layer\n",
    "vectorize_layer = layers.TextVectorization(\n",
    "    max_tokens=10000,\n",
    "    output_mode='int',\n",
    "    output_sequence_length=500)"
   ]
  },
  {
   "cell_type": "code",
   "execution_count": 41,
   "id": "d030d088",
   "metadata": {},
   "outputs": [],
   "source": [
    "# Fit the text vectorization layer to the training data\n",
    "train_text = raw_train_ds.map(lambda x, y: x)\n",
    "vectorize_layer.adapt(train_text)"
   ]
  },
  {
   "cell_type": "code",
   "execution_count": 42,
   "id": "f4d086eb",
   "metadata": {},
   "outputs": [],
   "source": [
    "# Define a function to apply the text vectorization layer to the data\n",
    "def vectorize_text(text, label):\n",
    "    text = tf.expand_dims(text, -1)\n",
    "    return vectorize_layer(text), label"
   ]
  },
  {
   "cell_type": "code",
   "execution_count": 43,
   "id": "2d48620c",
   "metadata": {},
   "outputs": [],
   "source": [
    "# Apply the text vectorization layer to the training and validation data\n",
    "train_ds = raw_train_ds.map(vectorize_text)\n",
    "val_ds = raw_val_ds.map(vectorize_text)"
   ]
  },
  {
   "cell_type": "code",
   "execution_count": 47,
   "id": "b7299027",
   "metadata": {},
   "outputs": [],
   "source": [
    "# Define the model architecture\n",
    "model = tf.keras.Sequential([\n",
    "    layers.Embedding(input_dim=10000, output_dim=16),\n",
    "    layers.LSTM(16),\n",
    "    layers.Dense(1, activation='sigmoid')\n",
    "])\n",
    "\n"
   ]
  },
  {
   "cell_type": "code",
   "execution_count": 48,
   "id": "2d4456fc",
   "metadata": {},
   "outputs": [],
   "source": [
    "# Compile the model\n",
    "model.compile(loss='binary_crossentropy', optimizer='adam', metrics=['accuracy'])"
   ]
  },
  {
   "cell_type": "code",
   "execution_count": 49,
   "id": "f6f879dc",
   "metadata": {},
   "outputs": [
    {
     "name": "stdout",
     "output_type": "stream",
     "text": [
      "Epoch 1/5\n",
      "782/782 [==============================] - 107s 135ms/step - loss: 0.6932 - accuracy: 0.5014 - val_loss: 0.6928 - val_accuracy: 0.5056\n",
      "Epoch 2/5\n",
      "782/782 [==============================] - 105s 135ms/step - loss: 0.6886 - accuracy: 0.5120 - val_loss: 0.6923 - val_accuracy: 0.5108\n",
      "Epoch 3/5\n",
      "782/782 [==============================] - 110s 141ms/step - loss: 0.6721 - accuracy: 0.5289 - val_loss: 0.7020 - val_accuracy: 0.5085\n",
      "Epoch 4/5\n",
      "782/782 [==============================] - 101s 129ms/step - loss: 0.6512 - accuracy: 0.5379 - val_loss: 0.7198 - val_accuracy: 0.5028\n",
      "Epoch 5/5\n",
      "782/782 [==============================] - 102s 131ms/step - loss: 0.6393 - accuracy: 0.5435 - val_loss: 0.7487 - val_accuracy: 0.5063\n"
     ]
    }
   ],
   "source": [
    "# Fit the model to the training data\n",
    "history = model.fit(\n",
    "    train_ds,\n",
    "    validation_data=val_ds,\n",
    "    epochs=5)"
   ]
  },
  {
   "cell_type": "code",
   "execution_count": null,
   "id": "867a115c",
   "metadata": {},
   "outputs": [],
   "source": []
  },
  {
   "cell_type": "code",
   "execution_count": null,
   "id": "6826899d",
   "metadata": {},
   "outputs": [],
   "source": []
  },
  {
   "cell_type": "code",
   "execution_count": null,
   "id": "185d9d1f",
   "metadata": {},
   "outputs": [],
   "source": []
  },
  {
   "cell_type": "code",
   "execution_count": null,
   "id": "07ff34ec",
   "metadata": {},
   "outputs": [],
   "source": []
  },
  {
   "cell_type": "code",
   "execution_count": null,
   "id": "de20a44d",
   "metadata": {},
   "outputs": [],
   "source": []
  },
  {
   "cell_type": "code",
   "execution_count": null,
   "id": "dff5945a",
   "metadata": {},
   "outputs": [],
   "source": []
  }
 ],
 "metadata": {
  "kernelspec": {
   "display_name": "Python 3 (ipykernel)",
   "language": "python",
   "name": "python3"
  },
  "language_info": {
   "codemirror_mode": {
    "name": "ipython",
    "version": 3
   },
   "file_extension": ".py",
   "mimetype": "text/x-python",
   "name": "python",
   "nbconvert_exporter": "python",
   "pygments_lexer": "ipython3",
   "version": "3.9.13"
  }
 },
 "nbformat": 4,
 "nbformat_minor": 5
}
