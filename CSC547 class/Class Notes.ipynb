{
 "cells": [
  {
   "cell_type": "markdown",
   "id": "79851018",
   "metadata": {},
   "source": [
    "Agents\n",
    "- entity that perceives its environment \n"
   ]
  },
  {
   "cell_type": "markdown",
   "id": "6ef9cc7f",
   "metadata": {},
   "source": [
    "agent function and agent program is not same"
   ]
  },
  {
   "cell_type": "markdown",
   "id": "c3c2aeba",
   "metadata": {},
   "source": [
    "Rational agents\n",
    "- consequences of the agent's behavior\n",
    "- actions cause the environment to go through a sequence of stastes\n",
    "- if it is desirable, the agent has performed well\n",
    "- definition: for each possible percept sequence, select an action that is expected to maximize its performance measure, given evidence provided by the percept sequence and what ever built in knowledge the agent has"
   ]
  },
  {
   "cell_type": "markdown",
   "id": "c1cae96f",
   "metadata": {},
   "source": [
    "### AI Neural Networks"
   ]
  },
  {
   "cell_type": "markdown",
   "id": "b07f8e40",
   "metadata": {},
   "source": [
    "- Traditional programming, give rule and machine follows.\n",
    "- Machine Learning: the machine looks at the input data and the corresponding answers and figures out what the rules should be.\n",
    "- ML is related to statistics but unlike statistics , ML deal with larhe, complex datasets."
   ]
  },
  {
   "cell_type": "markdown",
   "id": "2ba1aec1",
   "metadata": {},
   "source": [
    "learning rules from data:\n",
    "- input data\n",
    "- example of expected output\n",
    "- a way to measure whether the algorithm is doing a good job or not."
   ]
  },
  {
   "cell_type": "markdown",
   "id": "fb4e6316",
   "metadata": {},
   "source": [
    "### ML model\n",
    "\n",
    "transforms input data into meaningfull ouputs, a procesds that is \"learned\"\n",
    "\n",
    "ML is searching for useful representatons and rules over input data, within predefined space of possibilities, using guidance from a feedback signal.\n",
    "\n",
    "Machine Learning, describes an ***automatic search process for data transformations***\n",
    "searching for useful representations, within a pre-defined space of possibilities\n",
    "\n",
    "\n",
    "### DL model\n",
    "\n",
    "\"deep\" emphasis on learning ***successive layers of increasingly meaningful repredsentations***\n",
    "\n",
    "depth of the model: layers contribute to a model of the data\n",
    "\n",
    "The layered representations are learned via models called \"***Neural networks***\"\n",
    "\n"
   ]
  },
  {
   "cell_type": "markdown",
   "id": "fe7a40ac",
   "metadata": {},
   "source": [
    "### How deep learning works\n",
    "\n",
    "A neural network is parameterized by its weights\n",
    "\n",
    "loss function: how bad the algorithm performed, you will use loss score as feedback signal and give back to model to adjust weight.\n",
    "\n",
    "\n",
    "\n"
   ]
  },
  {
   "cell_type": "markdown",
   "id": "1087c443",
   "metadata": {},
   "source": [
    "### 4 key components for deep learning\n",
    "- Input data\n",
    "- Layers\n",
    "    - data-processing module\n",
    "- loss function\n",
    "    - measure the quality of the network's output\n",
    "- optimizer\n",
    "    - determines how the network will be updated based on the loss function"
   ]
  },
  {
   "cell_type": "markdown",
   "id": "d165f769",
   "metadata": {},
   "source": [
    "Do not overfit data, otherwise your data will remember the data instead of \"learning\""
   ]
  },
  {
   "cell_type": "markdown",
   "id": "7307bd3a",
   "metadata": {},
   "source": [
    "### Epoch for Machine Learning\n",
    "\n",
    "one complete pass of the training dataset through the algorithm"
   ]
  },
  {
   "cell_type": "markdown",
   "id": "56ad3700",
   "metadata": {},
   "source": [
    "### Neurons\n",
    "- Linear function\n",
    "- Activation Function\n",
    "    - function that transforms the weighted sum of a neuron so that the output is non-linear"
   ]
  },
  {
   "cell_type": "code",
   "execution_count": 2,
   "id": "96c160c2",
   "metadata": {},
   "outputs": [
    {
     "name": "stdout",
     "output_type": "stream",
     "text": [
      "True\n"
     ]
    }
   ],
   "source": [
    "print(2**-2==1/(2**2))"
   ]
  },
  {
   "cell_type": "code",
   "execution_count": 1,
   "id": "1706d1f7",
   "metadata": {},
   "outputs": [
    {
     "name": "stdout",
     "output_type": "stream",
     "text": [
      "hello\n"
     ]
    }
   ],
   "source": [
    "print(\"hello\")"
   ]
  },
  {
   "cell_type": "code",
   "execution_count": null,
   "id": "23ce8608",
   "metadata": {},
   "outputs": [],
   "source": []
  }
 ],
 "metadata": {
  "kernelspec": {
   "display_name": "Python 3 (ipykernel)",
   "language": "python",
   "name": "python3"
  },
  "language_info": {
   "codemirror_mode": {
    "name": "ipython",
    "version": 3
   },
   "file_extension": ".py",
   "mimetype": "text/x-python",
   "name": "python",
   "nbconvert_exporter": "python",
   "pygments_lexer": "ipython3",
   "version": "3.9.13"
  }
 },
 "nbformat": 4,
 "nbformat_minor": 5
}
