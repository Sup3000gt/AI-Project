{
 "cells": [
  {
   "cell_type": "markdown",
   "id": "79851018",
   "metadata": {},
   "source": [
    "Agents\n",
    "- entity that perceives its environment \n"
   ]
  },
  {
   "cell_type": "markdown",
   "id": "6ef9cc7f",
   "metadata": {},
   "source": [
    "agent function and agent program is not same"
   ]
  },
  {
   "cell_type": "markdown",
   "id": "c3c2aeba",
   "metadata": {},
   "source": [
    "Rational agents\n",
    "- consequences of the agent's behavior\n",
    "- actions cause the environment to go through a sequence of stastes\n",
    "- if it is desirable, the agent has performed well\n",
    "- definition: for each possible percept sequence, select an action that is expected to maximize its performance measure, given evidence provided by the percept sequence and what ever built in knowledge the agent has"
   ]
  },
  {
   "cell_type": "markdown",
   "id": "c1cae96f",
   "metadata": {},
   "source": [
    "### AI Neural Networks"
   ]
  },
  {
   "cell_type": "markdown",
   "id": "b07f8e40",
   "metadata": {},
   "source": [
    "- Traditional programming, give rule and machine follows.\n",
    "- Machine Learning: the machine looks at the input data and the corresponding answers and figures out what the rules should be.\n",
    "- ML is related to statistics but unlike statistics , ML deal with larhe, complex datasets."
   ]
  },
  {
   "cell_type": "markdown",
   "id": "2ba1aec1",
   "metadata": {},
   "source": [
    "learning rules from data:\n",
    "- input data\n",
    "- example of expected output\n",
    "- a way to measure whether the algorithm is doing a good job or not."
   ]
  },
  {
   "cell_type": "markdown",
   "id": "fb4e6316",
   "metadata": {},
   "source": [
    "### ML model\n",
    "\n",
    "transforms input data into meaningfull ouputs, a procesds that is \"learned\"\n",
    "\n",
    "ML is searching for useful representatons and rules over input data, within predefined space of possibilities, using guidance from a feedback signal.\n",
    "\n",
    "Machine Learning, describes an ***automatic search process for data transformations***\n",
    "searching for useful representations, within a pre-defined space of possibilities\n",
    "\n",
    "\n",
    "### DL model\n",
    "\n",
    "\"deep\" emphasis on learning ***successive layers of increasingly meaningful repredsentations***\n",
    "\n",
    "depth of the model: layers contribute to a model of the data\n",
    "\n",
    "The layered representations are learned via models called \"***Neural networks***\"\n",
    "\n"
   ]
  },
  {
   "cell_type": "markdown",
   "id": "fe7a40ac",
   "metadata": {},
   "source": [
    "### How deep learning works\n",
    "\n",
    "A neural network is parameterized by its weights\n",
    "\n",
    "loss function: how bad the algorithm performed, you will use loss score as feedback signal and give back to model to adjust weight.\n",
    "\n",
    "\n",
    "\n"
   ]
  },
  {
   "cell_type": "markdown",
   "id": "1087c443",
   "metadata": {},
   "source": [
    "### 4 key components for deep learning\n",
    "- Input data\n",
    "- Layers\n",
    "    - data-processing module\n",
    "- loss function\n",
    "    - measure the quality of the network's output\n",
    "- optimizer\n",
    "    - determines how the network will be updated based on the loss function"
   ]
  },
  {
   "cell_type": "markdown",
   "id": "d165f769",
   "metadata": {},
   "source": [
    "Do not overfit data, otherwise your data will remember the data instead of \"learning\""
   ]
  },
  {
   "cell_type": "markdown",
   "id": "7307bd3a",
   "metadata": {},
   "source": [
    "### Epoch for Machine Learning\n",
    "\n",
    "one complete pass of the training dataset through the algorithm"
   ]
  },
  {
   "cell_type": "markdown",
   "id": "56ad3700",
   "metadata": {},
   "source": [
    "### Neurons\n",
    "- apply dot product and linear func and activation func\n",
    "- Linear function\n",
    "- Activation Function\n",
    "    - function that transforms the weighted sum of a neuron so that the output is non-linear"
   ]
  },
  {
   "cell_type": "markdown",
   "id": "03d9769a",
   "metadata": {},
   "source": [
    "sigmoid = use for binary function\n",
    "softmax = muti class function\n",
    "\n",
    "both are using output layer\n",
    "\n",
    "hiddent layer\n",
    "- ReLU\n",
    "- leaky ReLU\n",
    "- Tanh"
   ]
  },
  {
   "cell_type": "markdown",
   "id": "9f9c1fd0",
   "metadata": {},
   "source": [
    "Sigmoid Activation function"
   ]
  },
  {
   "cell_type": "markdown",
   "id": "bcf6da47",
   "metadata": {},
   "source": [
    "Cross-Entropy Loss/Log Loss\n",
    "- increases as the predicted probability diverges from the actual label\n"
   ]
  },
  {
   "cell_type": "markdown",
   "id": "40d69a48",
   "metadata": {},
   "source": [
    "optimization algorithms\n",
    "- use to adjust the weights and baises of a neural network during the training process in order to improve its ability to make accurate predictions.\n",
    "- start some random values for weights and we change weight iteratively to reduce the loss.\n",
    "- the learning rate alpha controls how big step we ake on each iteration of Gradient Descent\n",
    "\n"
   ]
  },
  {
   "cell_type": "markdown",
   "id": "9030c48f",
   "metadata": {},
   "source": [
    "Gradient Descent for log loss function\n",
    "- use to provide feedback to the model. which means the loss score."
   ]
  },
  {
   "cell_type": "code",
   "execution_count": null,
   "id": "5bd30f74",
   "metadata": {},
   "outputs": [],
   "source": []
  },
  {
   "cell_type": "code",
   "execution_count": null,
   "id": "44544d2d",
   "metadata": {},
   "outputs": [],
   "source": []
  },
  {
   "cell_type": "code",
   "execution_count": null,
   "id": "9fbc77dc",
   "metadata": {},
   "outputs": [],
   "source": []
  },
  {
   "cell_type": "code",
   "execution_count": null,
   "id": "6a766caa",
   "metadata": {},
   "outputs": [],
   "source": []
  },
  {
   "cell_type": "code",
   "execution_count": null,
   "id": "024572da",
   "metadata": {},
   "outputs": [],
   "source": []
  },
  {
   "cell_type": "code",
   "execution_count": null,
   "id": "17420919",
   "metadata": {},
   "outputs": [],
   "source": []
  },
  {
   "cell_type": "code",
   "execution_count": null,
   "id": "33b8861b",
   "metadata": {},
   "outputs": [],
   "source": []
  },
  {
   "cell_type": "code",
   "execution_count": null,
   "id": "37738bf1",
   "metadata": {},
   "outputs": [],
   "source": []
  },
  {
   "cell_type": "code",
   "execution_count": null,
   "id": "6839d4fe",
   "metadata": {},
   "outputs": [],
   "source": []
  },
  {
   "cell_type": "code",
   "execution_count": null,
   "id": "e093b6c0",
   "metadata": {},
   "outputs": [],
   "source": []
  },
  {
   "cell_type": "code",
   "execution_count": null,
   "id": "3e5bb8d2",
   "metadata": {},
   "outputs": [],
   "source": []
  },
  {
   "cell_type": "code",
   "execution_count": null,
   "id": "30b8753e",
   "metadata": {},
   "outputs": [],
   "source": []
  }
 ],
 "metadata": {
  "kernelspec": {
   "display_name": "Python 3 (ipykernel)",
   "language": "python",
   "name": "python3"
  },
  "language_info": {
   "codemirror_mode": {
    "name": "ipython",
    "version": 3
   },
   "file_extension": ".py",
   "mimetype": "text/x-python",
   "name": "python",
   "nbconvert_exporter": "python",
   "pygments_lexer": "ipython3",
   "version": "3.9.13"
  }
 },
 "nbformat": 4,
 "nbformat_minor": 5
}
