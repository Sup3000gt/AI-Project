{
 "cells": [
  {
   "cell_type": "markdown",
   "metadata": {
    "id": "fGr16A1Wmfey"
   },
   "source": [
    "Step 1. Import the necessary libraries"
   ]
  },
  {
   "cell_type": "markdown",
   "metadata": {
    "id": "ruBs3M1umjqv"
   },
   "source": [
    "Step 2. Import the dataset and assign it to a variable called users."
   ]
  },
  {
   "cell_type": "markdown",
   "metadata": {
    "id": "kQK5Id8Cmjer"
   },
   "source": [
    "Step 3. Discover what is the mean age per occupation"
   ]
  },
  {
   "cell_type": "markdown",
   "metadata": {
    "id": "FEcgKz_BmjRM"
   },
   "source": [
    "Step 4. Discover the Male ratio per occupation and sort it from the most to the least"
   ]
  },
  {
   "cell_type": "markdown",
   "metadata": {
    "id": "bvhS_m6km0pi"
   },
   "source": [
    "Step 5. For each occupation, calculate the minimum and maximum ages"
   ]
  },
  {
   "cell_type": "markdown",
   "metadata": {
    "id": "DBFeQCmbm4m7"
   },
   "source": [
    "Step 6. For each combination of occupation and gender, calculate the mean age"
   ]
  },
  {
   "cell_type": "markdown",
   "metadata": {
    "id": "djhGpvX1m-cK"
   },
   "source": [
    "Step 7. For each occupation present the percentage of women and men"
   ]
  },
  {
   "cell_type": "code",
   "execution_count": null,
   "metadata": {},
   "outputs": [],
   "source": []
  }
 ],
 "metadata": {
  "colab": {
   "provenance": []
  },
  "kernelspec": {
   "display_name": "Python 3 (ipykernel)",
   "language": "python",
   "name": "python3"
  },
  "language_info": {
   "codemirror_mode": {
    "name": "ipython",
    "version": 3
   },
   "file_extension": ".py",
   "mimetype": "text/x-python",
   "name": "python",
   "nbconvert_exporter": "python",
   "pygments_lexer": "ipython3",
   "version": "3.9.13"
  }
 },
 "nbformat": 4,
 "nbformat_minor": 1
}
