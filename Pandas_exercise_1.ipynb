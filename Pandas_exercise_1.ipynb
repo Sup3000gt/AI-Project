{
  "nbformat": 4,
  "nbformat_minor": 0,
  "metadata": {
    "colab": {
      "provenance": []
    },
    "kernelspec": {
      "name": "python3",
      "display_name": "Python 3"
    },
    "language_info": {
      "name": "python"
    }
  },
  "cells": [
    {
      "cell_type": "markdown",
      "source": [
        "Step 1. Import the necessary libraries"
      ],
      "metadata": {
        "id": "fGr16A1Wmfey"
      }
    },
    {
      "cell_type": "markdown",
      "source": [
        "Step 2. Import the dataset and assign it to a variable called users."
      ],
      "metadata": {
        "id": "ruBs3M1umjqv"
      }
    },
    {
      "cell_type": "markdown",
      "source": [
        "Step 3. Discover what is the mean age per occupation"
      ],
      "metadata": {
        "id": "kQK5Id8Cmjer"
      }
    },
    {
      "cell_type": "markdown",
      "source": [
        "Step 4. Discover the Male ratio per occupation and sort it from the most to the least"
      ],
      "metadata": {
        "id": "FEcgKz_BmjRM"
      }
    },
    {
      "cell_type": "markdown",
      "source": [
        "Step 5. For each occupation, calculate the minimum and maximum ages"
      ],
      "metadata": {
        "id": "bvhS_m6km0pi"
      }
    },
    {
      "cell_type": "markdown",
      "source": [
        "Step 6. For each combination of occupation and gender, calculate the mean age"
      ],
      "metadata": {
        "id": "DBFeQCmbm4m7"
      }
    },
    {
      "cell_type": "markdown",
      "source": [
        "Step 7. For each occupation present the percentage of women and men"
      ],
      "metadata": {
        "id": "djhGpvX1m-cK"
      }
    }
  ]
}