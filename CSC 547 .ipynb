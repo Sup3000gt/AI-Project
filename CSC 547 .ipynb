{
 "cells": [
  {
   "cell_type": "code",
   "execution_count": 1,
   "id": "2d376658",
   "metadata": {},
   "outputs": [],
   "source": [
    "# how to load cvs files in jupyter"
   ]
  },
  {
   "cell_type": "code",
   "execution_count": 74,
   "id": "e685f6ad",
   "metadata": {},
   "outputs": [],
   "source": [
    "import pandas as pd\n",
    "import numpy as np"
   ]
  },
  {
   "cell_type": "markdown",
   "id": "969b9e45",
   "metadata": {},
   "source": [
    "No header in our .csv file, we have to define it manually. Add the names parameter to your .read_csv() function:"
   ]
  },
  {
   "cell_type": "code",
   "execution_count": 75,
   "id": "523c1ae4",
   "metadata": {},
   "outputs": [],
   "source": [
    "mydataset = pd.read_csv(\"C:\\\\Users\\\\alan\\\\AI Project\\\\pandas_tutorial.csv\",delimiter=';',\n",
    "                        names = ['my_datetime', 'event', 'country', 'user_id', 'source', 'topic'])\n",
    "# read the file from local, make sure use \\\\ instead of \\"
   ]
  },
  {
   "cell_type": "code",
   "execution_count": 76,
   "id": "8bd1debd",
   "metadata": {},
   "outputs": [],
   "source": [
    "myTable = pd.DataFrame(mydataset)"
   ]
  },
  {
   "cell_type": "code",
   "execution_count": 77,
   "id": "78da7732",
   "metadata": {},
   "outputs": [
    {
     "data": {
      "text/html": [
       "<div>\n",
       "<style scoped>\n",
       "    .dataframe tbody tr th:only-of-type {\n",
       "        vertical-align: middle;\n",
       "    }\n",
       "\n",
       "    .dataframe tbody tr th {\n",
       "        vertical-align: top;\n",
       "    }\n",
       "\n",
       "    .dataframe thead th {\n",
       "        text-align: right;\n",
       "    }\n",
       "</style>\n",
       "<table border=\"1\" class=\"dataframe\">\n",
       "  <thead>\n",
       "    <tr style=\"text-align: right;\">\n",
       "      <th></th>\n",
       "      <th>my_datetime</th>\n",
       "      <th>event</th>\n",
       "      <th>country</th>\n",
       "      <th>user_id</th>\n",
       "      <th>source</th>\n",
       "      <th>topic</th>\n",
       "    </tr>\n",
       "  </thead>\n",
       "  <tbody>\n",
       "    <tr>\n",
       "      <th>0</th>\n",
       "      <td>2018-01-01 00:01:01</td>\n",
       "      <td>read</td>\n",
       "      <td>country_7</td>\n",
       "      <td>2458151261</td>\n",
       "      <td>SEO</td>\n",
       "      <td>North America</td>\n",
       "    </tr>\n",
       "    <tr>\n",
       "      <th>1</th>\n",
       "      <td>2018-01-01 00:03:20</td>\n",
       "      <td>read</td>\n",
       "      <td>country_7</td>\n",
       "      <td>2458151262</td>\n",
       "      <td>SEO</td>\n",
       "      <td>South America</td>\n",
       "    </tr>\n",
       "    <tr>\n",
       "      <th>2</th>\n",
       "      <td>2018-01-01 00:04:01</td>\n",
       "      <td>read</td>\n",
       "      <td>country_7</td>\n",
       "      <td>2458151263</td>\n",
       "      <td>AdWords</td>\n",
       "      <td>Africa</td>\n",
       "    </tr>\n",
       "    <tr>\n",
       "      <th>3</th>\n",
       "      <td>2018-01-01 00:04:02</td>\n",
       "      <td>read</td>\n",
       "      <td>country_7</td>\n",
       "      <td>2458151264</td>\n",
       "      <td>AdWords</td>\n",
       "      <td>Europe</td>\n",
       "    </tr>\n",
       "    <tr>\n",
       "      <th>4</th>\n",
       "      <td>2018-01-01 00:05:03</td>\n",
       "      <td>read</td>\n",
       "      <td>country_8</td>\n",
       "      <td>2458151265</td>\n",
       "      <td>Reddit</td>\n",
       "      <td>North America</td>\n",
       "    </tr>\n",
       "  </tbody>\n",
       "</table>\n",
       "</div>"
      ],
      "text/plain": [
       "           my_datetime event    country     user_id   source          topic\n",
       "0  2018-01-01 00:01:01  read  country_7  2458151261      SEO  North America\n",
       "1  2018-01-01 00:03:20  read  country_7  2458151262      SEO  South America\n",
       "2  2018-01-01 00:04:01  read  country_7  2458151263  AdWords         Africa\n",
       "3  2018-01-01 00:04:02  read  country_7  2458151264  AdWords         Europe\n",
       "4  2018-01-01 00:05:03  read  country_8  2458151265   Reddit  North America"
      ]
     },
     "execution_count": 77,
     "metadata": {},
     "output_type": "execute_result"
    }
   ],
   "source": [
    "#How to print a sample of your dataframe (e.g. first 5 rows)\n",
    "#if () are blank, it will auto generate first 5 row\n",
    "#using function .head\n",
    "myTable.head()"
   ]
  },
  {
   "cell_type": "code",
   "execution_count": 78,
   "id": "affcd5cd",
   "metadata": {},
   "outputs": [
    {
     "data": {
      "text/html": [
       "<div>\n",
       "<style scoped>\n",
       "    .dataframe tbody tr th:only-of-type {\n",
       "        vertical-align: middle;\n",
       "    }\n",
       "\n",
       "    .dataframe tbody tr th {\n",
       "        vertical-align: top;\n",
       "    }\n",
       "\n",
       "    .dataframe thead th {\n",
       "        text-align: right;\n",
       "    }\n",
       "</style>\n",
       "<table border=\"1\" class=\"dataframe\">\n",
       "  <thead>\n",
       "    <tr style=\"text-align: right;\">\n",
       "      <th></th>\n",
       "      <th>my_datetime</th>\n",
       "      <th>event</th>\n",
       "      <th>country</th>\n",
       "      <th>user_id</th>\n",
       "      <th>source</th>\n",
       "      <th>topic</th>\n",
       "    </tr>\n",
       "  </thead>\n",
       "  <tbody>\n",
       "    <tr>\n",
       "      <th>1789</th>\n",
       "      <td>2018-01-01 23:56:42</td>\n",
       "      <td>read</td>\n",
       "      <td>country_4</td>\n",
       "      <td>2458153050</td>\n",
       "      <td>AdWords</td>\n",
       "      <td>Asia</td>\n",
       "    </tr>\n",
       "    <tr>\n",
       "      <th>1790</th>\n",
       "      <td>2018-01-01 23:57:14</td>\n",
       "      <td>read</td>\n",
       "      <td>country_2</td>\n",
       "      <td>2458153051</td>\n",
       "      <td>AdWords</td>\n",
       "      <td>North America</td>\n",
       "    </tr>\n",
       "    <tr>\n",
       "      <th>1791</th>\n",
       "      <td>2018-01-01 23:58:33</td>\n",
       "      <td>read</td>\n",
       "      <td>country_8</td>\n",
       "      <td>2458153052</td>\n",
       "      <td>SEO</td>\n",
       "      <td>Asia</td>\n",
       "    </tr>\n",
       "    <tr>\n",
       "      <th>1792</th>\n",
       "      <td>2018-01-01 23:59:36</td>\n",
       "      <td>read</td>\n",
       "      <td>country_6</td>\n",
       "      <td>2458153053</td>\n",
       "      <td>Reddit</td>\n",
       "      <td>Asia</td>\n",
       "    </tr>\n",
       "    <tr>\n",
       "      <th>1793</th>\n",
       "      <td>2018-01-01 23:59:36</td>\n",
       "      <td>read</td>\n",
       "      <td>country_7</td>\n",
       "      <td>2458153054</td>\n",
       "      <td>AdWords</td>\n",
       "      <td>Europe</td>\n",
       "    </tr>\n",
       "    <tr>\n",
       "      <th>1794</th>\n",
       "      <td>2018-01-01 23:59:38</td>\n",
       "      <td>read</td>\n",
       "      <td>country_5</td>\n",
       "      <td>2458153055</td>\n",
       "      <td>Reddit</td>\n",
       "      <td>Asia</td>\n",
       "    </tr>\n",
       "  </tbody>\n",
       "</table>\n",
       "</div>"
      ],
      "text/plain": [
       "              my_datetime event    country     user_id   source          topic\n",
       "1789  2018-01-01 23:56:42  read  country_4  2458153050  AdWords           Asia\n",
       "1790  2018-01-01 23:57:14  read  country_2  2458153051  AdWords  North America\n",
       "1791  2018-01-01 23:58:33  read  country_8  2458153052      SEO           Asia\n",
       "1792  2018-01-01 23:59:36  read  country_6  2458153053   Reddit           Asia\n",
       "1793  2018-01-01 23:59:36  read  country_7  2458153054  AdWords         Europe\n",
       "1794  2018-01-01 23:59:38  read  country_5  2458153055   Reddit           Asia"
      ]
     },
     "execution_count": 78,
     "metadata": {},
     "output_type": "execute_result"
    }
   ],
   "source": [
    "#the last few rows by:\n",
    "# Using function .tail\n",
    "myTable.tail(6)"
   ]
  },
  {
   "cell_type": "code",
   "execution_count": 79,
   "id": "fd2ccc1b",
   "metadata": {},
   "outputs": [
    {
     "data": {
      "text/html": [
       "<div>\n",
       "<style scoped>\n",
       "    .dataframe tbody tr th:only-of-type {\n",
       "        vertical-align: middle;\n",
       "    }\n",
       "\n",
       "    .dataframe tbody tr th {\n",
       "        vertical-align: top;\n",
       "    }\n",
       "\n",
       "    .dataframe thead th {\n",
       "        text-align: right;\n",
       "    }\n",
       "</style>\n",
       "<table border=\"1\" class=\"dataframe\">\n",
       "  <thead>\n",
       "    <tr style=\"text-align: right;\">\n",
       "      <th></th>\n",
       "      <th>my_datetime</th>\n",
       "      <th>event</th>\n",
       "      <th>country</th>\n",
       "      <th>user_id</th>\n",
       "      <th>source</th>\n",
       "      <th>topic</th>\n",
       "    </tr>\n",
       "  </thead>\n",
       "  <tbody>\n",
       "    <tr>\n",
       "      <th>1655</th>\n",
       "      <td>2018-01-01 22:25:31</td>\n",
       "      <td>read</td>\n",
       "      <td>country_7</td>\n",
       "      <td>2458152916</td>\n",
       "      <td>Reddit</td>\n",
       "      <td>Europe</td>\n",
       "    </tr>\n",
       "  </tbody>\n",
       "</table>\n",
       "</div>"
      ],
      "text/plain": [
       "              my_datetime event    country     user_id  source   topic\n",
       "1655  2018-01-01 22:25:31  read  country_7  2458152916  Reddit  Europe"
      ]
     },
     "execution_count": 79,
     "metadata": {},
     "output_type": "execute_result"
    }
   ],
   "source": [
    "#a few random rows by \n",
    "#if not input sample size, default size is 1.\n",
    "myTable.sample()"
   ]
  },
  {
   "cell_type": "code",
   "execution_count": 80,
   "id": "65244997",
   "metadata": {},
   "outputs": [
    {
     "data": {
      "text/html": [
       "<div>\n",
       "<style scoped>\n",
       "    .dataframe tbody tr th:only-of-type {\n",
       "        vertical-align: middle;\n",
       "    }\n",
       "\n",
       "    .dataframe tbody tr th {\n",
       "        vertical-align: top;\n",
       "    }\n",
       "\n",
       "    .dataframe thead th {\n",
       "        text-align: right;\n",
       "    }\n",
       "</style>\n",
       "<table border=\"1\" class=\"dataframe\">\n",
       "  <thead>\n",
       "    <tr style=\"text-align: right;\">\n",
       "      <th></th>\n",
       "      <th>country</th>\n",
       "      <th>user_id</th>\n",
       "    </tr>\n",
       "  </thead>\n",
       "  <tbody>\n",
       "    <tr>\n",
       "      <th>0</th>\n",
       "      <td>country_7</td>\n",
       "      <td>2458151261</td>\n",
       "    </tr>\n",
       "    <tr>\n",
       "      <th>1</th>\n",
       "      <td>country_7</td>\n",
       "      <td>2458151262</td>\n",
       "    </tr>\n",
       "    <tr>\n",
       "      <th>2</th>\n",
       "      <td>country_7</td>\n",
       "      <td>2458151263</td>\n",
       "    </tr>\n",
       "    <tr>\n",
       "      <th>3</th>\n",
       "      <td>country_7</td>\n",
       "      <td>2458151264</td>\n",
       "    </tr>\n",
       "    <tr>\n",
       "      <th>4</th>\n",
       "      <td>country_8</td>\n",
       "      <td>2458151265</td>\n",
       "    </tr>\n",
       "    <tr>\n",
       "      <th>...</th>\n",
       "      <td>...</td>\n",
       "      <td>...</td>\n",
       "    </tr>\n",
       "    <tr>\n",
       "      <th>1790</th>\n",
       "      <td>country_2</td>\n",
       "      <td>2458153051</td>\n",
       "    </tr>\n",
       "    <tr>\n",
       "      <th>1791</th>\n",
       "      <td>country_8</td>\n",
       "      <td>2458153052</td>\n",
       "    </tr>\n",
       "    <tr>\n",
       "      <th>1792</th>\n",
       "      <td>country_6</td>\n",
       "      <td>2458153053</td>\n",
       "    </tr>\n",
       "    <tr>\n",
       "      <th>1793</th>\n",
       "      <td>country_7</td>\n",
       "      <td>2458153054</td>\n",
       "    </tr>\n",
       "    <tr>\n",
       "      <th>1794</th>\n",
       "      <td>country_5</td>\n",
       "      <td>2458153055</td>\n",
       "    </tr>\n",
       "  </tbody>\n",
       "</table>\n",
       "<p>1795 rows × 2 columns</p>\n",
       "</div>"
      ],
      "text/plain": [
       "        country     user_id\n",
       "0     country_7  2458151261\n",
       "1     country_7  2458151262\n",
       "2     country_7  2458151263\n",
       "3     country_7  2458151264\n",
       "4     country_8  2458151265\n",
       "...         ...         ...\n",
       "1790  country_2  2458153051\n",
       "1791  country_8  2458153052\n",
       "1792  country_6  2458153053\n",
       "1793  country_7  2458153054\n",
       "1794  country_5  2458153055\n",
       "\n",
       "[1795 rows x 2 columns]"
      ]
     },
     "execution_count": 80,
     "metadata": {},
     "output_type": "execute_result"
    }
   ],
   "source": [
    "#How to select specific columns of your DataFrame\n",
    "myTable[['country', 'user_id']] #the inner brackets are for the list of the column names"
   ]
  },
  {
   "cell_type": "code",
   "execution_count": 81,
   "id": "9382cd66",
   "metadata": {},
   "outputs": [
    {
     "data": {
      "text/plain": [
       "0       2458151261\n",
       "1       2458151262\n",
       "2       2458151263\n",
       "3       2458151264\n",
       "4       2458151265\n",
       "           ...    \n",
       "1790    2458153051\n",
       "1791    2458153052\n",
       "1792    2458153053\n",
       "1793    2458153054\n",
       "1794    2458153055\n",
       "Name: user_id, Length: 1795, dtype: int64"
      ]
     },
     "execution_count": 81,
     "metadata": {},
     "output_type": "execute_result"
    }
   ],
   "source": [
    "#myTable.user_id\n",
    "myTable['user_id']"
   ]
  },
  {
   "cell_type": "code",
   "execution_count": 82,
   "id": "16107e64",
   "metadata": {},
   "outputs": [
    {
     "data": {
      "text/html": [
       "<div>\n",
       "<style scoped>\n",
       "    .dataframe tbody tr th:only-of-type {\n",
       "        vertical-align: middle;\n",
       "    }\n",
       "\n",
       "    .dataframe tbody tr th {\n",
       "        vertical-align: top;\n",
       "    }\n",
       "\n",
       "    .dataframe thead th {\n",
       "        text-align: right;\n",
       "    }\n",
       "</style>\n",
       "<table border=\"1\" class=\"dataframe\">\n",
       "  <thead>\n",
       "    <tr style=\"text-align: right;\">\n",
       "      <th></th>\n",
       "      <th>my_datetime</th>\n",
       "      <th>event</th>\n",
       "      <th>country</th>\n",
       "      <th>user_id</th>\n",
       "      <th>source</th>\n",
       "      <th>topic</th>\n",
       "    </tr>\n",
       "  </thead>\n",
       "  <tbody>\n",
       "    <tr>\n",
       "      <th>0</th>\n",
       "      <td>2018-01-01 00:01:01</td>\n",
       "      <td>read</td>\n",
       "      <td>country_7</td>\n",
       "      <td>2458151261</td>\n",
       "      <td>SEO</td>\n",
       "      <td>North America</td>\n",
       "    </tr>\n",
       "    <tr>\n",
       "      <th>1</th>\n",
       "      <td>2018-01-01 00:03:20</td>\n",
       "      <td>read</td>\n",
       "      <td>country_7</td>\n",
       "      <td>2458151262</td>\n",
       "      <td>SEO</td>\n",
       "      <td>South America</td>\n",
       "    </tr>\n",
       "    <tr>\n",
       "      <th>11</th>\n",
       "      <td>2018-01-01 00:08:57</td>\n",
       "      <td>read</td>\n",
       "      <td>country_7</td>\n",
       "      <td>2458151272</td>\n",
       "      <td>SEO</td>\n",
       "      <td>Australia</td>\n",
       "    </tr>\n",
       "    <tr>\n",
       "      <th>15</th>\n",
       "      <td>2018-01-01 00:11:22</td>\n",
       "      <td>read</td>\n",
       "      <td>country_7</td>\n",
       "      <td>2458151276</td>\n",
       "      <td>SEO</td>\n",
       "      <td>North America</td>\n",
       "    </tr>\n",
       "    <tr>\n",
       "      <th>16</th>\n",
       "      <td>2018-01-01 00:13:05</td>\n",
       "      <td>read</td>\n",
       "      <td>country_8</td>\n",
       "      <td>2458151277</td>\n",
       "      <td>SEO</td>\n",
       "      <td>North America</td>\n",
       "    </tr>\n",
       "    <tr>\n",
       "      <th>...</th>\n",
       "      <td>...</td>\n",
       "      <td>...</td>\n",
       "      <td>...</td>\n",
       "      <td>...</td>\n",
       "      <td>...</td>\n",
       "      <td>...</td>\n",
       "    </tr>\n",
       "    <tr>\n",
       "      <th>1772</th>\n",
       "      <td>2018-01-01 23:45:58</td>\n",
       "      <td>read</td>\n",
       "      <td>country_7</td>\n",
       "      <td>2458153033</td>\n",
       "      <td>SEO</td>\n",
       "      <td>South America</td>\n",
       "    </tr>\n",
       "    <tr>\n",
       "      <th>1777</th>\n",
       "      <td>2018-01-01 23:49:52</td>\n",
       "      <td>read</td>\n",
       "      <td>country_5</td>\n",
       "      <td>2458153038</td>\n",
       "      <td>SEO</td>\n",
       "      <td>North America</td>\n",
       "    </tr>\n",
       "    <tr>\n",
       "      <th>1779</th>\n",
       "      <td>2018-01-01 23:51:25</td>\n",
       "      <td>read</td>\n",
       "      <td>country_4</td>\n",
       "      <td>2458153040</td>\n",
       "      <td>SEO</td>\n",
       "      <td>South America</td>\n",
       "    </tr>\n",
       "    <tr>\n",
       "      <th>1784</th>\n",
       "      <td>2018-01-01 23:54:03</td>\n",
       "      <td>read</td>\n",
       "      <td>country_2</td>\n",
       "      <td>2458153045</td>\n",
       "      <td>SEO</td>\n",
       "      <td>North America</td>\n",
       "    </tr>\n",
       "    <tr>\n",
       "      <th>1791</th>\n",
       "      <td>2018-01-01 23:58:33</td>\n",
       "      <td>read</td>\n",
       "      <td>country_8</td>\n",
       "      <td>2458153052</td>\n",
       "      <td>SEO</td>\n",
       "      <td>Asia</td>\n",
       "    </tr>\n",
       "  </tbody>\n",
       "</table>\n",
       "<p>346 rows × 6 columns</p>\n",
       "</div>"
      ],
      "text/plain": [
       "              my_datetime event    country     user_id source          topic\n",
       "0     2018-01-01 00:01:01  read  country_7  2458151261    SEO  North America\n",
       "1     2018-01-01 00:03:20  read  country_7  2458151262    SEO  South America\n",
       "11    2018-01-01 00:08:57  read  country_7  2458151272    SEO      Australia\n",
       "15    2018-01-01 00:11:22  read  country_7  2458151276    SEO  North America\n",
       "16    2018-01-01 00:13:05  read  country_8  2458151277    SEO  North America\n",
       "...                   ...   ...        ...         ...    ...            ...\n",
       "1772  2018-01-01 23:45:58  read  country_7  2458153033    SEO  South America\n",
       "1777  2018-01-01 23:49:52  read  country_5  2458153038    SEO  North America\n",
       "1779  2018-01-01 23:51:25  read  country_4  2458153040    SEO  South America\n",
       "1784  2018-01-01 23:54:03  read  country_2  2458153045    SEO  North America\n",
       "1791  2018-01-01 23:58:33  read  country_8  2458153052    SEO           Asia\n",
       "\n",
       "[346 rows x 6 columns]"
      ]
     },
     "execution_count": 82,
     "metadata": {},
     "output_type": "execute_result"
    }
   ],
   "source": [
    "#How to filter for specific values in your DataFrame\n",
    "myTable[myTable.source == 'SEO']"
   ]
  },
  {
   "cell_type": "code",
   "execution_count": 83,
   "id": "eb826420",
   "metadata": {},
   "outputs": [
    {
     "data": {
      "text/plain": [
       "0        True\n",
       "1        True\n",
       "2       False\n",
       "3       False\n",
       "4       False\n",
       "        ...  \n",
       "1790    False\n",
       "1791     True\n",
       "1792    False\n",
       "1793    False\n",
       "1794    False\n",
       "Name: source, Length: 1795, dtype: bool"
      ]
     },
     "execution_count": 83,
     "metadata": {},
     "output_type": "execute_result"
    }
   ],
   "source": [
    "#STEP 1) First, it runs the syntax between the bracket frames: \n",
    "myTable.source == 'SEO'"
   ]
  },
  {
   "cell_type": "code",
   "execution_count": 84,
   "id": "802f9979",
   "metadata": {},
   "outputs": [
    {
     "data": {
      "text/html": [
       "<div>\n",
       "<style scoped>\n",
       "    .dataframe tbody tr th:only-of-type {\n",
       "        vertical-align: middle;\n",
       "    }\n",
       "\n",
       "    .dataframe tbody tr th {\n",
       "        vertical-align: top;\n",
       "    }\n",
       "\n",
       "    .dataframe thead th {\n",
       "        text-align: right;\n",
       "    }\n",
       "</style>\n",
       "<table border=\"1\" class=\"dataframe\">\n",
       "  <thead>\n",
       "    <tr style=\"text-align: right;\">\n",
       "      <th></th>\n",
       "      <th>my_datetime</th>\n",
       "      <th>event</th>\n",
       "      <th>country</th>\n",
       "      <th>user_id</th>\n",
       "      <th>source</th>\n",
       "      <th>topic</th>\n",
       "    </tr>\n",
       "  </thead>\n",
       "  <tbody>\n",
       "    <tr>\n",
       "      <th>0</th>\n",
       "      <td>2018-01-01 00:01:01</td>\n",
       "      <td>read</td>\n",
       "      <td>country_7</td>\n",
       "      <td>2458151261</td>\n",
       "      <td>SEO</td>\n",
       "      <td>North America</td>\n",
       "    </tr>\n",
       "    <tr>\n",
       "      <th>1</th>\n",
       "      <td>2018-01-01 00:03:20</td>\n",
       "      <td>read</td>\n",
       "      <td>country_7</td>\n",
       "      <td>2458151262</td>\n",
       "      <td>SEO</td>\n",
       "      <td>South America</td>\n",
       "    </tr>\n",
       "    <tr>\n",
       "      <th>11</th>\n",
       "      <td>2018-01-01 00:08:57</td>\n",
       "      <td>read</td>\n",
       "      <td>country_7</td>\n",
       "      <td>2458151272</td>\n",
       "      <td>SEO</td>\n",
       "      <td>Australia</td>\n",
       "    </tr>\n",
       "    <tr>\n",
       "      <th>15</th>\n",
       "      <td>2018-01-01 00:11:22</td>\n",
       "      <td>read</td>\n",
       "      <td>country_7</td>\n",
       "      <td>2458151276</td>\n",
       "      <td>SEO</td>\n",
       "      <td>North America</td>\n",
       "    </tr>\n",
       "    <tr>\n",
       "      <th>16</th>\n",
       "      <td>2018-01-01 00:13:05</td>\n",
       "      <td>read</td>\n",
       "      <td>country_8</td>\n",
       "      <td>2458151277</td>\n",
       "      <td>SEO</td>\n",
       "      <td>North America</td>\n",
       "    </tr>\n",
       "    <tr>\n",
       "      <th>...</th>\n",
       "      <td>...</td>\n",
       "      <td>...</td>\n",
       "      <td>...</td>\n",
       "      <td>...</td>\n",
       "      <td>...</td>\n",
       "      <td>...</td>\n",
       "    </tr>\n",
       "    <tr>\n",
       "      <th>1772</th>\n",
       "      <td>2018-01-01 23:45:58</td>\n",
       "      <td>read</td>\n",
       "      <td>country_7</td>\n",
       "      <td>2458153033</td>\n",
       "      <td>SEO</td>\n",
       "      <td>South America</td>\n",
       "    </tr>\n",
       "    <tr>\n",
       "      <th>1777</th>\n",
       "      <td>2018-01-01 23:49:52</td>\n",
       "      <td>read</td>\n",
       "      <td>country_5</td>\n",
       "      <td>2458153038</td>\n",
       "      <td>SEO</td>\n",
       "      <td>North America</td>\n",
       "    </tr>\n",
       "    <tr>\n",
       "      <th>1779</th>\n",
       "      <td>2018-01-01 23:51:25</td>\n",
       "      <td>read</td>\n",
       "      <td>country_4</td>\n",
       "      <td>2458153040</td>\n",
       "      <td>SEO</td>\n",
       "      <td>South America</td>\n",
       "    </tr>\n",
       "    <tr>\n",
       "      <th>1784</th>\n",
       "      <td>2018-01-01 23:54:03</td>\n",
       "      <td>read</td>\n",
       "      <td>country_2</td>\n",
       "      <td>2458153045</td>\n",
       "      <td>SEO</td>\n",
       "      <td>North America</td>\n",
       "    </tr>\n",
       "    <tr>\n",
       "      <th>1791</th>\n",
       "      <td>2018-01-01 23:58:33</td>\n",
       "      <td>read</td>\n",
       "      <td>country_8</td>\n",
       "      <td>2458153052</td>\n",
       "      <td>SEO</td>\n",
       "      <td>Asia</td>\n",
       "    </tr>\n",
       "  </tbody>\n",
       "</table>\n",
       "<p>346 rows × 6 columns</p>\n",
       "</div>"
      ],
      "text/plain": [
       "              my_datetime event    country     user_id source          topic\n",
       "0     2018-01-01 00:01:01  read  country_7  2458151261    SEO  North America\n",
       "1     2018-01-01 00:03:20  read  country_7  2458151262    SEO  South America\n",
       "11    2018-01-01 00:08:57  read  country_7  2458151272    SEO      Australia\n",
       "15    2018-01-01 00:11:22  read  country_7  2458151276    SEO  North America\n",
       "16    2018-01-01 00:13:05  read  country_8  2458151277    SEO  North America\n",
       "...                   ...   ...        ...         ...    ...            ...\n",
       "1772  2018-01-01 23:45:58  read  country_7  2458153033    SEO  South America\n",
       "1777  2018-01-01 23:49:52  read  country_5  2458153038    SEO  North America\n",
       "1779  2018-01-01 23:51:25  read  country_4  2458153040    SEO  South America\n",
       "1784  2018-01-01 23:54:03  read  country_2  2458153045    SEO  North America\n",
       "1791  2018-01-01 23:58:33  read  country_8  2458153052    SEO           Asia\n",
       "\n",
       "[346 rows x 6 columns]"
      ]
     },
     "execution_count": 84,
     "metadata": {},
     "output_type": "execute_result"
    }
   ],
   "source": [
    "#STEP 2) Then from the myTable table, it selects and prints every row where\n",
    "#this value is True and it doesn’t print any row where the value is False.\n",
    "myTable[myTable.source == 'SEO']"
   ]
  },
  {
   "cell_type": "markdown",
   "id": "d10eeaac",
   "metadata": {},
   "source": [
    "Pandas functions can be used after each other"
   ]
  },
  {
   "cell_type": "markdown",
   "id": "e34ce963",
   "metadata": {},
   "source": [
    "the .head() part first selects the first 5 rows of our data set and then the [['country', 'user_id']] part takes only the country and the user_id columns for this first 5 rows."
   ]
  },
  {
   "cell_type": "code",
   "execution_count": 85,
   "id": "bc521399",
   "metadata": {},
   "outputs": [
    {
     "data": {
      "text/html": [
       "<div>\n",
       "<style scoped>\n",
       "    .dataframe tbody tr th:only-of-type {\n",
       "        vertical-align: middle;\n",
       "    }\n",
       "\n",
       "    .dataframe tbody tr th {\n",
       "        vertical-align: top;\n",
       "    }\n",
       "\n",
       "    .dataframe thead th {\n",
       "        text-align: right;\n",
       "    }\n",
       "</style>\n",
       "<table border=\"1\" class=\"dataframe\">\n",
       "  <thead>\n",
       "    <tr style=\"text-align: right;\">\n",
       "      <th></th>\n",
       "      <th>country</th>\n",
       "      <th>user_id</th>\n",
       "    </tr>\n",
       "  </thead>\n",
       "  <tbody>\n",
       "    <tr>\n",
       "      <th>0</th>\n",
       "      <td>country_7</td>\n",
       "      <td>2458151261</td>\n",
       "    </tr>\n",
       "    <tr>\n",
       "      <th>1</th>\n",
       "      <td>country_7</td>\n",
       "      <td>2458151262</td>\n",
       "    </tr>\n",
       "    <tr>\n",
       "      <th>2</th>\n",
       "      <td>country_7</td>\n",
       "      <td>2458151263</td>\n",
       "    </tr>\n",
       "    <tr>\n",
       "      <th>3</th>\n",
       "      <td>country_7</td>\n",
       "      <td>2458151264</td>\n",
       "    </tr>\n",
       "    <tr>\n",
       "      <th>4</th>\n",
       "      <td>country_8</td>\n",
       "      <td>2458151265</td>\n",
       "    </tr>\n",
       "  </tbody>\n",
       "</table>\n",
       "</div>"
      ],
      "text/plain": [
       "     country     user_id\n",
       "0  country_7  2458151261\n",
       "1  country_7  2458151262\n",
       "2  country_7  2458151263\n",
       "3  country_7  2458151264\n",
       "4  country_8  2458151265"
      ]
     },
     "execution_count": 85,
     "metadata": {},
     "output_type": "execute_result"
    }
   ],
   "source": [
    "myTable.head()[['country', 'user_id']]"
   ]
  },
  {
   "cell_type": "markdown",
   "id": "90936acb",
   "metadata": {},
   "source": [
    "# Task 1:\n",
    "Select the user_id, the country and the topic columns for the users who are from country_2.\n",
    "Print the first five rows only"
   ]
  },
  {
   "cell_type": "code",
   "execution_count": 86,
   "id": "3746f2c4",
   "metadata": {},
   "outputs": [
    {
     "data": {
      "text/html": [
       "<div>\n",
       "<style scoped>\n",
       "    .dataframe tbody tr th:only-of-type {\n",
       "        vertical-align: middle;\n",
       "    }\n",
       "\n",
       "    .dataframe tbody tr th {\n",
       "        vertical-align: top;\n",
       "    }\n",
       "\n",
       "    .dataframe thead th {\n",
       "        text-align: right;\n",
       "    }\n",
       "</style>\n",
       "<table border=\"1\" class=\"dataframe\">\n",
       "  <thead>\n",
       "    <tr style=\"text-align: right;\">\n",
       "      <th></th>\n",
       "      <th>country</th>\n",
       "      <th>user_id</th>\n",
       "      <th>topic</th>\n",
       "    </tr>\n",
       "  </thead>\n",
       "  <tbody>\n",
       "    <tr>\n",
       "      <th>6</th>\n",
       "      <td>country_2</td>\n",
       "      <td>2458151267</td>\n",
       "      <td>Europe</td>\n",
       "    </tr>\n",
       "    <tr>\n",
       "      <th>13</th>\n",
       "      <td>country_2</td>\n",
       "      <td>2458151274</td>\n",
       "      <td>Europe</td>\n",
       "    </tr>\n",
       "    <tr>\n",
       "      <th>17</th>\n",
       "      <td>country_2</td>\n",
       "      <td>2458151278</td>\n",
       "      <td>Asia</td>\n",
       "    </tr>\n",
       "    <tr>\n",
       "      <th>19</th>\n",
       "      <td>country_2</td>\n",
       "      <td>2458151280</td>\n",
       "      <td>Asia</td>\n",
       "    </tr>\n",
       "    <tr>\n",
       "      <th>20</th>\n",
       "      <td>country_2</td>\n",
       "      <td>2458151281</td>\n",
       "      <td>Asia</td>\n",
       "    </tr>\n",
       "  </tbody>\n",
       "</table>\n",
       "</div>"
      ],
      "text/plain": [
       "      country     user_id   topic\n",
       "6   country_2  2458151267  Europe\n",
       "13  country_2  2458151274  Europe\n",
       "17  country_2  2458151278    Asia\n",
       "19  country_2  2458151280    Asia\n",
       "20  country_2  2458151281    Asia"
      ]
     },
     "execution_count": 86,
     "metadata": {},
     "output_type": "execute_result"
    }
   ],
   "source": [
    "#first let's filter out all data from country_2\n",
    "data = myTable[myTable.country == 'country_2']\n",
    "\n",
    "#then we us data[[list of element]] syntax to get what we want, .head function because we want first 5 row.\n",
    "data.head()[['country', 'user_id','topic']]\n"
   ]
  },
  {
   "cell_type": "markdown",
   "id": "fb9038b9",
   "metadata": {},
   "source": [
    "# aggregation methods"
   ]
  },
  {
   "cell_type": "markdown",
   "id": "fb461558",
   "metadata": {},
   "source": [
    "pandas aggregation methods — such as count(), sum(), min(), max(), etc. — and the pandas groupby() function"
   ]
  },
  {
   "cell_type": "code",
   "execution_count": 87,
   "id": "6c245962",
   "metadata": {},
   "outputs": [],
   "source": [
    "zoo = pd.read_csv(\"C:\\\\Users\\\\alan\\\\AI Project\\\\zoo.csv\")"
   ]
  },
  {
   "cell_type": "code",
   "execution_count": 88,
   "id": "5ff8ed3a",
   "metadata": {},
   "outputs": [
    {
     "data": {
      "text/html": [
       "<div>\n",
       "<style scoped>\n",
       "    .dataframe tbody tr th:only-of-type {\n",
       "        vertical-align: middle;\n",
       "    }\n",
       "\n",
       "    .dataframe tbody tr th {\n",
       "        vertical-align: top;\n",
       "    }\n",
       "\n",
       "    .dataframe thead th {\n",
       "        text-align: right;\n",
       "    }\n",
       "</style>\n",
       "<table border=\"1\" class=\"dataframe\">\n",
       "  <thead>\n",
       "    <tr style=\"text-align: right;\">\n",
       "      <th></th>\n",
       "      <th>animal</th>\n",
       "      <th>uniq_id</th>\n",
       "      <th>water_need</th>\n",
       "    </tr>\n",
       "  </thead>\n",
       "  <tbody>\n",
       "    <tr>\n",
       "      <th>0</th>\n",
       "      <td>elephant</td>\n",
       "      <td>1,001</td>\n",
       "      <td>500</td>\n",
       "    </tr>\n",
       "    <tr>\n",
       "      <th>1</th>\n",
       "      <td>elephant</td>\n",
       "      <td>1002</td>\n",
       "      <td>600</td>\n",
       "    </tr>\n",
       "    <tr>\n",
       "      <th>2</th>\n",
       "      <td>elephant</td>\n",
       "      <td>1003</td>\n",
       "      <td>550</td>\n",
       "    </tr>\n",
       "    <tr>\n",
       "      <th>3</th>\n",
       "      <td>tiger</td>\n",
       "      <td>1,004</td>\n",
       "      <td>300</td>\n",
       "    </tr>\n",
       "    <tr>\n",
       "      <th>4</th>\n",
       "      <td>tiger</td>\n",
       "      <td>1005</td>\n",
       "      <td>320</td>\n",
       "    </tr>\n",
       "    <tr>\n",
       "      <th>5</th>\n",
       "      <td>tiger</td>\n",
       "      <td>1006</td>\n",
       "      <td>330</td>\n",
       "    </tr>\n",
       "    <tr>\n",
       "      <th>6</th>\n",
       "      <td>tiger</td>\n",
       "      <td>1,007</td>\n",
       "      <td>290</td>\n",
       "    </tr>\n",
       "    <tr>\n",
       "      <th>7</th>\n",
       "      <td>tiger</td>\n",
       "      <td>1008</td>\n",
       "      <td>310</td>\n",
       "    </tr>\n",
       "    <tr>\n",
       "      <th>8</th>\n",
       "      <td>zebra</td>\n",
       "      <td>1009</td>\n",
       "      <td>200</td>\n",
       "    </tr>\n",
       "    <tr>\n",
       "      <th>9</th>\n",
       "      <td>zebra</td>\n",
       "      <td>1,010</td>\n",
       "      <td>220</td>\n",
       "    </tr>\n",
       "    <tr>\n",
       "      <th>10</th>\n",
       "      <td>zebra</td>\n",
       "      <td>1011</td>\n",
       "      <td>240</td>\n",
       "    </tr>\n",
       "    <tr>\n",
       "      <th>11</th>\n",
       "      <td>zebra</td>\n",
       "      <td>1012</td>\n",
       "      <td>230</td>\n",
       "    </tr>\n",
       "    <tr>\n",
       "      <th>12</th>\n",
       "      <td>zebra</td>\n",
       "      <td>1,013</td>\n",
       "      <td>220</td>\n",
       "    </tr>\n",
       "    <tr>\n",
       "      <th>13</th>\n",
       "      <td>zebra</td>\n",
       "      <td>1014</td>\n",
       "      <td>100</td>\n",
       "    </tr>\n",
       "    <tr>\n",
       "      <th>14</th>\n",
       "      <td>zebra</td>\n",
       "      <td>1015</td>\n",
       "      <td>80</td>\n",
       "    </tr>\n",
       "    <tr>\n",
       "      <th>15</th>\n",
       "      <td>lion</td>\n",
       "      <td>1,016</td>\n",
       "      <td>420</td>\n",
       "    </tr>\n",
       "    <tr>\n",
       "      <th>16</th>\n",
       "      <td>lion</td>\n",
       "      <td>1017</td>\n",
       "      <td>600</td>\n",
       "    </tr>\n",
       "    <tr>\n",
       "      <th>17</th>\n",
       "      <td>lion</td>\n",
       "      <td>1018</td>\n",
       "      <td>500</td>\n",
       "    </tr>\n",
       "    <tr>\n",
       "      <th>18</th>\n",
       "      <td>lion</td>\n",
       "      <td>1,019</td>\n",
       "      <td>390</td>\n",
       "    </tr>\n",
       "    <tr>\n",
       "      <th>19</th>\n",
       "      <td>kangaroo</td>\n",
       "      <td>1020</td>\n",
       "      <td>410</td>\n",
       "    </tr>\n",
       "    <tr>\n",
       "      <th>20</th>\n",
       "      <td>kangaroo</td>\n",
       "      <td>1021</td>\n",
       "      <td>430</td>\n",
       "    </tr>\n",
       "    <tr>\n",
       "      <th>21</th>\n",
       "      <td>kangaroo</td>\n",
       "      <td>1,022</td>\n",
       "      <td>410</td>\n",
       "    </tr>\n",
       "  </tbody>\n",
       "</table>\n",
       "</div>"
      ],
      "text/plain": [
       "      animal uniq_id  water_need\n",
       "0   elephant   1,001         500\n",
       "1   elephant    1002         600\n",
       "2   elephant    1003         550\n",
       "3      tiger   1,004         300\n",
       "4      tiger    1005         320\n",
       "5      tiger    1006         330\n",
       "6      tiger   1,007         290\n",
       "7      tiger    1008         310\n",
       "8      zebra    1009         200\n",
       "9      zebra   1,010         220\n",
       "10     zebra    1011         240\n",
       "11     zebra    1012         230\n",
       "12     zebra   1,013         220\n",
       "13     zebra    1014         100\n",
       "14     zebra    1015          80\n",
       "15      lion   1,016         420\n",
       "16      lion    1017         600\n",
       "17      lion    1018         500\n",
       "18      lion   1,019         390\n",
       "19  kangaroo    1020         410\n",
       "20  kangaroo    1021         430\n",
       "21  kangaroo   1,022         410"
      ]
     },
     "execution_count": 88,
     "metadata": {},
     "output_type": "execute_result"
    }
   ],
   "source": [
    "zoo"
   ]
  },
  {
   "cell_type": "markdown",
   "id": "3c7ba796",
   "metadata": {},
   "source": [
    "pandas count() The most basic aggregation method is counting."
   ]
  },
  {
   "cell_type": "code",
   "execution_count": 89,
   "id": "e8264fbc",
   "metadata": {},
   "outputs": [
    {
     "data": {
      "text/plain": [
       "animal        22\n",
       "uniq_id       22\n",
       "water_need    22\n",
       "dtype: int64"
      ]
     },
     "execution_count": 89,
     "metadata": {},
     "output_type": "execute_result"
    }
   ],
   "source": [
    "zoo.count()"
   ]
  },
  {
   "cell_type": "code",
   "execution_count": 90,
   "id": "e157855f",
   "metadata": {},
   "outputs": [
    {
     "data": {
      "text/plain": [
       "animal    22\n",
       "dtype: int64"
      ]
     },
     "execution_count": 90,
     "metadata": {},
     "output_type": "execute_result"
    }
   ],
   "source": [
    "zoo[['animal']].count()"
   ]
  },
  {
   "cell_type": "code",
   "execution_count": 91,
   "id": "d23af8c1",
   "metadata": {},
   "outputs": [
    {
     "data": {
      "text/plain": [
       "22"
      ]
     },
     "execution_count": 91,
     "metadata": {},
     "output_type": "execute_result"
    }
   ],
   "source": [
    "zoo.animal.count()"
   ]
  },
  {
   "cell_type": "code",
   "execution_count": 92,
   "id": "7c40f217",
   "metadata": {},
   "outputs": [
    {
     "data": {
      "text/plain": [
       "7650"
      ]
     },
     "execution_count": 92,
     "metadata": {},
     "output_type": "execute_result"
    }
   ],
   "source": [
    "# sum() in pandas\n",
    "zoo.water_need.sum()"
   ]
  },
  {
   "cell_type": "markdown",
   "id": "0cbc22ff",
   "metadata": {},
   "source": [
    "Pandas Data Aggregation: min() and max()"
   ]
  },
  {
   "cell_type": "code",
   "execution_count": 93,
   "id": "83c6675e",
   "metadata": {},
   "outputs": [
    {
     "data": {
      "text/plain": [
       "80"
      ]
     },
     "execution_count": 93,
     "metadata": {},
     "output_type": "execute_result"
    }
   ],
   "source": [
    "zoo.water_need.min()"
   ]
  },
  {
   "cell_type": "code",
   "execution_count": 94,
   "id": "74fd0d78",
   "metadata": {},
   "outputs": [
    {
     "data": {
      "text/plain": [
       "600"
      ]
     },
     "execution_count": 94,
     "metadata": {},
     "output_type": "execute_result"
    }
   ],
   "source": [
    "zoo.water_need.max()"
   ]
  },
  {
   "cell_type": "code",
   "execution_count": 95,
   "id": "eab62231",
   "metadata": {},
   "outputs": [
    {
     "data": {
      "text/plain": [
       "347.72727272727275"
      ]
     },
     "execution_count": 95,
     "metadata": {},
     "output_type": "execute_result"
    }
   ],
   "source": [
    "# average\n",
    "zoo.water_need.mean()"
   ]
  },
  {
   "cell_type": "code",
   "execution_count": 96,
   "id": "6f68b168",
   "metadata": {},
   "outputs": [
    {
     "data": {
      "text/plain": [
       "325.0"
      ]
     },
     "execution_count": 96,
     "metadata": {},
     "output_type": "execute_result"
    }
   ],
   "source": [
    "zoo.water_need.median()"
   ]
  },
  {
   "cell_type": "code",
   "execution_count": 97,
   "id": "d2081271",
   "metadata": {},
   "outputs": [
    {
     "name": "stderr",
     "output_type": "stream",
     "text": [
      "C:\\Users\\alan\\AppData\\Local\\Temp\\ipykernel_6600\\2080040003.py:1: FutureWarning: Dropping of nuisance columns in DataFrame reductions (with 'numeric_only=None') is deprecated; in a future version this will raise TypeError.  Select only valid columns before calling the reduction.\n",
      "  zoo.mean()\n"
     ]
    },
    {
     "data": {
      "text/plain": [
       "water_need    347.727273\n",
       "dtype: float64"
      ]
     },
     "execution_count": 97,
     "metadata": {},
     "output_type": "execute_result"
    }
   ],
   "source": [
    "# we will have an error\n",
    "zoo.mean()"
   ]
  },
  {
   "cell_type": "code",
   "execution_count": 98,
   "id": "fa675127",
   "metadata": {},
   "outputs": [
    {
     "data": {
      "text/html": [
       "<div>\n",
       "<style scoped>\n",
       "    .dataframe tbody tr th:only-of-type {\n",
       "        vertical-align: middle;\n",
       "    }\n",
       "\n",
       "    .dataframe tbody tr th {\n",
       "        vertical-align: top;\n",
       "    }\n",
       "\n",
       "    .dataframe thead th {\n",
       "        text-align: right;\n",
       "    }\n",
       "</style>\n",
       "<table border=\"1\" class=\"dataframe\">\n",
       "  <thead>\n",
       "    <tr style=\"text-align: right;\">\n",
       "      <th></th>\n",
       "      <th>water_need</th>\n",
       "    </tr>\n",
       "    <tr>\n",
       "      <th>animal</th>\n",
       "      <th></th>\n",
       "    </tr>\n",
       "  </thead>\n",
       "  <tbody>\n",
       "    <tr>\n",
       "      <th>elephant</th>\n",
       "      <td>550.000000</td>\n",
       "    </tr>\n",
       "    <tr>\n",
       "      <th>kangaroo</th>\n",
       "      <td>416.666667</td>\n",
       "    </tr>\n",
       "    <tr>\n",
       "      <th>lion</th>\n",
       "      <td>477.500000</td>\n",
       "    </tr>\n",
       "    <tr>\n",
       "      <th>tiger</th>\n",
       "      <td>310.000000</td>\n",
       "    </tr>\n",
       "    <tr>\n",
       "      <th>zebra</th>\n",
       "      <td>184.285714</td>\n",
       "    </tr>\n",
       "  </tbody>\n",
       "</table>\n",
       "</div>"
      ],
      "text/plain": [
       "          water_need\n",
       "animal              \n",
       "elephant  550.000000\n",
       "kangaroo  416.666667\n",
       "lion      477.500000\n",
       "tiger     310.000000\n",
       "zebra     184.285714"
      ]
     },
     "execution_count": 98,
     "metadata": {},
     "output_type": "execute_result"
    }
   ],
   "source": [
    "# if we use .groupby function then try to find mean\n",
    "zoo.groupby('animal').mean()"
   ]
  },
  {
   "cell_type": "code",
   "execution_count": 99,
   "id": "df139242",
   "metadata": {},
   "outputs": [
    {
     "data": {
      "text/html": [
       "<div>\n",
       "<style scoped>\n",
       "    .dataframe tbody tr th:only-of-type {\n",
       "        vertical-align: middle;\n",
       "    }\n",
       "\n",
       "    .dataframe tbody tr th {\n",
       "        vertical-align: top;\n",
       "    }\n",
       "\n",
       "    .dataframe thead th {\n",
       "        text-align: right;\n",
       "    }\n",
       "</style>\n",
       "<table border=\"1\" class=\"dataframe\">\n",
       "  <thead>\n",
       "    <tr style=\"text-align: right;\">\n",
       "      <th></th>\n",
       "      <th>uniq_id</th>\n",
       "      <th>water_need</th>\n",
       "    </tr>\n",
       "    <tr>\n",
       "      <th>animal</th>\n",
       "      <th></th>\n",
       "      <th></th>\n",
       "    </tr>\n",
       "  </thead>\n",
       "  <tbody>\n",
       "    <tr>\n",
       "      <th>elephant</th>\n",
       "      <td>3</td>\n",
       "      <td>3</td>\n",
       "    </tr>\n",
       "    <tr>\n",
       "      <th>kangaroo</th>\n",
       "      <td>3</td>\n",
       "      <td>3</td>\n",
       "    </tr>\n",
       "    <tr>\n",
       "      <th>lion</th>\n",
       "      <td>4</td>\n",
       "      <td>4</td>\n",
       "    </tr>\n",
       "    <tr>\n",
       "      <th>tiger</th>\n",
       "      <td>5</td>\n",
       "      <td>5</td>\n",
       "    </tr>\n",
       "    <tr>\n",
       "      <th>zebra</th>\n",
       "      <td>7</td>\n",
       "      <td>7</td>\n",
       "    </tr>\n",
       "  </tbody>\n",
       "</table>\n",
       "</div>"
      ],
      "text/plain": [
       "          uniq_id  water_need\n",
       "animal                       \n",
       "elephant        3           3\n",
       "kangaroo        3           3\n",
       "lion            4           4\n",
       "tiger           5           5\n",
       "zebra           7           7"
      ]
     },
     "execution_count": 99,
     "metadata": {},
     "output_type": "execute_result"
    }
   ],
   "source": [
    "zoo.groupby('animal').count()"
   ]
  },
  {
   "cell_type": "code",
   "execution_count": 119,
   "id": "46e3455a",
   "metadata": {},
   "outputs": [
    {
     "data": {
      "text/plain": [
       "animal\n",
       "elephant    3\n",
       "kangaroo    3\n",
       "lion        4\n",
       "tiger       5\n",
       "zebra       7\n",
       "Name: uniq_id, dtype: int64"
      ]
     },
     "execution_count": 119,
     "metadata": {},
     "output_type": "execute_result"
    }
   ],
   "source": [
    "zoo.groupby('animal')['uniq_id'].count()"
   ]
  },
  {
   "cell_type": "markdown",
   "id": "b12ac8ea",
   "metadata": {},
   "source": [
    "# Task2"
   ]
  },
  {
   "cell_type": "markdown",
   "id": "729bab91",
   "metadata": {},
   "source": [
    "1.What’s the most frequent source in the article_read dataframe?"
   ]
  },
  {
   "cell_type": "markdown",
   "id": "a7c3cbb1",
   "metadata": {},
   "source": [
    "2.For the users of country_2, what was the most frequent topic and source combination? Or in other words: which topic, from which source, brought the most views from country_2?"
   ]
  },
  {
   "cell_type": "code",
   "execution_count": 103,
   "id": "1caf9b68",
   "metadata": {},
   "outputs": [
    {
     "data": {
      "text/html": [
       "<div>\n",
       "<style scoped>\n",
       "    .dataframe tbody tr th:only-of-type {\n",
       "        vertical-align: middle;\n",
       "    }\n",
       "\n",
       "    .dataframe tbody tr th {\n",
       "        vertical-align: top;\n",
       "    }\n",
       "\n",
       "    .dataframe thead th {\n",
       "        text-align: right;\n",
       "    }\n",
       "</style>\n",
       "<table border=\"1\" class=\"dataframe\">\n",
       "  <thead>\n",
       "    <tr style=\"text-align: right;\">\n",
       "      <th></th>\n",
       "      <th>my_datetime</th>\n",
       "      <th>event</th>\n",
       "      <th>country</th>\n",
       "      <th>user_id</th>\n",
       "      <th>topic</th>\n",
       "    </tr>\n",
       "    <tr>\n",
       "      <th>source</th>\n",
       "      <th></th>\n",
       "      <th></th>\n",
       "      <th></th>\n",
       "      <th></th>\n",
       "      <th></th>\n",
       "    </tr>\n",
       "  </thead>\n",
       "  <tbody>\n",
       "    <tr>\n",
       "      <th>AdWords</th>\n",
       "      <td>500</td>\n",
       "      <td>500</td>\n",
       "      <td>500</td>\n",
       "      <td>500</td>\n",
       "      <td>500</td>\n",
       "    </tr>\n",
       "    <tr>\n",
       "      <th>Reddit</th>\n",
       "      <td>949</td>\n",
       "      <td>949</td>\n",
       "      <td>949</td>\n",
       "      <td>949</td>\n",
       "      <td>949</td>\n",
       "    </tr>\n",
       "    <tr>\n",
       "      <th>SEO</th>\n",
       "      <td>346</td>\n",
       "      <td>346</td>\n",
       "      <td>346</td>\n",
       "      <td>346</td>\n",
       "      <td>346</td>\n",
       "    </tr>\n",
       "  </tbody>\n",
       "</table>\n",
       "</div>"
      ],
      "text/plain": [
       "         my_datetime  event  country  user_id  topic\n",
       "source                                              \n",
       "AdWords          500    500      500      500    500\n",
       "Reddit           949    949      949      949    949\n",
       "SEO              346    346      346      346    346"
      ]
     },
     "execution_count": 103,
     "metadata": {},
     "output_type": "execute_result"
    }
   ],
   "source": [
    "#1 use groupby to group all different source, then use count() method \n",
    "\n",
    "myTable.groupby('source').count()\n",
    "\n",
    "# we will find out that Reddit has most source 949, then follow by AdWords 500, then SEO 346"
   ]
  },
  {
   "cell_type": "code",
   "execution_count": 129,
   "id": "03e539c5",
   "metadata": {},
   "outputs": [
    {
     "data": {
      "text/plain": [
       "source\n",
       "AdWords    111\n",
       "Reddit     263\n",
       "SEO         88\n",
       "Name: topic, dtype: int64"
      ]
     },
     "execution_count": 129,
     "metadata": {},
     "output_type": "execute_result"
    }
   ],
   "source": [
    "#first let's filter out all data from country_2\n",
    "data = myTable[myTable.country == 'country_2']\n",
    "\n",
    "#use .groupby to find\n",
    "\n",
    "data.groupby('source')['topic'].count()"
   ]
  },
  {
   "cell_type": "code",
   "execution_count": null,
   "id": "49f31d7d",
   "metadata": {},
   "outputs": [],
   "source": []
  },
  {
   "cell_type": "code",
   "execution_count": null,
   "id": "76e5c397",
   "metadata": {},
   "outputs": [],
   "source": []
  },
  {
   "cell_type": "code",
   "execution_count": null,
   "id": "919b40ac",
   "metadata": {},
   "outputs": [],
   "source": []
  },
  {
   "cell_type": "code",
   "execution_count": null,
   "id": "4931ee4a",
   "metadata": {},
   "outputs": [],
   "source": []
  },
  {
   "cell_type": "code",
   "execution_count": null,
   "id": "dd9afd7b",
   "metadata": {},
   "outputs": [],
   "source": []
  },
  {
   "cell_type": "code",
   "execution_count": null,
   "id": "4c10f8a0",
   "metadata": {},
   "outputs": [],
   "source": []
  }
 ],
 "metadata": {
  "kernelspec": {
   "display_name": "Python 3 (ipykernel)",
   "language": "python",
   "name": "python3"
  },
  "language_info": {
   "codemirror_mode": {
    "name": "ipython",
    "version": 3
   },
   "file_extension": ".py",
   "mimetype": "text/x-python",
   "name": "python",
   "nbconvert_exporter": "python",
   "pygments_lexer": "ipython3",
   "version": "3.9.13"
  }
 },
 "nbformat": 4,
 "nbformat_minor": 5
}
