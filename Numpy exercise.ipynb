{
 "cells": [
  {
   "cell_type": "markdown",
   "id": "547ab4c2",
   "metadata": {},
   "source": [
    "1. Import the numpy package under the name `np` and print the numpy version.\n"
   ]
  },
  {
   "cell_type": "code",
   "execution_count": 9,
   "id": "8fb160ed",
   "metadata": {},
   "outputs": [
    {
     "name": "stdout",
     "output_type": "stream",
     "text": [
      "1.21.5\n"
     ]
    }
   ],
   "source": [
    "import numpy as np\n",
    "print(np.__version__)"
   ]
  },
  {
   "cell_type": "markdown",
   "id": "790558f1",
   "metadata": {},
   "source": [
    "2. How to find the memory size of any array."
   ]
  },
  {
   "cell_type": "code",
   "execution_count": 10,
   "id": "11494acc",
   "metadata": {},
   "outputs": [
    {
     "name": "stdout",
     "output_type": "stream",
     "text": [
      "Memory size of one array element in bytes:  4\n"
     ]
    }
   ],
   "source": [
    "x = np.array([100,20,34,100,22,445,555])\n",
    "print(\"Memory size of one array element in bytes: \",\n",
    "      x.itemsize)"
   ]
  },
  {
   "cell_type": "markdown",
   "id": "700d281b",
   "metadata": {},
   "source": [
    "3. Create a vector with values ranging from 15 to 25."
   ]
  },
  {
   "cell_type": "code",
   "execution_count": 12,
   "id": "e36231d1",
   "metadata": {},
   "outputs": [
    {
     "name": "stdout",
     "output_type": "stream",
     "text": [
      "[15 16 17 18 19 20 21 22 23 24 25]\n"
     ]
    }
   ],
   "source": [
    "v = np.arange(15,26)\n",
    "print(v)"
   ]
  },
  {
   "cell_type": "markdown",
   "id": "b34bdfaa",
   "metadata": {},
   "source": [
    "4. Reverse a vector."
   ]
  },
  {
   "cell_type": "code",
   "execution_count": 13,
   "id": "23e57e95",
   "metadata": {},
   "outputs": [
    {
     "name": "stdout",
     "output_type": "stream",
     "text": [
      "[25 24 23 22 21 20 19 18 17 16 15]\n"
     ]
    }
   ],
   "source": [
    "print(v[::-1])"
   ]
  },
  {
   "cell_type": "markdown",
   "id": "3c22cee0",
   "metadata": {},
   "source": [
    "5. Find indices of non-zero elements from [9,4,0,0,4,5]."
   ]
  },
  {
   "cell_type": "code",
   "execution_count": 23,
   "id": "6b4451f2",
   "metadata": {},
   "outputs": [
    {
     "name": "stdout",
     "output_type": "stream",
     "text": [
      "[2, 3]\n"
     ]
    }
   ],
   "source": [
    "arr1 = np.array([9,4,0,0,4,5])\n",
    "my_list = []\n",
    "for i in range(0,len(arr1)):\n",
    "    if arr[i] == 0 :\n",
    "        my_list.append(i)\n",
    "print(my_list)"
   ]
  },
  {
   "cell_type": "markdown",
   "id": "ea36b1ef",
   "metadata": {},
   "source": [
    "6. Create a 10x10 array with random values and find the minimum and maximum values."
   ]
  },
  {
   "cell_type": "code",
   "execution_count": 39,
   "id": "5834b9ad",
   "metadata": {},
   "outputs": [
    {
     "name": "stdout",
     "output_type": "stream",
     "text": [
      "[[84.86134247 83.45244834 20.7167754  31.6986776   2.61709448 78.37308705\n",
      "  33.20076866 82.45418393 45.85217082 26.21190505]\n",
      " [75.62967718 14.90479659 47.4922064  69.32657683 58.1856821  24.25256361\n",
      "  76.33592239 91.41071597 56.77981548  2.6278164 ]\n",
      " [59.20096735 19.06582065 45.51212711 29.00957409 86.25755642 22.18948396\n",
      "  92.99760115 80.86590697  7.58726014 75.74485106]\n",
      " [71.37417162 42.85751057 49.65343011 32.37628053 87.0656791   1.39671653\n",
      "   1.09588125 49.46714863 84.07022351 84.05853328]\n",
      " [45.22186717 45.49936413 93.79961579 83.17025771 55.80935366 63.85442358\n",
      "  57.57024711 14.83169493  1.20815741 39.69295217]\n",
      " [12.69036544 61.36012725 10.69346764 28.09750813 34.65128659 63.51341651\n",
      "  40.04171233 10.78294657 33.45563371 31.05025373]\n",
      " [12.63741546 21.1869107  97.69044252  8.95999663 37.639837   94.32994455\n",
      "   4.91203228 27.23682526 10.32542871 40.97921064]\n",
      " [60.94129496 50.81427429  7.02207977 88.36647009 17.77963342 69.71836706\n",
      "  54.42992583 85.32684004 81.30603166 12.72475895]\n",
      " [16.27480249 43.95485013 84.6505467  13.01613428 42.89118493 71.8763569\n",
      "  94.46719533 40.90899535 39.068003    6.73837386]\n",
      " [73.05747094 11.7517621  22.9304722  99.98997841 15.78482796 78.88873854\n",
      "  34.89647357 18.46724119 44.71288458 55.05772874]]\n",
      "max is  99.98997840576895\n",
      "min is  1.0958812475819424\n"
     ]
    }
   ],
   "source": [
    "matrix = np.random.rand(10,10)*100\n",
    "print(matrix)\n",
    "max = matrix.max()\n",
    "print('max is ' , max)\n",
    "min = matrix.min()\n",
    "print('min is ' , min)"
   ]
  },
  {
   "cell_type": "code",
   "execution_count": 36,
   "id": "e40eb9b1",
   "metadata": {},
   "outputs": [
    {
     "name": "stdout",
     "output_type": "stream",
     "text": [
      "Original Array:\n",
      "[[0.84678396 0.36094434 0.29616111 0.95567767 0.19410474]\n",
      " [0.41493818 0.37876862 0.96602032 0.11684303 0.24319752]\n",
      " [0.03889371 0.53609716 0.17964508 0.99137992 0.98179593]\n",
      " [0.82739754 0.06524686 0.53585006 0.31963566 0.27891232]\n",
      " [0.53094603 0.56715186 0.83371499 0.24935418 0.17942383]]\n",
      "After normalization:\n",
      "[[0.84819102 0.3381158  0.27010092 0.96251679 0.16295357]\n",
      " [0.39480306 0.35682922 0.97337536 0.08183775 0.2144953 ]\n",
      " [0.         0.52200594 0.14777261 1.         0.98993792]\n",
      " [0.82783753 0.02766775 0.5217465  0.29474648 0.25199169]\n",
      " [0.51659785 0.55460976 0.83447012 0.22095908 0.14754033]]\n"
     ]
    }
   ],
   "source": [
    "x= np.random.random((5,5))\n",
    "print(\"Original Array:\")\n",
    "print(x)\n",
    "xmax, xmin = x.max(), x.min()\n",
    "x = (x - xmin)/(xmax - xmin)\n",
    "print(\"After normalization:\")\n",
    "print(x)"
   ]
  },
  {
   "cell_type": "code",
   "execution_count": null,
   "id": "0383b883",
   "metadata": {},
   "outputs": [],
   "source": []
  }
 ],
 "metadata": {
  "kernelspec": {
   "display_name": "Python 3 (ipykernel)",
   "language": "python",
   "name": "python3"
  },
  "language_info": {
   "codemirror_mode": {
    "name": "ipython",
    "version": 3
   },
   "file_extension": ".py",
   "mimetype": "text/x-python",
   "name": "python",
   "nbconvert_exporter": "python",
   "pygments_lexer": "ipython3",
   "version": "3.9.13"
  }
 },
 "nbformat": 4,
 "nbformat_minor": 5
}
