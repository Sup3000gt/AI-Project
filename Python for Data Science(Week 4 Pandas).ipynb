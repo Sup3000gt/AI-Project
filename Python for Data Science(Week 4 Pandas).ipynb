{
 "cells": [
  {
   "cell_type": "markdown",
   "id": "7589129b",
   "metadata": {},
   "source": [
    "# Pandas library\n",
    " - data variety support\n",
    " - data integration\n",
    " - data transformation\n",
    " - Visualizations\n",
    " - time-series data\n",
    " - descriptive statistics"
   ]
  },
  {
   "cell_type": "markdown",
   "id": "970f5f30",
   "metadata": {},
   "source": [
    "## Two main Data Structure\n",
    "### pandas Series\n",
    "        - A 1-dimensional labeled array\n",
    "        - Support many data types\n",
    "        - Axis labels → index\n",
    "            - Get and set values by index label\n",
    "        - Valid argument to most Numpy methods\n",
    "### pandas DataFrame\n",
    "        - A 2-dimensional labeled data structure\n",
    "        - A dictionary of series objects\n",
    "            - Columns can be of potentially different types\n",
    "Panda provides many constructors to create DataFrames!"
   ]
  },
  {
   "cell_type": "markdown",
   "id": "1b6724e2",
   "metadata": {},
   "source": [
    "Pandas support all steps ofd DS pipeline\n",
    "- Import\n",
    "- Transformation\n",
    "- Visualize"
   ]
  },
  {
   "cell_type": "code",
   "execution_count": null,
   "id": "a85c1a4b",
   "metadata": {},
   "outputs": [],
   "source": []
  },
  {
   "cell_type": "code",
   "execution_count": null,
   "id": "d9f87d60",
   "metadata": {},
   "outputs": [],
   "source": []
  },
  {
   "cell_type": "code",
   "execution_count": null,
   "id": "5f11fbdc",
   "metadata": {},
   "outputs": [],
   "source": []
  },
  {
   "cell_type": "code",
   "execution_count": null,
   "id": "a9e39fbd",
   "metadata": {},
   "outputs": [],
   "source": []
  },
  {
   "cell_type": "code",
   "execution_count": null,
   "id": "3d3f9139",
   "metadata": {},
   "outputs": [],
   "source": []
  },
  {
   "cell_type": "code",
   "execution_count": null,
   "id": "425f8996",
   "metadata": {},
   "outputs": [],
   "source": []
  }
 ],
 "metadata": {
  "kernelspec": {
   "display_name": "Python 3 (ipykernel)",
   "language": "python",
   "name": "python3"
  },
  "language_info": {
   "codemirror_mode": {
    "name": "ipython",
    "version": 3
   },
   "file_extension": ".py",
   "mimetype": "text/x-python",
   "name": "python",
   "nbconvert_exporter": "python",
   "pygments_lexer": "ipython3",
   "version": "3.9.13"
  }
 },
 "nbformat": 4,
 "nbformat_minor": 5
}
