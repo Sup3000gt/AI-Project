{
 "cells": [
  {
   "cell_type": "code",
   "execution_count": 2,
   "id": "cf0631af",
   "metadata": {},
   "outputs": [],
   "source": [
    "import numpy as np"
   ]
  },
  {
   "cell_type": "markdown",
   "id": "e0bd1d18",
   "metadata": {},
   "source": [
    "# Key features of numpy\n",
    "- Multi-dimensional arrays\n",
    "- Built-in array operations\n",
    "- Simplified, but powerful array interactions --\n",
    "- integreation of other languages (Fortrans, C, C++)"
   ]
  },
  {
   "cell_type": "markdown",
   "id": "778a7896",
   "metadata": {},
   "source": [
    "### Why numpy for data science?\n",
    "- Speed\n",
    "- Functionality\n",
    "- Many packages are built on Numpy"
   ]
  },
  {
   "cell_type": "code",
   "execution_count": 5,
   "id": "02c6488b",
   "metadata": {},
   "outputs": [],
   "source": [
    "x = np.empty((5, 5))"
   ]
  },
  {
   "cell_type": "code",
   "execution_count": 6,
   "id": "4984d70a",
   "metadata": {},
   "outputs": [
    {
     "data": {
      "text/plain": [
       "array([[0., 0., 0., 0., 0.],\n",
       "       [0., 0., 0., 0., 0.],\n",
       "       [0., 0., 0., 0., 0.],\n",
       "       [0., 0., 0., 0., 0.],\n",
       "       [0., 0., 0., 0., 0.]])"
      ]
     },
     "execution_count": 6,
     "metadata": {},
     "output_type": "execute_result"
    }
   ],
   "source": [
    "x"
   ]
  },
  {
   "cell_type": "code",
   "execution_count": null,
   "id": "27725fba",
   "metadata": {},
   "outputs": [],
   "source": []
  }
 ],
 "metadata": {
  "kernelspec": {
   "display_name": "Python 3 (ipykernel)",
   "language": "python",
   "name": "python3"
  },
  "language_info": {
   "codemirror_mode": {
    "name": "ipython",
    "version": 3
   },
   "file_extension": ".py",
   "mimetype": "text/x-python",
   "name": "python",
   "nbconvert_exporter": "python",
   "pygments_lexer": "ipython3",
   "version": "3.9.13"
  }
 },
 "nbformat": 4,
 "nbformat_minor": 5
}
