{
  "nbformat": 4,
  "nbformat_minor": 0,
  "metadata": {
    "colab": {
      "provenance": []
    },
    "kernelspec": {
      "name": "python3",
      "display_name": "Python 3"
    },
    "language_info": {
      "name": "python"
    }
  },
  "cells": [
    {
      "cell_type": "code",
      "execution_count": null,
      "metadata": {
        "id": "pkoc4hLZNSkv"
      },
      "outputs": [],
      "source": []
    },
    {
      "cell_type": "markdown",
      "source": [
        "1. Import the numpy package under the name `np` and print the numpy version.\n",
        "2. How to find the memory size of any array.\n",
        "3. Create a vector with values ranging from 15 to 25.\n",
        "4. Reverse a vector.\n",
        "5. Find indices of non-zero elements from [9,4,0,0,4,5].\n",
        "6. Create a 10x10 array with random values and find the minimum and maximum values.\n",
        "7. Normalize a 5x5 random matrix.\n",
        "8. Multiply a 5x3 matrix by a 3x2 matrix.\n",
        "9. Create random vector of size 10 and replace the maximum value by 0.\n",
        "10. Create a null vector of size 10 but the fifth value which is 1."
      ],
      "metadata": {
        "id": "soIwlFfMN8ml"
      }
    },
    {
      "cell_type": "code",
      "source": [],
      "metadata": {
        "id": "q2_QITazRCQX"
      },
      "execution_count": null,
      "outputs": []
    }
  ]
}