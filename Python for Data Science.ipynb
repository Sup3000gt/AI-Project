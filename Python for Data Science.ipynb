{
 "cells": [
  {
   "cell_type": "markdown",
   "id": "b99349e4",
   "metadata": {},
   "source": [
    "Two main goal in the data pre-processing steps"
   ]
  },
  {
   "cell_type": "markdown",
   "id": "9f0d81f2",
   "metadata": {},
   "source": [
    "Clean + Transform\n",
    "clean the data, and transform to the format that is ready for analysis"
   ]
  },
  {
   "cell_type": "markdown",
   "id": "ef9e578d",
   "metadata": {},
   "source": [
    "Real world data is messy!\n",
    "- Inconsistent values\n",
    "- Duplicate records\n",
    "- Missing values\n",
    "- Invalid data\n",
    "- Outliers"
   ]
  },
  {
   "cell_type": "code",
   "execution_count": null,
   "id": "c20ce7b0",
   "metadata": {},
   "outputs": [],
   "source": []
  }
 ],
 "metadata": {
  "kernelspec": {
   "display_name": "Python 3 (ipykernel)",
   "language": "python",
   "name": "python3"
  },
  "language_info": {
   "codemirror_mode": {
    "name": "ipython",
    "version": 3
   },
   "file_extension": ".py",
   "mimetype": "text/x-python",
   "name": "python",
   "nbconvert_exporter": "python",
   "pygments_lexer": "ipython3",
   "version": "3.9.13"
  }
 },
 "nbformat": 4,
 "nbformat_minor": 5
}
